{
 "cells": [
  {
   "cell_type": "code",
   "execution_count": 1,
   "id": "c242dc17-dfa3-4a64-8695-7fe96f55b344",
   "metadata": {},
   "outputs": [],
   "source": [
    "import numpy as np"
   ]
  },
  {
   "cell_type": "code",
   "execution_count": 38,
   "id": "2db13984-c6b6-4264-be3e-723c47515b58",
   "metadata": {},
   "outputs": [
    {
     "name": "stdout",
     "output_type": "stream",
     "text": [
      "[[ 0.+0.j -0.-1.j]\n",
      " [ 0.+1.j  0.+0.j]]\n",
      "Is H a Hermitian matrix? True\n",
      "\n",
      "[[ 0.+0.j  1.-0.j]\n",
      " [-1.+0.j  0.+0.j]]\n",
      "Is iH a Hermitian matrix? False\n",
      "\n",
      "Compute by definition\n",
      "[[ 0.5403023 +0.j  0.84147098+0.j]\n",
      " [-0.84147098+0.j  0.5403023 +0.j]]\n",
      "\n",
      "Compute with scipy\n",
      "[[ 0.54030231+0.j  0.84147098+0.j]\n",
      " [-0.84147098+0.j  0.54030231+0.j]]\n"
     ]
    }
   ],
   "source": [
    "H = np.array([[0, -1j], [1j, 0]])\n",
    "print(H)\n",
    "print(\"Is H a Hermitian matrix?\", np.allclose(H, H.T.conj()))\n",
    "print()\n",
    "iH = 1j * H\n",
    "print(iH)\n",
    "print(\"Is iH a Hermitian matrix?\", np.allclose(iH, iH.T.conj()))\n",
    "print()\n",
    "\n",
    "print(\"Compute by definition\")\n",
    "U = np.eye(2, dtype=np.complex128)\n",
    "fact = 1\n",
    "for i in range(1, 12):\n",
    "    fact *= i\n",
    "    U += np.linalg.matrix_power(iH, i) / fact\n",
    "\n",
    "print(U)\n",
    "print()\n",
    "print(\"Compute with scipy\")\n",
    "from scipy import linalg\n",
    "print(linalg.expm(1j * H))"
   ]
  },
  {
   "cell_type": "markdown",
   "id": "6e8d9072-76ab-4b01-b113-d01354a9d3e3",
   "metadata": {},
   "source": [
    "# TODO 1\n",
    "Prove $U$ is Unitary"
   ]
  },
  {
   "cell_type": "code",
   "execution_count": 35,
   "id": "c60ffd37-2f5a-4fa0-8a99-5097fbea8cba",
   "metadata": {},
   "outputs": [
    {
     "data": {
      "text/plain": [
       "True"
      ]
     },
     "execution_count": 35,
     "metadata": {},
     "output_type": "execute_result"
    }
   ],
   "source": []
  },
  {
   "cell_type": "markdown",
   "id": "15a57300-b52c-4e8f-a44b-809bfafaf62f",
   "metadata": {},
   "source": [
    "# TODO 2\n",
    "Find eigenvalues (and their absolute values) and eignevectors of U"
   ]
  },
  {
   "cell_type": "code",
   "execution_count": 46,
   "id": "64a0bcf4-5c4f-4f04-a65a-7dd27309c984",
   "metadata": {},
   "outputs": [
    {
     "name": "stdout",
     "output_type": "stream",
     "text": [
      "Eigenvalues:  [0.5403023+0.84147098j 0.5403023-0.84147098j]\n",
      "Eigenvalues: absolute values are [1. 1.]\n"
     ]
    }
   ],
   "source": []
  }
 ],
 "metadata": {
  "kernelspec": {
   "display_name": "Python [conda env:qiskit]",
   "language": "python",
   "name": "conda-env-qiskit-py"
  },
  "language_info": {
   "codemirror_mode": {
    "name": "ipython",
    "version": 3
   },
   "file_extension": ".py",
   "mimetype": "text/x-python",
   "name": "python",
   "nbconvert_exporter": "python",
   "pygments_lexer": "ipython3",
   "version": "3.9.6"
  }
 },
 "nbformat": 4,
 "nbformat_minor": 5
}
