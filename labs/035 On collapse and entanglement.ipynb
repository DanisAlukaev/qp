{
 "cells": [
  {
   "cell_type": "markdown",
   "id": "8283e2db-a5c9-4ad6-b364-057f32ce87fa",
   "metadata": {},
   "source": [
    "# What will happen if we collapse a qubit in entangled pair?\n",
    "\n",
    "### Step by step. For just a simple superposed pair"
   ]
  },
  {
   "cell_type": "code",
   "execution_count": 29,
   "id": "d1618c5c-d1be-4753-a68a-4468a0b77978",
   "metadata": {},
   "outputs": [
    {
     "name": "stdout",
     "output_type": "stream",
     "text": [
      "[[0.42426407+0.j        ]\n",
      " [0.        +0.56568542j]\n",
      " [0.42426407+0.j        ]\n",
      " [0.        +0.56568542j]]\n",
      "\n",
      " + (0.42+0j)|00> + 0.57j|01> + (0.42+0j)|10> + 0.57j|11>"
     ]
    }
   ],
   "source": [
    "import numpy as np\n",
    "\n",
    "# equal superposition\n",
    "qubit0 = np.array([[0.5 ** 0.5, 0.5 ** 0.5]]).T\n",
    "\n",
    "# non-equal\n",
    "qubit1 = np.array([[0.6, 0.8j]]).T\n",
    "\n",
    "statevector = np.kron(qubit0, qubit1)\n",
    "print(statevector)\n",
    "\n",
    "print()\n",
    "\n",
    "for i in range(4):\n",
    "    print(f\" + {statevector[i, 0]:.2}|{i:02b}>\", end='')"
   ]
  },
  {
   "cell_type": "markdown",
   "id": "e0c8108d-8718-467f-a89e-4423efd41c56",
   "metadata": {},
   "source": [
    "### What is the probability to observe $|11\\rangle$?"
   ]
  },
  {
   "cell_type": "code",
   "execution_count": 10,
   "id": "c210a8cd-14f0-4d00-b8aa-2d265d3d336a",
   "metadata": {},
   "outputs": [],
   "source": [
    "state = np.array([[0, 0, 0, 1]]).T\n",
    "\n",
    "\n",
    "# TODO write the code to find a probability\n",
    "prob = ...\n",
    "\n",
    "assert (abs(qubit0[1]) ** 2) * (abs(qubit1[1]) ** 2) == prob, \"Model return other value!\""
   ]
  },
  {
   "cell_type": "markdown",
   "id": "31633c08-5696-4596-9f55-24bcb9bcb7e5",
   "metadata": {},
   "source": [
    "Can we observe this easier? Yes, in [matrix form](https://en.wikipedia.org/wiki/Matrix_mechanics)! This is called [density matrix](https://en.wikipedia.org/wiki/Density_matrix).\n",
    "\n",
    "Matrix representation can be observed as $|\\psi\\rangle\\langle\\psi|$, and diagonal elements are probability of observed states.\n",
    "\n",
    "Obtain this matrix using the definition:"
   ]
  },
  {
   "cell_type": "code",
   "execution_count": 33,
   "id": "ed39347b-8294-40c1-8a20-4e25fc455bfe",
   "metadata": {},
   "outputs": [
    {
     "name": "stdout",
     "output_type": "stream",
     "text": [
      "[[0.18+0.j   0.  -0.24j 0.18+0.j   0.  -0.24j]\n",
      " [0.  +0.24j 0.32+0.j   0.  +0.24j 0.32+0.j  ]\n",
      " [0.18+0.j   0.  -0.24j 0.18+0.j   0.  -0.24j]\n",
      " [0.  +0.24j 0.32+0.j   0.  +0.24j 0.32+0.j  ]]\n",
      "\n",
      "prob of |11> id (0.3200000000000001+0j)\n"
     ]
    }
   ],
   "source": [
    "densitymatrix = statevector @ statevector.T.conj()\n",
    "print(densitymatrix)\n",
    "print(f\"\\nprob of |11> id {densitymatrix[0b11, 0b11]}\")"
   ]
  },
  {
   "cell_type": "markdown",
   "id": "61333c69-d49a-48d2-86b8-c2857fbc4018",
   "metadata": {},
   "source": [
    "What is a probabilty to mesure a single qubit without respect to the other?\n",
    "\n",
    "[Theory says](https://edu.itp.phys.ethz.ch/hs14/QIT/Solutions3.pdf) to find density matrix of one qubit we should compute $\\rho_A = Tr_B(\\rho_{AB})=\\sum_{k=1}^{n}\\langle k_B|\\rho_{AB}|k_B\\rangle = \\langle 0_B | \\rho_{AB} |0_B \\rangle + \\langle 1_B | \\rho_{AB} | 1_B\\rangle$\n",
    "\n",
    "### But what is we MEASURE a single qubit?\n",
    "\n",
    "This is addressed in [stackexchange answer](https://quantumcomputing.stackexchange.com/questions/1206/how-does-measurement-of-one-qubit-affect-the-others).\n",
    "\n",
    "$r(\\langle0|\\otimes I)\\times(a|00\\rangle+b|01\\rangle+c|10\\rangle+d|11\\rangle)$.\n",
    "\n",
    "Then:\n",
    "$r(a\\langle0|0\\rangle\\otimes|0\\rangle+b\\langle0|0\\rangle\\otimes|1\\rangle+c\\langle0|1\\rangle\\otimes|0\\rangle+d\\langle0|1\\rangle\\otimes|1\\rangle)$.\n",
    "\n",
    "Thus remains in a superposition.\n",
    "\n",
    "$r(a|0\\rangle+b|1\\rangle)=\\frac{1}{\\sqrt{|a|^2+|b|^2}}(a|0\\rangle+b|1\\rangle)$\n",
    "\n",
    "How it apply to our example?"
   ]
  },
  {
   "cell_type": "code",
   "execution_count": 133,
   "id": "a36100c1-e6f8-42b4-a103-3bbe898811a2",
   "metadata": {},
   "outputs": [
    {
     "name": "stdout",
     "output_type": "stream",
     "text": [
      "[[0.6+0.j ]\n",
      " [0. +0.8j]]\n",
      "[[0.6+0.j ]\n",
      " [0. +0.8j]]\n"
     ]
    }
   ],
   "source": [
    "for v in ([[1, 0]], [[0, 1]]):\n",
    "    operation = np.kron(np.array(v), np.eye(2))\n",
    "    mult = operation @ statevector\n",
    "\n",
    "    #TODO apply normalization!\n",
    "    norm = ...\n",
    "    mult /= norm\n",
    "\n",
    "    print(mult)"
   ]
  },
  {
   "cell_type": "markdown",
   "id": "5effbdf6-096b-4db4-9e09-de68a3b3ede1",
   "metadata": {},
   "source": [
    "When measuring in either state, this does not affect the probabilities of the other qubit.\n",
    "\n",
    "# But when entangled, it does\n",
    "\n",
    "As soon as you measure one, the numbers corresoponding to probabilities of the other CHANGE!\n",
    "\n",
    "This is entangled, but not pure state.\n",
    "\n",
    "Observe how measurement of first qubit in either 0 or 1 influences probabilities of second qubit."
   ]
  },
  {
   "cell_type": "code",
   "execution_count": 134,
   "id": "5db704cc-4e38-4c50-8bc6-fc0a885f0593",
   "metadata": {},
   "outputs": [
    {
     "data": {
      "image/png": "[encoded data removed]",
      "text/plain": [
       "<Figure size 387.452x204.68 with 1 Axes>"
      ]
     },
     "metadata": {},
     "output_type": "display_data"
    },
    {
     "name": "stdout",
     "output_type": "stream",
     "text": [
      "State vector:  [0.99123926 0.         0.13207847 0.        ]\n",
      "State vector:  [0.99123926 0.         0.13207847 0.        ]\n",
      "State vector:  [0.99123926 0.         0.13207847 0.        ]\n",
      "State vector:  [0.         0.70710678 0.         0.70710678]\n",
      "State vector:  [0.         0.70710678 0.         0.70710678]\n",
      "State vector:  [0.99123926 0.         0.13207847 0.        ]\n",
      "State vector:  [0.99123926 0.         0.13207847 0.        ]\n",
      "State vector:  [0.99123926 0.         0.13207847 0.        ]\n",
      "State vector:  [0.         0.70710678 0.         0.70710678]\n",
      "State vector:  [0.99123926 0.         0.13207847 0.        ]\n"
     ]
    }
   ],
   "source": [
    "### Let's do it to an interesting superposition\n",
    "from qiskit import QuantumRegister, ClassicalRegister, QuantumCircuit, execute, Aer\n",
    "from qiskit.visualization import plot_histogram\n",
    "\n",
    "import math\n",
    "import matplotlib.pyplot as plt\n",
    "\n",
    "qr = QuantumRegister(2, \"q\")\n",
    "cr = ClassicalRegister(1, \"c\")\n",
    "qc = QuantumCircuit(qr, cr)\n",
    "\n",
    "qc.ry(.7, 0)\n",
    "qc.cx(0, 1)\n",
    "qc.ry(-.7, 0)\n",
    "\n",
    "qc.barrier()\n",
    "\n",
    "qc.measure(0, 0)\n",
    "\n",
    "qc.draw(output='mpl')\n",
    "plt.show()\n",
    "\n",
    "for i in range(10):\n",
    "    job = execute(qc, Aer.get_backend('statevector_simulator'))\n",
    "    result = job.result()\n",
    "    sv = result.get_statevector(qc)\n",
    "    print(\"State vector: \", abs(sv))"
   ]
  },
  {
   "cell_type": "markdown",
   "id": "e1c50cc4-7739-4e22-bd9f-744f05bba08a",
   "metadata": {},
   "source": [
    "TODO: express this result on the whiteboard"
   ]
  }
 ],
 "metadata": {
  "kernelspec": {
   "display_name": "Python [conda env:qiskit]",
   "language": "python",
   "name": "conda-env-qiskit-py"
  },
  "language_info": {
   "codemirror_mode": {
    "name": "ipython",
    "version": 3
   },
   "file_extension": ".py",
   "mimetype": "text/x-python",
   "name": "python",
   "nbconvert_exporter": "python",
   "pygments_lexer": "ipython3",
   "version": "3.9.6"
  }
 },
 "nbformat": 4,
 "nbformat_minor": 5
}
