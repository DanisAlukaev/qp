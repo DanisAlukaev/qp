{
 "cells": [
  {
   "cell_type": "markdown",
   "id": "87af5e1c-d8bb-49eb-b9c6-281b512bb399",
   "metadata": {},
   "source": [
    "# Qiskit\n",
    "\n",
    "Qiskit - IBM library for quantum developers. This is how we install."
   ]
  },
  {
   "cell_type": "code",
   "execution_count": null,
   "id": "032fa9bb-80ca-4fe1-853b-90a0d43bbd90",
   "metadata": {},
   "outputs": [],
   "source": [
    "!pip install qiskit"
   ]
  },
  {
   "cell_type": "markdown",
   "id": "7b966506-5ee0-4803-b41d-7b55da4a20f3",
   "metadata": {},
   "source": [
    "It consists of [few parts](https://github.com/orgs/Qiskit/repositories). Among them are:\n",
    "- [Terra](https://qiskit.org/documentation/apidoc/terra.html) - basic quantum components.\n",
    "- [Aer](https://qiskit.org/documentation/apidoc/aer.html) - simulators. You can run a program in multiple ways.\n",
    "- [Ignis](https://qiskit.org/documentation/apidoc/ignis.html) - hardware verification and error correction.\n",
    "- [Nature](https://github.com/Qiskit/qiskit-nature) - scientific task solvers.\n",
    "- [Optimization](https://github.com/Qiskit/qiskit-optimization) - optimizers.\n",
    "- [Machine Learning](https://github.com/Qiskit/qiskit-machine-learning) - few ML algorithms.\n",
    "- [Metal](https://github.com/Qiskit/qiskit-metal) - supercoductive circuits developer toolkit.\n",
    "\n",
    "Also there are separate finance, chemisty blocks."
   ]
  },
  {
   "cell_type": "markdown",
   "id": "ade94de3-7802-4fa2-82d1-b9f731b1029c",
   "metadata": {},
   "source": [
    "Simplest simulated circuit looks like ..."
   ]
  },
  {
   "cell_type": "code",
   "execution_count": 1,
   "id": "29a129a2-d010-4f07-9122-eec86a0d9bb2",
   "metadata": {},
   "outputs": [],
   "source": [
    "# these are classes to initialize registers\n",
    "from qiskit import QuantumRegister, ClassicalRegister, QuantumCircuit\n",
    "# visualization code\n",
    "from qiskit.visualization import plot_histogram\n",
    "\n",
    "qr = QuantumRegister(2, 'qbits')\n",
    "cr = ClassicalRegister(2, 'bits')\n",
    "qc = QuantumCircuit(qr, cr)"
   ]
  },
  {
   "cell_type": "markdown",
   "id": "035bf9bb-d4e3-4f51-b112-35c06bd42bbb",
   "metadata": {},
   "source": [
    "No operations, empty circuit"
   ]
  },
  {
   "cell_type": "code",
   "execution_count": 2,
   "id": "0ae130a5-a96e-4fab-b256-c77611f1cf69",
   "metadata": {},
   "outputs": [
    {
     "data": {
      "text/html": [
       "<pre style=\"word-wrap: normal;white-space: pre;background: #fff0;line-height: 1.1;font-family: &quot;Courier New&quot;,Courier,monospace\">         \n",
       "qbits_0: \n",
       "         \n",
       "qbits_1: \n",
       "         \n",
       " bits: 2/\n",
       "         </pre>"
      ],
      "text/plain": [
       "         \n",
       "qbits_0: \n",
       "         \n",
       "qbits_1: \n",
       "         \n",
       " bits: 2/\n",
       "         "
      ]
     },
     "execution_count": 2,
     "metadata": {},
     "output_type": "execute_result"
    }
   ],
   "source": [
    "qc.draw()"
   ]
  },
  {
   "cell_type": "code",
   "execution_count": 3,
   "id": "2865300f-2c72-4bd0-8bba-516218012721",
   "metadata": {},
   "outputs": [
    {
     "data": {
      "image/png": "[encoded data removed]",
      "text/plain": [
       "<Figure size 154.629x204.68 with 1 Axes>"
      ]
     },
     "metadata": {},
     "output_type": "display_data"
    }
   ],
   "source": [
    "# also with latex\n",
    "# qc.draw(output='latex')\n",
    "\n",
    "# with matplotlib\n",
    "import matplotlib.pyplot as plt\n",
    "qc.draw(output='mpl')\n",
    "plt.show()"
   ]
  },
  {
   "cell_type": "markdown",
   "id": "d5f92873-694c-4959-b905-ad097309b92a",
   "metadata": {},
   "source": [
    "Let's add 2 gates. $0^{th}$ qubit with get $H$ (Hadamard), and then, we apply $CNOT$ to both, with 0 -- controlling, and 1 -- controlled."
   ]
  },
  {
   "cell_type": "code",
   "execution_count": 4,
   "id": "695ee722-c2a5-410d-99b2-4534f1732ba5",
   "metadata": {},
   "outputs": [
    {
     "data": {
      "text/plain": [
       "<qiskit.circuit.instructionset.InstructionSet at 0x20c3c5c6340>"
      ]
     },
     "execution_count": 4,
     "metadata": {},
     "output_type": "execute_result"
    }
   ],
   "source": [
    "qc.h(qr[0])\n",
    "qc.cx(qr[0], qr[1])\n",
    "\n",
    "# also this works\n",
    "# qc.h(0)\n",
    "# qc.cx(0, 1)"
   ]
  },
  {
   "cell_type": "markdown",
   "id": "99ec220a-e063-4eb2-b68c-6c399c197a70",
   "metadata": {},
   "source": [
    "Draw it with matplotlib now"
   ]
  },
  {
   "cell_type": "code",
   "execution_count": 5,
   "id": "b7cbbb30-2557-45ed-ad2f-1abde39d42f4",
   "metadata": {},
   "outputs": [
    {
     "data": {
      "image/png": "[encoded data removed]",
      "text/plain": [
       "<Figure size 244.929x204.68 with 1 Axes>"
      ]
     },
     "metadata": {},
     "output_type": "display_data"
    }
   ],
   "source": [
    "qc.draw(output='mpl')\n",
    "plt.show()"
   ]
  },
  {
   "cell_type": "markdown",
   "id": "3eb07a6e-64c9-473d-86f1-ce8cf9411c29",
   "metadata": {},
   "source": [
    "What about measuring?"
   ]
  },
  {
   "cell_type": "code",
   "execution_count": 6,
   "id": "23f9829f-1f1a-465d-a159-e2796c7f9509",
   "metadata": {},
   "outputs": [
    {
     "data": {
      "image/png": "[encoded data removed]",
      "text/plain": [
       "<Figure size 365.329x204.68 with 1 Axes>"
      ]
     },
     "metadata": {},
     "output_type": "display_data"
    }
   ],
   "source": [
    "# qc.measure(qr[0], cr[0])\n",
    "# qc.measure(qr[1], cr[1])\n",
    "# or even simpler\n",
    "qc.measure(qr, cr)\n",
    "\n",
    "qc.draw(output='mpl')\n",
    "plt.show()"
   ]
  },
  {
   "cell_type": "markdown",
   "id": "3b5ee95d-e9a2-4ada-b96a-dbf9e02f84ac",
   "metadata": {},
   "source": [
    "This picture is indeed a quantum program. The only think left is to execute!\n",
    "\n",
    "There are many simulators, each of them have its own features. Deeper here: https://qiskit.org/documentation/tutorials/simulators/1_aer_provider.html\n",
    "\n",
    "First, we run probabilistic `qasm_simulator`, which has an opportunity to add noise. Do it 1000 times."
   ]
  },
  {
   "cell_type": "code",
   "execution_count": 7,
   "id": "04ccc936-da88-4e16-892b-4da1cc14c1e5",
   "metadata": {},
   "outputs": [
    {
     "data": {
      "image/png": "[encoded data removed]",
      "text/plain": [
       "<Figure size 504x360 with 1 Axes>"
      ]
     },
     "metadata": {
      "needs_background": "light"
     },
     "output_type": "display_data"
    }
   ],
   "source": [
    "from qiskit import execute, Aer\n",
    "\n",
    "job = execute(qc, Aer.get_backend('qasm_simulator'), shots=1000)\n",
    "counts = job.result().get_counts(qc)\n",
    "\n",
    "plot_histogram(counts)\n",
    "plt.show()"
   ]
  },
  {
   "cell_type": "markdown",
   "id": "0bc01a3d-e660-4665-9620-14d96e0a3818",
   "metadata": {},
   "source": [
    "# TBD - errors\n",
    "I have no idea how to model decoherence errors. Maybe we shold thy this\n",
    "https://qiskit.org/documentation/tutorials/noise/2_relaxation_and_decoherence.html"
   ]
  },
  {
   "cell_type": "code",
   "execution_count": 148,
   "id": "57bdc9ad-422a-4bd8-b059-7e0210c64e6e",
   "metadata": {
    "collapsed": true,
    "jupyter": {
     "outputs_hidden": true,
     "source_hidden": true
    },
    "tags": []
   },
   "outputs": [
    {
     "data": {
      "image/png": "[encoded data removed]",
      "text/plain": [
       "<Figure size 504x360 with 1 Axes>"
      ]
     },
     "metadata": {
      "needs_background": "light"
     },
     "output_type": "display_data"
    }
   ],
   "source": [
    "from qiskit.providers.aer import noise\n",
    "\n",
    "# from example https://qiskit.org/documentation/stubs/qiskit.providers.aer.noise.NoiseModel.html\n",
    "noise_model = noise.NoiseModel()\n",
    "\n",
    "import numpy as np\n",
    "rot = np.array([[0.9, -0.4358898943540673552237], [0.4358898943540673552237, 0.9]], dtype=np.float64)\n",
    "unitary_error = np.kron(rot, rot)\n",
    "# 1-qubit gates\n",
    "error_1 = noise.mixed_unitary_error([(rot.T, 1.0)])\n",
    "noise_model.add_all_qubit_quantum_error(error_1, ['h'])\n",
    "\n",
    "# 2-qubit gates\n",
    "error_2 = noise.mixed_unitary_error([(unitary_error, 1.0)])\n",
    "noise_model.add_all_qubit_quantum_error(error_2, ['cx'])\n",
    "\n",
    "backend = Aer.get_backend('qasm_simulator', noise_model=noise_model)\n",
    "job = execute(qc, backend, shots=1000)\n",
    "counts = job.result().get_counts(qc)\n",
    "\n",
    "plot_histogram(counts)\n",
    "plt.show()"
   ]
  },
  {
   "cell_type": "markdown",
   "id": "41792f51-5eea-42ee-9f53-9e607b069366",
   "metadata": {},
   "source": [
    "And here is ideal vector state simulator. It runs once, but gives different results!"
   ]
  },
  {
   "cell_type": "code",
   "execution_count": 8,
   "id": "e6cb0c50-231c-4e73-9312-61b9a484b156",
   "metadata": {},
   "outputs": [
    {
     "name": "stdout",
     "output_type": "stream",
     "text": [
      "[0.+0.j 0.+0.j 0.+0.j 1.+0.j]\n"
     ]
    },
    {
     "data": {
      "image/png": "[encoded data removed]",
      "text/plain": [
       "<Figure size 504x360 with 1 Axes>"
      ]
     },
     "metadata": {
      "needs_background": "light"
     },
     "output_type": "display_data"
    }
   ],
   "source": [
    "job = execute(qc, Aer.get_backend('statevector_simulator'))\n",
    "result = job.result()\n",
    "counts = result.get_counts(qc)\n",
    "\n",
    "print(result.get_statevector(qc))\n",
    "plot_histogram(counts)\n",
    "plt.show()"
   ]
  },
  {
   "cell_type": "markdown",
   "id": "9731f391-7983-4867-be01-d9ab1adbac8d",
   "metadata": {},
   "source": [
    "And finally unitary matrix simulator. As measurements are not unitary, we will collect the same ciruit without measurements."
   ]
  },
  {
   "cell_type": "code",
   "execution_count": 9,
   "id": "c5c4eb56-fcca-48ba-ae4e-fbd9f6fa659d",
   "metadata": {},
   "outputs": [
    {
     "name": "stdout",
     "output_type": "stream",
     "text": [
      "[[ 0.707+0.j  0.707-0.j  0.   +0.j  0.   +0.j]\n",
      " [ 0.   +0.j  0.   +0.j  0.707+0.j -0.707+0.j]\n",
      " [ 0.   +0.j  0.   +0.j  0.707+0.j  0.707-0.j]\n",
      " [ 0.707+0.j -0.707+0.j  0.   +0.j  0.   +0.j]]\n"
     ]
    }
   ],
   "source": [
    "qru = QuantumRegister(2, 'qbits')\n",
    "cru = ClassicalRegister(2, 'bits')\n",
    "qcu = QuantumCircuit(qru, cru)\n",
    "\n",
    "qcu.h(qru[0])\n",
    "qcu.cx(qru[0], qru[1])\n",
    "\n",
    "backend = Aer.get_backend('unitary_simulator')\n",
    "job = backend.run(qcu)\n",
    "result = job.result()\n",
    "\n",
    "# Show the results\n",
    "print(result.get_unitary(qcu, decimals=3))"
   ]
  },
  {
   "cell_type": "markdown",
   "id": "f89e60c1-0b06-4ef2-9adc-ec06e4d49916",
   "metadata": {},
   "source": [
    "# Real QPU\n",
    "\n",
    "But the coolest is to run in real QPU, yes?\n",
    "\n",
    "Visit https://quantum-computing.ibm.com/account and get the key!"
   ]
  },
  {
   "cell_type": "code",
   "execution_count": 10,
   "id": "f874559b-7918-449b-b27c-c98a7cc1809b",
   "metadata": {},
   "outputs": [
    {
     "name": "stderr",
     "output_type": "stream",
     "text": [
      "configrc.store_credentials:WARNING:2021-10-12 14:57:51,947: Credentials already present. Set overwrite=True to overwrite.\n"
     ]
    }
   ],
   "source": [
    "from qiskit import IBMQ\n",
    "IBMQ.save_account(\n",
    "    '...'\n",
    ")"
   ]
  },
  {
   "cell_type": "code",
   "execution_count": 11,
   "id": "fdaf4fc8-ff2a-459b-ba10-3d6b7b71f017",
   "metadata": {},
   "outputs": [],
   "source": [
    "IBMQ.load_account()\n",
    "provider = IBMQ.get_provider('ibm-q')"
   ]
  },
  {
   "cell_type": "code",
   "execution_count": 18,
   "id": "d3bb40ed-3526-4a1b-92e0-151d296fac33",
   "metadata": {},
   "outputs": [
    {
     "name": "stdout",
     "output_type": "stream",
     "text": [
      "ibmq_qasm_simulator\t is online=True\twith a queue=3\n",
      "ibmq_armonk\t is online=True\twith a queue=3\n",
      "ibmq_santiago\t is online=True\twith a queue=1245\n",
      "ibmq_bogota\t is online=True\twith a queue=2\n",
      "ibmq_lima\t is online=True\twith a queue=3\n",
      "ibmq_belem\t is online=True\twith a queue=1\n",
      "ibmq_quito\t is online=True\twith a queue=31\n",
      "simulator_statevector\t is online=True\twith a queue=3\n",
      "simulator_mps\t is online=True\twith a queue=3\n",
      "simulator_extended_stabilizer\t is online=True\twith a queue=2\n",
      "simulator_stabilizer\t is online=True\twith a queue=2\n",
      "ibmq_manila\t is online=True\twith a queue=6\n"
     ]
    }
   ],
   "source": [
    "available_cloud_backends = provider.backends() \n",
    "for backend in available_cloud_backends:\n",
    "    status = backend.status()\n",
    "    is_operational = status.operational\n",
    "    jobs_in_queue = status.pending_jobs\n",
    "    print(f\"{backend}\\t is online={is_operational}\\twith a queue={jobs_in_queue}\")"
   ]
  },
  {
   "cell_type": "markdown",
   "id": "93f74545-d79f-4903-b9d6-60fd107b605b",
   "metadata": {},
   "source": [
    "Match these providers with https://quantum-computing.ibm.com/services?services=systems"
   ]
  },
  {
   "cell_type": "code",
   "execution_count": 19,
   "id": "dae57068-3bd4-4794-86e8-9a706ce5a368",
   "metadata": {},
   "outputs": [],
   "source": [
    "qpu = provider.get_backend(\"ibmq_belem\")\n",
    "job = execute(qc, backend=qpu)"
   ]
  },
  {
   "cell_type": "code",
   "execution_count": 16,
   "id": "0d1bcdfe-8581-47db-9b39-7775e1478646",
   "metadata": {},
   "outputs": [
    {
     "name": "stdout",
     "output_type": "stream",
     "text": [
      "Job Status: job has successfully run\n",
      "Time in a queue: 11.02 s\n"
     ]
    }
   ],
   "source": [
    "from qiskit.tools.monitor import job_monitor\n",
    "from time import time\n",
    "\n",
    "start = time()\n",
    "job_monitor(job)\n",
    "end = time()\n",
    "\n",
    "print(f\"Time in a queue: {end - start:.2f} s\")"
   ]
  },
  {
   "cell_type": "code",
   "execution_count": 17,
   "id": "898454b8-3b62-483e-b743-8d5b061ac03f",
   "metadata": {},
   "outputs": [
    {
     "data": {
      "image/png": "[encoded data removed]",
      "text/plain": [
       "<Figure size 504x360 with 1 Axes>"
      ]
     },
     "metadata": {
      "needs_background": "light"
     },
     "output_type": "display_data"
    }
   ],
   "source": [
    "counts = job.result().get_counts()\n",
    "plot_histogram(counts)\n",
    "plt.show()"
   ]
  }
 ],
 "metadata": {
  "kernelspec": {
   "display_name": "Python [conda env:qiskit]",
   "language": "python",
   "name": "conda-env-qiskit-py"
  },
  "language_info": {
   "codemirror_mode": {
    "name": "ipython",
    "version": 3
   },
   "file_extension": ".py",
   "mimetype": "text/x-python",
   "name": "python",
   "nbconvert_exporter": "python",
   "pygments_lexer": "ipython3",
   "version": "3.9.6"
  }
 },
 "nbformat": 4,
 "nbformat_minor": 5
}
