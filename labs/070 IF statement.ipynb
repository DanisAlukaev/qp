{
 "cells": [
  {
   "cell_type": "markdown",
   "id": "7b46af6f-23d4-4105-ba75-0535f1905947",
   "metadata": {},
   "source": [
    "# Implement simple `if` statement\n",
    "\n",
    "In this lab we will write\n",
    "\n",
    "```\n",
    "if (a < 3) {\n",
    "    b++;\n",
    "}\n",
    "```\n",
    "\n",
    "General schema: we will check `a-3` for being negative.\n",
    "- `a -= 3`.\n",
    "- control actions under condition with sign qubit.\n",
    "- `a += 3` - uncomputing."
   ]
  },
  {
   "cell_type": "markdown",
   "id": "25995820-c2ac-41a8-9cc5-5d8c0f7b8570",
   "metadata": {},
   "source": [
    "## Implement `a -= 3`"
   ]
  },
  {
   "cell_type": "code",
   "execution_count": 30,
   "id": "a1a20fe2-f4d3-46cf-87c2-183c7e4c3539",
   "metadata": {},
   "outputs": [],
   "source": [
    "from qiskit import QuantumRegister, ClassicalRegister, QuantumCircuit\n",
    "from qiskit.visualization import plot_histogram\n",
    "from qiskit import execute, Aer\n",
    "import matplotlib.pyplot as plt\n",
    "from qiskit.circuit.library import XGate\n",
    "cccx = XGate().control(3)\n",
    "ccccx = XGate().control(4)"
   ]
  },
  {
   "cell_type": "markdown",
   "id": "44490352-0d6e-40f8-ac0a-86ddaba88003",
   "metadata": {},
   "source": [
    "### Implement a function, which initializes a register with an integer"
   ]
  },
  {
   "cell_type": "code",
   "execution_count": 43,
   "id": "464ab3ac-dcdb-4833-982f-f7e97e3d1404",
   "metadata": {},
   "outputs": [],
   "source": [
    "a = QuantumRegister(4, 'a')\n",
    "b = QuantumRegister(4, 'b')\n",
    "cr = ClassicalRegister(4, 'c')\n",
    "qc = QuantumCircuit(a, b, cr)\n",
    "\n",
    "## set A to something\n",
    "def set_n(circuit, register, number):\n",
    "    pass"
   ]
  },
  {
   "cell_type": "code",
   "execution_count": null,
   "id": "30b5ddbb-aaae-4a33-a7c1-b75548c911dd",
   "metadata": {},
   "outputs": [],
   "source": [
    "set_n(qc, a, 2)\n",
    "set_n(qc, b, 7)\n",
    "\n",
    "qc.barrier()\n",
    "print(\"Set a to 2\")\n",
    "qc.draw(output='mpl')\n",
    "plt.show()"
   ]
  },
  {
   "cell_type": "markdown",
   "id": "e8aafa28-627f-4d55-97c8-48cb58fb8fd4",
   "metadata": {},
   "source": [
    "### `a-=3`"
   ]
  },
  {
   "cell_type": "code",
   "execution_count": null,
   "id": "0f3ac844-2e6e-4963-9bb1-d9884e7df8b6",
   "metadata": {},
   "outputs": [],
   "source": [
    "# TODO a -= 2\n",
    "\n",
    "# TODO a -= 1\n",
    "\n",
    "qc.barrier()\n",
    "print(\"-= 3\")\n",
    "qc.draw(output='mpl')\n",
    "plt.show()"
   ]
  },
  {
   "cell_type": "markdown",
   "id": "8e8aa9c2-45e2-4475-8d22-d5c696989751",
   "metadata": {
    "tags": []
   },
   "source": [
    "### `if (a < 0)    <==>    if (a[3] == 1)`"
   ]
  },
  {
   "cell_type": "code",
   "execution_count": null,
   "id": "aa9e2a73-2c25-474a-9164-738c751f9c22",
   "metadata": {},
   "outputs": [],
   "source": [
    "# TODO controlled b += 1\n",
    "\n",
    "\n",
    "\n",
    "qc.barrier()\n",
    "print(\"b += 1\")\n",
    "qc.draw(output='mpl')\n",
    "plt.show()"
   ]
  },
  {
   "cell_type": "markdown",
   "id": "d80701bf-d1de-4729-9e1c-4ccceb432919",
   "metadata": {},
   "source": [
    "### Undo `a -= 3`"
   ]
  },
  {
   "cell_type": "code",
   "execution_count": null,
   "id": "d531b4e3-a293-4a8c-8543-58c867def711",
   "metadata": {},
   "outputs": [],
   "source": [
    "# TODO a += 1\n",
    "\n",
    "# TODO a += 2\n",
    "\n",
    "qc.barrier()\n",
    "print(\"+= 3\")\n",
    "qc.draw(output='mpl')\n",
    "plt.show()"
   ]
  },
  {
   "cell_type": "markdown",
   "id": "11b6f46e-2238-4099-9c3b-05b0969b6e07",
   "metadata": {},
   "source": [
    "### Final"
   ]
  },
  {
   "cell_type": "code",
   "execution_count": null,
   "id": "a95631dd-09c1-4900-adab-2cb6c122cd97",
   "metadata": {},
   "outputs": [],
   "source": [
    "qc.measure(b, cr)\n",
    "\n",
    "job = execute(qc, Aer.get_backend('qasm_simulator'), shots=1000)\n",
    "counts = job.result().get_counts(qc)\n",
    "plot_histogram(counts)\n",
    "plt.show()"
   ]
  },
  {
   "cell_type": "markdown",
   "id": "26891b5d-87f3-49e3-87e4-42f9055e3761",
   "metadata": {},
   "source": [
    "# (*) Run the cirucuit if `a = |1> + |5>`"
   ]
  }
 ],
 "metadata": {
  "kernelspec": {
   "display_name": "Python [conda env:qiskit]",
   "language": "python",
   "name": "conda-env-qiskit-py"
  },
  "language_info": {
   "codemirror_mode": {
    "name": "ipython",
    "version": 3
   },
   "file_extension": ".py",
   "mimetype": "text/x-python",
   "name": "python",
   "nbconvert_exporter": "python",
   "pygments_lexer": "ipython3",
   "version": "3.9.6"
  }
 },
 "nbformat": 4,
 "nbformat_minor": 5
}
