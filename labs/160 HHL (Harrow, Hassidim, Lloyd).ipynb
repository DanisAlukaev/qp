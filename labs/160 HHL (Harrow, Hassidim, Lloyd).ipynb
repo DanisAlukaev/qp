{
 "cells": [
  {
   "cell_type": "markdown",
   "id": "bcb82064-b013-4003-8fa0-7072fa2a9144",
   "metadata": {},
   "source": [
    "# HHL in qiskit\n",
    "\n",
    "Based on [qiskit tutorial](https://qiskit.org/textbook/ch-applications/hhl_tutorial.html).\n",
    "\n",
    "---\n",
    "\n",
    "Let's solve a system of linear equations $Ax=b$ in Qiskit. This is easy (joke)!\n",
    "\n",
    "First, we prepare a circuit of the algorithm. It includes:\n",
    "- $|b\\rangle$ initialization, \n",
    "- $QPE$ of $\\tilde{A}=e^{iAt}$, \n",
    "- eigenvector inversion, \n",
    "- and $QPE^\\dagger$"
   ]
  },
  {
   "cell_type": "code",
   "execution_count": 48,
   "id": "c2acb779-30d4-4473-a36a-d8aa21e2db65",
   "metadata": {},
   "outputs": [
    {
     "data": {
      "text/html": [
       "<pre style=\"word-wrap: normal;white-space: pre;background: #fff0;line-height: 1.1;font-family: &quot;Courier New&quot;,Courier,monospace\">        ┌─────────────┐┌──────┐        ┌─────────┐\n",
       "q178_0: ┤ circuit-958 ├┤2     ├────────┤2        ├\n",
       "        └─────────────┘│      │┌──────┐│         │\n",
       "q179_0: ───────────────┤0 QPE ├┤1     ├┤0 QPE_dg ├\n",
       "                       │      ││      ││         │\n",
       "q179_1: ───────────────┤1     ├┤0 1/x ├┤1        ├\n",
       "                       └──────┘│      │└─────────┘\n",
       "q180_0: ───────────────────────┤2     ├───────────\n",
       "                               └──────┘           </pre>"
      ],
      "text/plain": [
       "        ┌─────────────┐┌──────┐        ┌─────────┐\n",
       "q178_0: ┤ circuit-958 ├┤2     ├────────┤2        ├\n",
       "        └─────────────┘│      │┌──────┐│         │\n",
       "q179_0: ───────────────┤0 QPE ├┤1     ├┤0 QPE_dg ├\n",
       "                       │      ││      ││         │\n",
       "q179_1: ───────────────┤1     ├┤0 1/x ├┤1        ├\n",
       "                       └──────┘│      │└─────────┘\n",
       "q180_0: ───────────────────────┤2     ├───────────\n",
       "                               └──────┘           "
      ]
     },
     "execution_count": 48,
     "metadata": {},
     "output_type": "execute_result"
    }
   ],
   "source": [
    "import numpy as np\n",
    "\n",
    "# algorithm\n",
    "from qiskit.algorithms.linear_solvers.hhl import HHL\n",
    "\n",
    "# Matrix A\n",
    "A = np.array([[1, -1/3], [-1/3, 1]])\n",
    "\n",
    "# vector b\n",
    "b = np.array([[1, 0]]).T\n",
    "\n",
    "naive_hhl_solution = HHL().solve(A, b)\n",
    "naive_hhl_solution.state.draw()"
   ]
  },
  {
   "cell_type": "code",
   "execution_count": 49,
   "id": "40c3259e-a03c-469c-978b-c41c2149dc58",
   "metadata": {},
   "outputs": [
    {
     "data": {
      "image/png": "[encoded data removed]",
      "text/plain": [
       "<Figure size 1390.32x264.88 with 1 Axes>"
      ]
     },
     "execution_count": 49,
     "metadata": {},
     "output_type": "execute_result"
    }
   ],
   "source": [
    "naive_hhl_solution.state.decompose().decompose().draw(output='mpl')"
   ]
  },
  {
   "cell_type": "markdown",
   "id": "35fadaef-d2b4-4959-9f95-885e2a070d35",
   "metadata": {},
   "source": [
    "State vector of the whole system:"
   ]
  },
  {
   "cell_type": "code",
   "execution_count": 50,
   "id": "50634b9f-4f97-48c6-a703-27206efeafca",
   "metadata": {},
   "outputs": [
    {
     "name": "stdout",
     "output_type": "stream",
     "text": [
      "[ 0.433-0.j -0.433+0.j -0.   +0.j  0.   +0.j -0.   +0.j -0.   +0.j\n",
      "  0.   +0.j -0.   -0.j  0.75 -0.j  0.25 -0.j  0.   -0.j  0.   +0.j\n",
      " -0.   -0.j -0.   -0.j -0.   +0.j  0.   -0.j]\n"
     ]
    }
   ],
   "source": [
    "from qiskit.quantum_info import Statevector\n",
    "complete_statevector = Statevector(naive_hhl_solution.state).data\n",
    "print(np.round_(complete_statevector, 4))"
   ]
  },
  {
   "cell_type": "markdown",
   "id": "7241ad30-701d-44ec-be82-bb8fb7cbeb9f",
   "metadata": {},
   "source": [
    "Extract the \"right subvectorvector\" components.\n",
    "\n",
    "`0b1***` corresponds to the index 8+, which means, that 0th qubit was measured as `1`.\n",
    "\n",
    "`0b*00*` means auxillary qubits are returned to 0 by uncomputing.\n",
    "\n",
    "Thus, your solution is hidden in `0b100*` vector positions.\n"
   ]
  },
  {
   "cell_type": "code",
   "execution_count": 54,
   "id": "a7886a9c-009b-4d43-823d-cd11b8192bf6",
   "metadata": {},
   "outputs": [
    {
     "data": {
      "text/plain": [
       "array([[1.125-3.36361348e-16j],\n",
       "       [0.375-1.33752495e-16j]])"
      ]
     },
     "execution_count": 54,
     "metadata": {},
     "output_type": "execute_result"
    }
   ],
   "source": [
    "naive_full_vector = # YOUR CODE HERE GET meaningful components of the vector\n",
    "x_normed = naive_full_vector.T\n",
    "\n",
    "# normalization factor used in construction of the circuit. Reuse it!\n",
    "norm = naive_hhl_solution.euclidean_norm\n",
    "\n",
    "# our subvector is a part total of probability. Thus we first need to renorm it to the full probability\n",
    "# and then apply the original norm factor\n",
    "\n",
    "x = ## YOUR CODE HERE\n",
    "x"
   ]
  },
  {
   "cell_type": "code",
   "execution_count": 53,
   "id": "5b100b65-a514-4e63-b95b-9fc89e96fc6c",
   "metadata": {},
   "outputs": [
    {
     "data": {
      "text/plain": [
       "True"
      ]
     },
     "execution_count": 53,
     "metadata": {},
     "output_type": "execute_result"
    }
   ],
   "source": [
    "np.allclose(A @ x, b)"
   ]
  },
  {
   "cell_type": "markdown",
   "id": "c6c1c523-013b-4aba-b0a6-1f72107614bb",
   "metadata": {},
   "source": [
    "## Experiment?\n",
    "\n",
    "Compose a circuit to add semantical annotations to the qubits. This contour still misses measurements!"
   ]
  },
  {
   "cell_type": "code",
   "execution_count": 90,
   "id": "b5875a67-9837-427a-9458-16620ff05a3e",
   "metadata": {},
   "outputs": [
    {
     "data": {
      "text/html": [
       "<pre style=\"word-wrap: normal;white-space: pre;background: #fff0;line-height: 1.1;font-family: &quot;Courier New&quot;,Courier,monospace\">          ┌─────────────┐┌──────┐        ┌─────────┐ ░    ┌─┐ ░ \n",
       "     b_0: ┤ circuit-958 ├┤2     ├────────┤2        ├─░────┤M├─░─\n",
       "          └─────────────┘│      │┌──────┐│         │ ░    └╥┘ ░ \n",
       "matrix_0: ───────────────┤0 QPE ├┤1     ├┤0 QPE_dg ├─░─────╫──░─\n",
       "                         │      ││      ││         │ ░     ║  ░ \n",
       "matrix_1: ───────────────┤1     ├┤0 1/x ├┤1        ├─░─────╫──░─\n",
       "                         └──────┘│      │└─────────┘ ░ ┌─┐ ║  ░ \n",
       "   aux_0: ───────────────────────┤2     ├────────────░─┤M├─╫──░─\n",
       "                                 └──────┘            ░ └╥┘ ║  ░ \n",
       "  flag: 1/══════════════════════════════════════════════╩══╬════\n",
       "                                                        0  ║    \n",
       "                                                           ║    \n",
       "     x: 1/═════════════════════════════════════════════════╩════\n",
       "                                                           0    </pre>"
      ],
      "text/plain": [
       "          ┌─────────────┐┌──────┐        ┌─────────┐ ░    ┌─┐ ░ \n",
       "     b_0: ┤ circuit-958 ├┤2     ├────────┤2        ├─░────┤M├─░─\n",
       "          └─────────────┘│      │┌──────┐│         │ ░    └╥┘ ░ \n",
       "matrix_0: ───────────────┤0 QPE ├┤1     ├┤0 QPE_dg ├─░─────╫──░─\n",
       "                         │      ││      ││         │ ░     ║  ░ \n",
       "matrix_1: ───────────────┤1     ├┤0 1/x ├┤1        ├─░─────╫──░─\n",
       "                         └──────┘│      │└─────────┘ ░ ┌─┐ ║  ░ \n",
       "   aux_0: ───────────────────────┤2     ├────────────░─┤M├─╫──░─\n",
       "                                 └──────┘            ░ └╥┘ ║  ░ \n",
       "  flag: 1/══════════════════════════════════════════════╩══╬════\n",
       "                                                        0  ║    \n",
       "                                                           ║    \n",
       "     x: 1/═════════════════════════════════════════════════╩════\n",
       "                                                           0    "
      ]
     },
     "execution_count": 90,
     "metadata": {},
     "output_type": "execute_result"
    }
   ],
   "source": [
    "qb = QuantumRegister(1, name=\"b\")\n",
    "qA = QuantumRegister(2, name=\"matrix\")\n",
    "qaux = QuantumRegister(1, name='aux')\n",
    "cflag = ClassicalRegister(1, name='flag')\n",
    "cres = ClassicalRegister(1, name='x')\n",
    "qc = QuantumCircuit(qb, qA, qaux, cflag, cres)\n",
    "\n",
    "## YOUR CODE HERE! \n",
    "\n",
    "qc = qc.decompose()\n",
    "qc.draw()"
   ]
  },
  {
   "cell_type": "markdown",
   "id": "5b5ed43b-5bce-4bfe-9b73-1d2f44d99337",
   "metadata": {},
   "source": [
    "There are some shots, but not all of them will be used for solution! \n",
    "\n",
    "Why?"
   ]
  },
  {
   "cell_type": "code",
   "execution_count": 102,
   "id": "3542d58a-8b9b-488d-a427-a88e18aa41ba",
   "metadata": {},
   "outputs": [],
   "source": [
    "shots = 1000000\n",
    "job = execute(qc, Aer.get_backend('qasm_simulator'), shots=shots)\n",
    "counts = job.result().get_counts(qc)"
   ]
  },
  {
   "cell_type": "markdown",
   "id": "5f1e58f0-5767-44eb-ab80-73199644b2af",
   "metadata": {},
   "source": [
    "We will remove all shots which led to `0` in flag qubit."
   ]
  },
  {
   "cell_type": "code",
   "execution_count": 103,
   "id": "671fa6d4-f798-4307-a7f0-31c1d6b57609",
   "metadata": {},
   "outputs": [
    {
     "data": {
      "image/png": "[encoded data removed]",
      "text/plain": [
       "<Figure size 504x360 with 1 Axes>"
      ]
     },
     "execution_count": 103,
     "metadata": {},
     "output_type": "execute_result"
    }
   ],
   "source": [
    "flag_is_0 = ' 0'\n",
    "del counts['0' + flag_is_0]\n",
    "del counts['1' + flag_is_0]\n",
    "plot_histogram(counts)"
   ]
  },
  {
   "cell_type": "markdown",
   "id": "eb544694-f5ae-4e52-ab4f-5e39f14d09e6",
   "metadata": {},
   "source": [
    "**TODO**. \n",
    "- You measured shots. Shots divided by `total` is probability. But you need amplitudes.\n",
    "- Reuse `naive_hhl_solution.euclidean_norm` to scale your soultion."
   ]
  },
  {
   "cell_type": "code",
   "execution_count": 104,
   "id": "d4d7c081-d31b-41be-9903-ea088bdb6825",
   "metadata": {},
   "outputs": [
    {
     "name": "stdout",
     "output_type": "stream",
     "text": [
      "624784\n",
      "1.1252124533701793 0.3743620370452378\n"
     ]
    }
   ],
   "source": [
    "total = counts['0 1'] + counts['1 1']\n",
    "print(total)\n",
    "\n",
    "# TODO: reuse naive_hhl_solution.euclidean_norm"
   ]
  }
 ],
 "metadata": {
  "kernelspec": {
   "display_name": "Python [conda env:qiskit]",
   "language": "python",
   "name": "conda-env-qiskit-py"
  },
  "language_info": {
   "codemirror_mode": {
    "name": "ipython",
    "version": 3
   },
   "file_extension": ".py",
   "mimetype": "text/x-python",
   "name": "python",
   "nbconvert_exporter": "python",
   "pygments_lexer": "ipython3",
   "version": "3.9.6"
  }
 },
 "nbformat": 4,
 "nbformat_minor": 5
}
