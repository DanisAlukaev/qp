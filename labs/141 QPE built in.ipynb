{
 "cells": [
  {
   "cell_type": "markdown",
   "id": "7ded4a1b-e786-429d-b5bb-56c0cf03a86f",
   "metadata": {},
   "source": [
    "# Phase Estimation from the box\n",
    "\n",
    "There are 2 classes in qiskit to run phase estimation. One is `PhaseEstimation` from `qiskit.circuit.library`."
   ]
  },
  {
   "cell_type": "code",
   "execution_count": 1,
   "id": "b61e8427-596c-4813-bb69-b6a5c53658bb",
   "metadata": {},
   "outputs": [],
   "source": [
    "from qiskit import QuantumRegister, ClassicalRegister, QuantumCircuit, Aer, execute\n",
    "from qiskit.visualization import plot_histogram\n",
    "from qiskit.circuit.library import HGate\n",
    "import matplotlib.pyplot as plt\n",
    "\n",
    "from qiskit.circuit.library import PhaseEstimation"
   ]
  },
  {
   "cell_type": "markdown",
   "id": "e09ecd12-2b1e-4070-ab09-36ccc5f1f24b",
   "metadata": {},
   "source": [
    "### Let's prepare a weird gate combination with strange phase.\n",
    "\n",
    "Both is matrix and in gate form.\n",
    "\n",
    "**TODO**. I did it gate form, can you do this in `numpy`?"
   ]
  },
  {
   "cell_type": "code",
   "execution_count": 8,
   "id": "5d22276e-14a5-4782-b5c2-62e393496f6a",
   "metadata": {},
   "outputs": [
    {
     "name": "stdout",
     "output_type": "stream",
     "text": [
      "Evals: (-1+0j) (0.71+0.71j) (0.71-0.71j) (1+0j)\n",
      "[[-0.2706-0.j  -0.    +0.5j -0.    -0.5j  0.6533+0.j ]\n",
      " [-0.2706-0.j   0.    -0.5j  0.    +0.5j  0.6533+0.j ]\n",
      " [ 0.6533+0.j  -0.5   -0.j  -0.5   +0.j   0.2706+0.j ]\n",
      " [ 0.6533+0.j   0.5   +0.j   0.5   +0.j   0.2706+0.j ]]\n",
      "\n",
      "Eigenvalue (0.7071067811865474-0.7071067811865472j)\n",
      "Eigenvector [-0. -0.5j  0. +0.5j -0.5+0.j   0.5+0.j ]\n"
     ]
    }
   ],
   "source": [
    "GATESIZE = 2\n",
    "strange_circuit = QuantumCircuit(GATESIZE)\n",
    "\n",
    "# reverse qubit order ! \n",
    "# also, reverse in the end when measure.\n",
    "strange_circuit.h(1)\n",
    "strange_circuit.cx(1, 0)\n",
    "\n",
    "import numpy as np\n",
    "H = np.array([[1, 1], [1, -1]], dtype=complex) * (.5 ** .5)\n",
    "I = np.eye(2)\n",
    "CX = np.array([[1, 0, 0, 0], [0, 1, 0, 0], [0, 0, 0, 1], [0, 0, 1, 0]])\n",
    "\n",
    "G = ## TODO YOUR LINE IS HERE. Desired result is given\n",
    "\n",
    "evals, evecs = np.linalg.eig(G)\n",
    "print(\"Evals:\", *np.round_(evals, 2))\n",
    "print(np.round_(evecs, 4))\n",
    "print()\n",
    "\n",
    "# we will run the method for this particular vector.\n",
    "WHICH_VECTOR = 2\n",
    "\n",
    "vector = evecs[:, WHICH_VECTOR]\n",
    "print(\"Eigenvalue\", evals[WHICH_VECTOR])\n",
    "print(\"Eigenvector\", np.round_(vector, 4))"
   ]
  },
  {
   "cell_type": "markdown",
   "id": "9a63e5fa-e769-4676-a816-4d6c0267084c",
   "metadata": {},
   "source": [
    "### Here is the prepared circuit for QPE\n",
    "\n",
    "[Docs are here](https://qiskit.org/documentation/stubs/qiskit.circuit.library.PhaseEstimation.html#)."
   ]
  },
  {
   "cell_type": "code",
   "execution_count": 10,
   "id": "30f54148-6071-4ac7-a28a-8d85f6a051ed",
   "metadata": {},
   "outputs": [
    {
     "name": "stdout",
     "output_type": "stream",
     "text": [
      "        ┌──────┐\n",
      "eval_0: ┤0     ├\n",
      "        │      │\n",
      "eval_1: ┤1     ├\n",
      "        │      │\n",
      "eval_2: ┤2     ├\n",
      "        │      │\n",
      "eval_3: ┤3     ├\n",
      "        │      │\n",
      "eval_4: ┤4 QPE ├\n",
      "        │      │\n",
      "eval_5: ┤5     ├\n",
      "        │      │\n",
      "eval_6: ┤6     ├\n",
      "        │      │\n",
      "   q_0: ┤7     ├\n",
      "        │      │\n",
      "   q_1: ┤8     ├\n",
      "        └──────┘\n"
     ]
    }
   ],
   "source": [
    "# number of qubits for measurements\n",
    "PRECISION = 7\n",
    "qpe = PhaseEstimation(PRECISION, strange_circuit)\n",
    "print(qpe.draw())"
   ]
  },
  {
   "cell_type": "markdown",
   "id": "e83c8ee2-1a23-49ef-865d-9406e43dabb4",
   "metadata": {},
   "source": [
    "QPE is a circuit. Thus you can append it to your circuit if you want.\n",
    "\n",
    "**TODO:**\n",
    "1. Initialize last 2 qubits with an eigenvector `vector`.\n",
    "2. Append QPE circuit.\n",
    "3. Measure precision qubits. **NB: they will be given in reverse order, thus you will obsever a reversed number.**"
   ]
  },
  {
   "cell_type": "code",
   "execution_count": 11,
   "id": "16af6104-752a-445f-a006-f2a6c6e9f7f9",
   "metadata": {},
   "outputs": [
    {
     "name": "stdout",
     "output_type": "stream",
     "text": [
      "                                         ┌──────┐┌─┐                  \n",
      "q_0: ────────────────────────────────────┤0     ├┤M├──────────────────\n",
      "                                         │      │└╥┘┌─┐               \n",
      "q_1: ────────────────────────────────────┤1     ├─╫─┤M├───────────────\n",
      "                                         │      │ ║ └╥┘┌─┐            \n",
      "q_2: ────────────────────────────────────┤2     ├─╫──╫─┤M├────────────\n",
      "                                         │      │ ║  ║ └╥┘┌─┐         \n",
      "q_3: ────────────────────────────────────┤3     ├─╫──╫──╫─┤M├─────────\n",
      "                                         │      │ ║  ║  ║ └╥┘┌─┐      \n",
      "q_4: ────────────────────────────────────┤4 QPE ├─╫──╫──╫──╫─┤M├──────\n",
      "                                         │      │ ║  ║  ║  ║ └╥┘┌─┐   \n",
      "q_5: ────────────────────────────────────┤5     ├─╫──╫──╫──╫──╫─┤M├───\n",
      "                                         │      │ ║  ║  ║  ║  ║ └╥┘┌─┐\n",
      "q_6: ────────────────────────────────────┤6     ├─╫──╫──╫──╫──╫──╫─┤M├\n",
      "     ┌──────────────────────────────────┐│      │ ║  ║  ║  ║  ║  ║ └╥┘\n",
      "q_7: ┤0                                 ├┤7     ├─╫──╫──╫──╫──╫──╫──╫─\n",
      "     │  Initialize(-0.5j,0.5j,-0.5,0.5) ││      │ ║  ║  ║  ║  ║  ║  ║ \n",
      "q_8: ┤1                                 ├┤8     ├─╫──╫──╫──╫──╫──╫──╫─\n",
      "     └──────────────────────────────────┘└──────┘ ║  ║  ║  ║  ║  ║  ║ \n",
      "c: 7/═════════════════════════════════════════════╩══╩══╩══╩══╩══╩══╩═\n",
      "                                                  0  1  2  3  4  5  6 \n"
     ]
    }
   ],
   "source": [
    "qc = QuantumCircuit(PRECISION + GATESIZE, PRECISION)\n",
    "\n",
    "# TODO your 3 lines here!\n",
    "\n",
    "print(qc.draw())"
   ]
  },
  {
   "cell_type": "code",
   "execution_count": 12,
   "id": "8a216cc1-cfbe-4bdd-9598-26a454b3aa15",
   "metadata": {},
   "outputs": [
    {
     "data": {
      "image/png": "[encoded data removed]",
      "text/plain": [
       "<Figure size 504x360 with 1 Axes>"
      ]
     },
     "execution_count": 12,
     "metadata": {},
     "output_type": "execute_result"
    }
   ],
   "source": [
    "shots = 1000\n",
    "job = execute(qc, Aer.get_backend('qasm_simulator'), shots=shots)\n",
    "counts = job.result().get_counts(qc)\n",
    "plot_histogram(counts)"
   ]
  },
  {
   "cell_type": "markdown",
   "id": "e6f24b3b-fabc-4f33-b7f4-c303bd08c567",
   "metadata": {},
   "source": [
    "Lasts steps are here.\n",
    "\n",
    "I extracted the most probable measurement for you.\n",
    "TODO:\n",
    "1. Convert `measurement` into an `angle`, rememering, that $2\\pi$ is split into $2^{PRECISION}$ sectors.\n",
    "2. Convert an `angle` to an `eigenvalue`. Angle is just an [argument of a complex number](https://en.wikipedia.org/wiki/Argument_(complex_analysis))."
   ]
  },
  {
   "cell_type": "code",
   "execution_count": 13,
   "id": "ff983ec1-7254-44fe-b60d-565312a0854b",
   "metadata": {},
   "outputs": [
    {
     "name": "stdout",
     "output_type": "stream",
     "text": [
      "[('0000111', 1000)]\n",
      "Measured:  112\n",
      "Angle:  5.497787143782138\n",
      "Computed:  (0.7071067811865474-0.7071067811865477j)\n",
      "Expected:  (0.7071067811865474-0.7071067811865472j)\n"
     ]
    }
   ],
   "source": [
    "from math import pi\n",
    "print(sorted(list(counts.items()), key=lambda x: x[1]))\n",
    "measurement = int(sorted(list(counts.items()), key=lambda x: x[1])[-1][0][::-1], base=2)\n",
    "print(\"Measured: \", measurement)\n",
    "angle = ## YOUR CODE HERE\n",
    "print(\"Angle: \", angle)\n",
    "eigenvalue = ## YOUR CODE HERE\n",
    "\n",
    "print(\"Computed: \", eigenvalue)\n",
    "print(\"Expected: \", evals[WHICH_VECTOR])"
   ]
  },
  {
   "cell_type": "markdown",
   "id": "a6e5e0e6-7963-4cac-a6e0-280b9678c22c",
   "metadata": {},
   "source": [
    "## Another implementation is\n",
    "\n",
    "But it is depricated :)"
   ]
  },
  {
   "cell_type": "code",
   "execution_count": 14,
   "id": "aaa94140-576c-474f-9b10-875e5a91939f",
   "metadata": {},
   "outputs": [
    {
     "name": "stderr",
     "output_type": "stream",
     "text": [
      "C:\\anaconda\\envs\\qiskit\\lib\\site-packages\\qiskit\\aqua\\__init__.py:86: DeprecationWarning: The package qiskit.aqua is deprecated. It was moved/refactored to qiskit-terra For more information see <https://github.com/Qiskit/qiskit-aqua/blob/main/README.md#migration-guide>\n",
      "  warn_package('aqua', 'qiskit-terra')\n"
     ]
    }
   ],
   "source": [
    "from qiskit.aqua.algorithms import QPE"
   ]
  }
 ],
 "metadata": {
  "kernelspec": {
   "display_name": "Python [conda env:qiskit]",
   "language": "python",
   "name": "conda-env-qiskit-py"
  },
  "language_info": {
   "codemirror_mode": {
    "name": "ipython",
    "version": 3
   },
   "file_extension": ".py",
   "mimetype": "text/x-python",
   "name": "python",
   "nbconvert_exporter": "python",
   "pygments_lexer": "ipython3",
   "version": "3.9.6"
  }
 },
 "nbformat": 4,
 "nbformat_minor": 5
}
