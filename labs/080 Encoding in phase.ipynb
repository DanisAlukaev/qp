{
 "cells": [
  {
   "cell_type": "markdown",
   "id": "e85ca980-cfc3-4cc0-bfa4-d09471c109c1",
   "metadata": {},
   "source": [
    "# Marking the states for future\n",
    "\n",
    "Phase encoding is important technique, which can allow to make MASSIVE PARALLEL computations (full superposition).\n",
    "\n",
    "Let's do a simple conditional circuit, which will mark all the states less than 4."
   ]
  },
  {
   "cell_type": "code",
   "execution_count": null,
   "id": "55d08a0e-eb7d-4d89-9911-64e678725056",
   "metadata": {},
   "outputs": [],
   "source": [
    "from qiskit import QuantumRegister, ClassicalRegister, QuantumCircuit\n",
    "from qiskit.visualization import plot_histogram\n",
    "from qiskit import execute, Aer\n",
    "import matplotlib.pyplot as plt\n",
    "from qiskit.circuit.library import XGate\n",
    "cccx = XGate().control(3)\n",
    "ccccx = XGate().control(4)"
   ]
  },
  {
   "cell_type": "code",
   "execution_count": null,
   "id": "51ef71d9-a648-40a2-8568-252842b4a37f",
   "metadata": {},
   "outputs": [],
   "source": [
    "a = QuantumRegister(5, 'q')\n",
    "cr = ClassicalRegister(4, 'c')\n",
    "qc = QuantumCircuit(a, cr)\n",
    "\n",
    "# total superposition, keep one for a sign!\n",
    "qc.h(a[:4])\n",
    "qc.barrier()\n",
    "\n",
    "def minus4(qc, a):\n",
    "    qc.x(a[2])\n",
    "    qc.cx(a[2], a[3])\n",
    "    qc.ccx(a[2], a[3], a[4])\n",
    "    qc.barrier()\n",
    "\n",
    "def plus4(qc, a):\n",
    "    # TODO implement\n",
    "\n",
    "minus4(qc, a)    \n",
    "\n",
    "# here you CAN have conditional phase shift to pick ONE state\n",
    "# but we only care of ALL those states, where MINUS is in front.\n",
    "# Negative numbers are those, where a[4] = 1\n",
    "\n",
    "# TODO what should we do?\n",
    "\n",
    "# cancel computations\n",
    "plus4(qc, a)\n",
    "qc.draw(output='mpl')\n",
    "plt.show()"
   ]
  },
  {
   "cell_type": "markdown",
   "id": "51533bad-1016-4821-88a3-43177e571c24",
   "metadata": {},
   "source": [
    "What should you observe in these 16 states?"
   ]
  },
  {
   "cell_type": "code",
   "execution_count": null,
   "id": "b524a2cc-44d4-4c63-bb77-1cc6b9605887",
   "metadata": {},
   "outputs": [],
   "source": [
    "job = execute(qc, Aer.get_backend('statevector_simulator'))\n",
    "result = job.result()\n",
    "vector = result.get_statevector(qc)\n",
    "\n",
    "for i in range(16):\n",
    "    print(f\"{i:04b}\\t{i}\\t{vector[i]}\")"
   ]
  },
  {
   "cell_type": "markdown",
   "id": "f127dbef-f34a-4ca6-a6dc-22cca962481b",
   "metadata": {},
   "source": [
    "## Extra: Amplitude amplification\n",
    "\n",
    "This is a building block of Grover's search algorithm -- mirror gate. But this also works in any situation, when you need to convert phases to amplitudes.\n",
    "\n",
    "Unfortunately, to make difference, you need sometimes to run it multiple times together with the circuit. How many? See in future labs!"
   ]
  },
  {
   "cell_type": "code",
   "execution_count": null,
   "id": "216bd3d5-4c5e-4b28-96c8-9f83eb8036c7",
   "metadata": {},
   "outputs": [],
   "source": [
    "from qiskit.circuit.library import ZGate\n",
    "cccz = ZGate().control(3)\n",
    "\n",
    "def mirror(qc, a):\n",
    "    qc.h(a)\n",
    "    qc.x(a)\n",
    "    qc.append(cccz, a)\n",
    "    qc.x(a)\n",
    "    qc.h(a)\n",
    "    qc.barrier()\n",
    "    \n",
    "mirror(qc, a[:4])\n",
    "qc.measure(a[:4], cr)\n",
    "qc.draw(output='mpl')\n",
    "plt.show()"
   ]
  },
  {
   "cell_type": "code",
   "execution_count": 22,
   "id": "6ea0eb32-23cc-41f5-8fc0-0c46eb09713e",
   "metadata": {},
   "outputs": [
    {
     "data": {
      "image/png": "[encoded data removed]",
      "text/plain": [
       "<Figure size 504x360 with 1 Axes>"
      ]
     },
     "metadata": {
      "needs_background": "light"
     },
     "output_type": "display_data"
    }
   ],
   "source": [
    "job = execute(qc, Aer.get_backend('qasm_simulator'), shots=1000)\n",
    "counts = job.result().get_counts(qc)\n",
    "plot_histogram(counts)\n",
    "plt.show()"
   ]
  }
 ],
 "metadata": {
  "kernelspec": {
   "display_name": "Python [conda env:qiskit]",
   "language": "python",
   "name": "conda-env-qiskit-py"
  },
  "language_info": {
   "codemirror_mode": {
    "name": "ipython",
    "version": 3
   },
   "file_extension": ".py",
   "mimetype": "text/x-python",
   "name": "python",
   "nbconvert_exporter": "python",
   "pygments_lexer": "ipython3",
   "version": "3.9.6"
  }
 },
 "nbformat": 4,
 "nbformat_minor": 5
}
