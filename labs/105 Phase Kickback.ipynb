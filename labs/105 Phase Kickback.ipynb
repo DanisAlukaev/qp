{
 "cells": [
  {
   "cell_type": "markdown",
   "id": "1ba82127-4a20-4013-b2fe-a1a0fa55fff3",
   "metadata": {},
   "source": [
    "## Phase Kickback\n",
    "\n",
    "See details of motivation in [qiskit texbook](https://qiskit.org/textbook/ch-algorithms/grover.html). It shows the idea, how to convert \"Classical Function\" $f$ into a function of a desired type. The mechanism we have there is called *Phase Kickback*.\n",
    "\n",
    "Phase gate.\n",
    "\n",
    "$P_\\phi = \\begin{pmatrix} 1 & 0 \\\\ 0 & e^{i\\phi}\\end{pmatrix}$\n",
    "\n",
    "What is we apply $CU$ gate to $|\\psi_k\\rangle$ which is an eigenvector (eigenstate) of $U$?\n",
    "\n",
    "**Kickback**: Controlling qubit (register) accepts the phase change of $U$ eigenvalue (eigenphase).\n",
    "\n",
    "What are eigenstates and eigenvalues of $X$?\n",
    "Use [documentation](https://numpy.org/doc/stable/reference/generated/numpy.linalg.eig.html) if needed."
   ]
  },
  {
   "cell_type": "code",
   "execution_count": null,
   "id": "e730cf03-0ffc-4134-bb4e-056f421f1e69",
   "metadata": {},
   "outputs": [],
   "source": [
    "import numpy as np\n",
    "X = np.array([[0., 1], [1, 0]])\n",
    "\n",
    "## TODO compute eigenstates on X"
   ]
  },
  {
   "cell_type": "markdown",
   "id": "cd9775c7-30ed-450a-9358-2b643befbe00",
   "metadata": {},
   "source": [
    "What does this mean?\n",
    "\n",
    "Substitute $e, v$.\n",
    "\n",
    "$X|e_1\\rangle = v_1|e_1\\rangle$\n",
    "\n",
    "$X|e_2\\rangle = v_2|e_2\\rangle$\n"
   ]
  },
  {
   "cell_type": "markdown",
   "id": "4cf5e081-815c-4793-b9e0-7ea0c1847d6f",
   "metadata": {},
   "source": [
    "Let's check this for $CNOT$."
   ]
  },
  {
   "cell_type": "code",
   "execution_count": null,
   "id": "c3ca5b6e-2235-40a9-89f0-afb845cf7699",
   "metadata": {},
   "outputs": [],
   "source": [
    "from qiskit import QuantumRegister, ClassicalRegister, QuantumCircuit, Aer, execute\n",
    "from qiskit.visualization import plot_histogram\n",
    "import matplotlib.pyplot as plt\n",
    "\n",
    "qr = QuantumRegister(2, \"q\")\n",
    "cr = ClassicalRegister(1, \"c\")\n",
    "qc = QuantumCircuit(qr, cr)\n",
    "\n",
    "# this is done to observer phase change. If no change - |0> -> |+> -> |0>,\n",
    "# otherwise |0> -> |+> -> (!)|-> -> |1>\n",
    "qc.h(qr[0])\n",
    "qc.barrier()\n",
    "\n",
    "# prepare and eigenstate of X in qr[1]\n",
    "\n",
    "# TODO\n",
    "\n",
    "qc.barrier()\n",
    "\n",
    "# Controlled NOT\n",
    "qc.cx(0, 1)\n",
    "qc.barrier()\n",
    "\n",
    "\n",
    "# this is done to observer phase change. If no change - |0> -> |+> -> |0>,\n",
    "# otherwise |0> -> |+> -> (!)|-> -> |1>\n",
    "qc.h(qr[0])\n",
    "\n",
    "qc.measure(qr[0], cr[0])\n",
    "print(qc.draw())\n",
    "\n",
    "job = execute(qc, Aer.get_backend('qasm_simulator'), shots=100)\n",
    "counts = job.result().get_counts(qc)\n",
    "plot_histogram(counts)"
   ]
  }
 ],
 "metadata": {
  "kernelspec": {
   "display_name": "Python [conda env:qiskit]",
   "language": "python",
   "name": "conda-env-qiskit-py"
  },
  "language_info": {
   "codemirror_mode": {
    "name": "ipython",
    "version": 3
   },
   "file_extension": ".py",
   "mimetype": "text/x-python",
   "name": "python",
   "nbconvert_exporter": "python",
   "pygments_lexer": "ipython3",
   "version": "3.9.6"
  }
 },
 "nbformat": 4,
 "nbformat_minor": 5
}
