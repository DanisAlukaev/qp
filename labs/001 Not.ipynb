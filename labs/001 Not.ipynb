{
 "cells": [
  {
   "cell_type": "code",
   "execution_count": null,
   "id": "a98fbae5-6955-4966-99d6-bf8da117bd0a",
   "metadata": {},
   "outputs": [],
   "source": [
    "!pip install qiskit"
   ]
  },
  {
   "cell_type": "markdown",
   "id": "6e5f859e-d33a-4da4-926b-d69b372cbe66",
   "metadata": {},
   "source": [
    "# This is a program"
   ]
  },
  {
   "cell_type": "code",
   "execution_count": 7,
   "id": "828355e2-7349-4576-9a85-0522fcc75490",
   "metadata": {},
   "outputs": [
    {
     "data": {
      "image/png": "[encoded data removed]",
      "text/plain": [
       "<Figure size 220.989x144.48 with 1 Axes>"
      ]
     },
     "metadata": {},
     "output_type": "display_data"
    },
    {
     "name": "stdout",
     "output_type": "stream",
     "text": [
      "OPENQASM 2.0;\n",
      "include \"qelib1.inc\";\n",
      "qreg qbit[1];\n",
      "creg bit[1];\n",
      "x qbit[0];\n",
      "measure qbit[0] -> bit[0];\n",
      "\n"
     ]
    }
   ],
   "source": [
    "import matplotlib.pyplot as plt\n",
    "from qiskit import QuantumRegister, ClassicalRegister, QuantumCircuit\n",
    "from qiskit.visualization import plot_histogram\n",
    "\n",
    "\n",
    "############# CREATE #####################\n",
    "qr = QuantumRegister(1, 'qbit')\n",
    "cr = ClassicalRegister(1, 'bit')\n",
    "qc = QuantumCircuit(qr, cr)\n",
    "\n",
    "qc.x(0)\n",
    "qc.measure(0, 0)\n",
    "\n",
    "qc.draw(output='mpl')\n",
    "plt.show()\n",
    "\n",
    "print(qc.qasm())"
   ]
  },
  {
   "cell_type": "markdown",
   "id": "c7b02021-400a-43b7-8366-3e3397ab3392",
   "metadata": {},
   "source": [
    "# Run the code on a real quantum computer\n",
    "\n",
    "Visit https://quantum-computing.ibm.com/account and get the key!\n",
    "\n",
    "Visit https://quantum-computing.ibm.com/services?services=systems&systems=yours and choose a backend (1 bit is ok)."
   ]
  },
  {
   "cell_type": "code",
   "execution_count": 9,
   "id": "36f76f1b-fbad-44a1-9a50-fd7d5d633ac5",
   "metadata": {},
   "outputs": [
    {
     "name": "stderr",
     "output_type": "stream",
     "text": [
      "ibmqfactory.load_account:WARNING:2021-10-19 11:54:48,651: Credentials are already in use. The existing account in the session will be replaced.\n"
     ]
    },
    {
     "name": "stdout",
     "output_type": "stream",
     "text": [
      "Job Status: job has successfully run\n"
     ]
    },
    {
     "data": {
      "image/png": "[encoded data removed]",
      "text/plain": [
       "<Figure size 504x360 with 1 Axes>"
      ]
     },
     "metadata": {
      "needs_background": "light"
     },
     "output_type": "display_data"
    }
   ],
   "source": [
    "from qiskit import IBMQ, execute\n",
    "# IBMQ.save_account(\n",
    "#     '...'\n",
    "# )\n",
    "IBMQ.load_account()\n",
    "provider = IBMQ.get_provider('ibm-q')\n",
    "qpu = provider.get_backend(\"ibmq_armonk\")\n",
    "job = execute(qc, backend=qpu, shots=40)\n",
    "\n",
    "from qiskit.tools.monitor import job_monitor\n",
    "\n",
    "job_monitor(job)\n",
    "counts = job.result().get_counts()\n",
    "plot_histogram(counts)\n",
    "plt.show()"
   ]
  }
 ],
 "metadata": {
  "kernelspec": {
   "display_name": "Python [conda env:qiskit]",
   "language": "python",
   "name": "conda-env-qiskit-py"
  },
  "language_info": {
   "codemirror_mode": {
    "name": "ipython",
    "version": 3
   },
   "file_extension": ".py",
   "mimetype": "text/x-python",
   "name": "python",
   "nbconvert_exporter": "python",
   "pygments_lexer": "ipython3",
   "version": "3.9.6"
  }
 },
 "nbformat": 4,
 "nbformat_minor": 5
}
