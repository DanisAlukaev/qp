{
 "cells": [
  {
   "cell_type": "markdown",
   "id": "8e06c2b4-bedd-47cc-bb81-a3369470d8a9",
   "metadata": {},
   "source": [
    "# Quantum embeddings\n",
    "\n",
    "We seek to encode a feature vector $\\mathbb{R}^N$ in any quantum form. Or better to encode a dataset $(\\mathbb{R}^N)^M$ of such vectors.\n",
    "\n",
    "This [Pennylane tutorial](https://pennylane.ai/qml/glossary/quantum_embedding.html) proposes 2 techniques of encoding datasets.\n",
    "- First rely on binary vectors, which can be assumed as states, and dataset is a superposition on these states. Preparation is straightforward idealogically, but tricky in practice. Also, binary vectors are not exactly what we want.\n",
    "- Another approach is to flatten the dataset, such that for $M\\times N$ values (state amplitudes) we will need $\\log_2(M\\times N)$ qubits. The question is open - how to prepare the vector.\n",
    "\n",
    "This [paper](https://arxiv.org/pdf/quant-ph/0407010.pdf) is where everything started from. It utilizes the idea, that $U|a\\rangle=|b\\rangle$ in actually $A|a\\rangle=|r\\rangle=B|b\\rangle$, thus $B^\\dagger A|a\\rangle=|b\\rangle$. And if $|a\\rangle=|r\\rangle=|0\\rangle$, then we can search for $B$ -- for any vector equalized phases, and then for real-values vector equalizes amplitudes with a sequence of controlled rotations.\n",
    "\n",
    "This [Nature paper](https://www.nature.com/articles/s41598-021-85474-1.pdf) proposes DnC method, very similar to merge sort, which allocated 2N memory (uses O(N) ancillary qubit to \"hide\" entanglements) and solves the problem in linear time.\n",
    "\n",
    "And [this book](https://link.springer.com/book/10.1007/978-3-319-96424-9) in chapter 3.4. expands other strategies.\n",
    "\n",
    "# Let's do a phase encoding of 4-element vector and estimate it's complexity.\n",
    "\n",
    "This simple example takes the essence of encoding. It uses ancilla qubit to \"hide\" entanglements and it uses controlled rotation for each state."
   ]
  },
  {
   "cell_type": "code",
   "execution_count": 51,
   "id": "cce97e5e-43a9-41c3-8c1e-58c05910c790",
   "metadata": {},
   "outputs": [
    {
     "name": "stdout",
     "output_type": "stream",
     "text": [
      "[[0.        ]\n",
      " [0.39269908]\n",
      " [0.9817477 ]\n",
      " [1.57079633]]\n"
     ]
    },
    {
     "data": {
      "text/html": [
       "<pre style=\"word-wrap: normal;white-space: pre;background: #fff0;line-height: 1.1;font-family: &quot;Courier New&quot;,Courier,monospace\">     ┌───┐┌───┐         ┌───┐ ░                        ░ ┌───┐              »\n",
       "q_0: ┤ H ├┤ X ├────■────┤ X ├─░───────────■────────────░─┤ X ├──────■───────»\n",
       "     ├───┤├───┤    │    ├───┤ ░ ┌───┐     │      ┌───┐ ░ └───┘      │       »\n",
       "q_1: ┤ H ├┤ X ├────■────┤ X ├─░─┤ X ├─────■──────┤ X ├─░────────────■───────»\n",
       "     ├───┤└───┘┌───┴───┐└───┘ ░ └───┘┌────┴─────┐└───┘ ░      ┌─────┴──────┐»\n",
       "a_0: ┤ H ├─────┤ Rz(0) ├──────░──────┤ Rz(-π/8) ├──────░──────┤ Rz(-5π/16) ├»\n",
       "     └───┘     └───────┘      ░      └──────────┘      ░      └────────────┘»\n",
       "c: 2/═══════════════════════════════════════════════════════════════════════»\n",
       "                                                                            »\n",
       "«     ┌───┐ ░              ░ \n",
       "«q_0: ┤ X ├─░──────■───────░─\n",
       "«     └───┘ ░      │       ░ \n",
       "«q_1: ──────░──────■───────░─\n",
       "«           ░ ┌────┴─────┐ ░ \n",
       "«a_0: ──────░─┤ Rz(-π/2) ├─░─\n",
       "«           ░ └──────────┘ ░ \n",
       "«c: 2/═══════════════════════\n",
       "«                            </pre>"
      ],
      "text/plain": [
       "     ┌───┐┌───┐         ┌───┐ ░                        ░ ┌───┐              »\n",
       "q_0: ┤ H ├┤ X ├────■────┤ X ├─░───────────■────────────░─┤ X ├──────■───────»\n",
       "     ├───┤├───┤    │    ├───┤ ░ ┌───┐     │      ┌───┐ ░ └───┘      │       »\n",
       "q_1: ┤ H ├┤ X ├────■────┤ X ├─░─┤ X ├─────■──────┤ X ├─░────────────■───────»\n",
       "     ├───┤└───┘┌───┴───┐└───┘ ░ └───┘┌────┴─────┐└───┘ ░      ┌─────┴──────┐»\n",
       "a_0: ┤ H ├─────┤ Rz(0) ├──────░──────┤ Rz(-π/8) ├──────░──────┤ Rz(-5π/16) ├»\n",
       "     └───┘     └───────┘      ░      └──────────┘      ░      └────────────┘»\n",
       "c: 2/═══════════════════════════════════════════════════════════════════════»\n",
       "                                                                            »\n",
       "«     ┌───┐ ░              ░ \n",
       "«q_0: ┤ X ├─░──────■───────░─\n",
       "«     └───┘ ░      │       ░ \n",
       "«q_1: ──────░──────■───────░─\n",
       "«           ░ ┌────┴─────┐ ░ \n",
       "«a_0: ──────░─┤ Rz(-π/2) ├─░─\n",
       "«           ░ └──────────┘ ░ \n",
       "«c: 2/═══════════════════════\n",
       "«                            "
      ]
     },
     "metadata": {},
     "output_type": "display_data"
    },
    {
     "name": "stdout",
     "output_type": "stream",
     "text": [
      "8.63550852276076e-16\n",
      "0.392699081698725\n",
      "0.9817477042468106\n",
      "1.5707963267948966\n"
     ]
    }
   ],
   "source": [
    "from qiskit import QuantumRegister, ClassicalRegister, QuantumCircuit, Aer, execute\n",
    "from qiskit.visualization import plot_histogram\n",
    "from qiskit import execute, Aer\n",
    "import matplotlib.pyplot as plt\n",
    "from qiskit.circuit.library import RZGate, ZGate\n",
    "\n",
    "import numpy as np\n",
    "vec = np.array([[0., 2., 5., 8.]]).T\n",
    "normed = vec / 32\n",
    "angles = normed * 2 * np.pi\n",
    "print(angles)\n",
    "\n",
    "qr = QuantumRegister(2, \"q\")\n",
    "ancilla = QuantumRegister(1, \"a\")\n",
    "cr = ClassicalRegister(2, \"c\")\n",
    "qc = QuantumCircuit(qr, ancilla, cr)\n",
    "\n",
    "# equal amplitude superposition\n",
    "qc.h(qr)\n",
    "qc.h(ancilla)\n",
    "\n",
    "# for each state\n",
    "for i in range(2 ** 2):\n",
    "    bs = f\"{i:02b}\"\n",
    "    \n",
    "    # prepare controlled rotation\n",
    "    cccrz = RZGate(-angles[i, 0]).control(2)\n",
    "    \n",
    "    # set X (q = 1) where 0 supposed to be\n",
    "    # as controlled operations fire on \"all ones\"\n",
    "    for c, qb in zip(bs[::-1], qr):\n",
    "        if c == '0': qc.x(qb)\n",
    "    \n",
    "    # add rotation\n",
    "    qc.append(cccrz, qr[:] + ancilla[:])\n",
    "    \n",
    "    # cancel presets\n",
    "    for c, qb in zip(bs[::-1], qr):\n",
    "        if c == '0': qc.x(qb)\n",
    "            \n",
    "    qc.barrier()\n",
    "    \n",
    "display(qc.draw())\n",
    "\n",
    "job = execute(qc, Aer.get_backend('statevector_simulator'))\n",
    "result = job.result()\n",
    "\n",
    "import cmath\n",
    "vector = result.get_statevector(qc)\n",
    "for i in vector[:4]:\n",
    "    print(cmath.phase(i) * 2)"
   ]
  },
  {
   "cell_type": "code",
   "execution_count": 52,
   "id": "f42becd0-7e23-4f41-a769-72caef572392",
   "metadata": {},
   "outputs": [
    {
     "data": {
      "text/html": [
       "<pre style=\"word-wrap: normal;white-space: pre;background: #fff0;line-height: 1.1;font-family: &quot;Courier New&quot;,Courier,monospace\">     ┌───┐┌───┐         ┌───┐ ░                        ░ ┌───┐              »\n",
       "q_0: ┤ H ├┤ X ├────■────┤ X ├─░───────────■────────────░─┤ X ├──────■───────»\n",
       "     ├───┤├───┤    │    ├───┤ ░ ┌───┐     │      ┌───┐ ░ └───┘      │       »\n",
       "q_1: ┤ H ├┤ X ├────■────┤ X ├─░─┤ X ├─────■──────┤ X ├─░────────────■───────»\n",
       "     ├───┤└───┘┌───┴───┐└───┘ ░ └───┘┌────┴─────┐└───┘ ░      ┌─────┴──────┐»\n",
       "a_0: ┤ H ├─────┤ Rz(0) ├──────░──────┤ Rz(-π/8) ├──────░──────┤ Rz(-5π/16) ├»\n",
       "     └───┘     └───────┘      ░      └──────────┘      ░      └────────────┘»\n",
       "c: 2/═══════════════════════════════════════════════════════════════════════»\n",
       "                                                                            »\n",
       "«     ┌───┐ ░              ░ ┌───┐┌───┐   ┌───┐┌───┐┌─┐   \n",
       "«q_0: ┤ X ├─░──────■───────░─┤ H ├┤ X ├─■─┤ X ├┤ H ├┤M├───\n",
       "«     └───┘ ░      │       ░ ├───┤├───┤ │ ├───┤├───┤└╥┘┌─┐\n",
       "«q_1: ──────░──────■───────░─┤ H ├┤ X ├─■─┤ X ├┤ H ├─╫─┤M├\n",
       "«           ░ ┌────┴─────┐ ░ ├───┤├───┤ │ ├───┤├───┤ ║ └╥┘\n",
       "«a_0: ──────░─┤ Rz(-π/2) ├─░─┤ H ├┤ X ├─■─┤ X ├┤ H ├─╫──╫─\n",
       "«           ░ └──────────┘ ░ └───┘└───┘   └───┘└───┘ ║  ║ \n",
       "«c: 2/═══════════════════════════════════════════════╩══╩═\n",
       "«                                                    0  1 </pre>"
      ],
      "text/plain": [
       "     ┌───┐┌───┐         ┌───┐ ░                        ░ ┌───┐              »\n",
       "q_0: ┤ H ├┤ X ├────■────┤ X ├─░───────────■────────────░─┤ X ├──────■───────»\n",
       "     ├───┤├───┤    │    ├───┤ ░ ┌───┐     │      ┌───┐ ░ └───┘      │       »\n",
       "q_1: ┤ H ├┤ X ├────■────┤ X ├─░─┤ X ├─────■──────┤ X ├─░────────────■───────»\n",
       "     ├───┤└───┘┌───┴───┐└───┘ ░ └───┘┌────┴─────┐└───┘ ░      ┌─────┴──────┐»\n",
       "a_0: ┤ H ├─────┤ Rz(0) ├──────░──────┤ Rz(-π/8) ├──────░──────┤ Rz(-5π/16) ├»\n",
       "     └───┘     └───────┘      ░      └──────────┘      ░      └────────────┘»\n",
       "c: 2/═══════════════════════════════════════════════════════════════════════»\n",
       "                                                                            »\n",
       "«     ┌───┐ ░              ░ ┌───┐┌───┐   ┌───┐┌───┐┌─┐   \n",
       "«q_0: ┤ X ├─░──────■───────░─┤ H ├┤ X ├─■─┤ X ├┤ H ├┤M├───\n",
       "«     └───┘ ░      │       ░ ├───┤├───┤ │ ├───┤├───┤└╥┘┌─┐\n",
       "«q_1: ──────░──────■───────░─┤ H ├┤ X ├─■─┤ X ├┤ H ├─╫─┤M├\n",
       "«           ░ ┌────┴─────┐ ░ ├───┤├───┤ │ ├───┤├───┤ ║ └╥┘\n",
       "«a_0: ──────░─┤ Rz(-π/2) ├─░─┤ H ├┤ X ├─■─┤ X ├┤ H ├─╫──╫─\n",
       "«           ░ └──────────┘ ░ └───┘└───┘   └───┘└───┘ ║  ║ \n",
       "«c: 2/═══════════════════════════════════════════════╩══╩═\n",
       "«                                                    0  1 "
      ]
     },
     "metadata": {},
     "output_type": "display_data"
    },
    {
     "data": {
      "image/png": "[encoded data removed]",
      "text/plain": [
       "<Figure size 504x360 with 1 Axes>"
      ]
     },
     "metadata": {
      "needs_background": "light"
     },
     "output_type": "display_data"
    }
   ],
   "source": [
    "qc.h(qr)\n",
    "qc.h(ancilla)\n",
    "qc.x(qr)\n",
    "qc.x(ancilla)\n",
    "qc.append(ZGate().control(2), [qr[0], qr[1], ancilla[0]] )\n",
    "qc.x(qr)\n",
    "qc.x(ancilla)\n",
    "qc.h(qr)\n",
    "qc.h(ancilla)\n",
    "\n",
    "qc.measure(qr, cr)\n",
    "\n",
    "display(qc.draw())\n",
    "\n",
    "job = execute(qc, Aer.get_backend('qasm_simulator'), shots=10000)\n",
    "counts = job.result().get_counts(qc)\n",
    "plot_histogram(counts)\n",
    "plt.show()"
   ]
  },
  {
   "cell_type": "markdown",
   "id": "a4829698-5f5f-49ae-ab5c-110b2c12aa6a",
   "metadata": {},
   "source": [
    "## The following video gives an idea about using qiskit for arbitrary initialization."
   ]
  },
  {
   "cell_type": "code",
   "execution_count": 3,
   "id": "61c5131a-4244-426f-9347-58ba7b5122bc",
   "metadata": {},
   "outputs": [
    {
     "data": {
      "image/jpeg": "[encoded data removed]",
      "text/html": [
       "\n",
       "        <iframe\n",
       "            width=\"400\"\n",
       "            height=\"300\"\n",
       "            src=\"https://www.youtube.com/embed/tOWV94-ydL4\"\n",
       "            frameborder=\"0\"\n",
       "            allowfullscreen\n",
       "        ></iframe>\n",
       "        "
      ],
      "text/plain": [
       "<IPython.lib.display.YouTubeVideo at 0x1a0317eae50>"
      ]
     },
     "execution_count": 3,
     "metadata": {},
     "output_type": "execute_result"
    }
   ],
   "source": [
    "from IPython.display import YouTubeVideo\n",
    "YouTubeVideo('tOWV94-ydL4')"
   ]
  },
  {
   "cell_type": "markdown",
   "id": "eb15e5df-231f-41c9-8dfc-e39527ce8e61",
   "metadata": {},
   "source": [
    "## TODO\n",
    "Initialize amplitude-encoded vector using `qc.initialize(data, register)`"
   ]
  },
  {
   "cell_type": "code",
   "execution_count": null,
   "id": "14ebf86d-4659-447b-bf23-f42e89299c89",
   "metadata": {},
   "outputs": [],
   "source": [
    "## TODO you code here"
   ]
  }
 ],
 "metadata": {
  "kernelspec": {
   "display_name": "Python [conda env:qiskit]",
   "language": "python",
   "name": "conda-env-qiskit-py"
  },
  "language_info": {
   "codemirror_mode": {
    "name": "ipython",
    "version": 3
   },
   "file_extension": ".py",
   "mimetype": "text/x-python",
   "name": "python",
   "nbconvert_exporter": "python",
   "pygments_lexer": "ipython3",
   "version": "3.9.6"
  }
 },
 "nbformat": 4,
 "nbformat_minor": 5
}
