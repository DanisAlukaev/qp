{
 "cells": [
  {
   "cell_type": "markdown",
   "id": "2956ea7f-5866-42d9-bbb6-9a9a55238686",
   "metadata": {},
   "source": [
    "# How to create a CC-U gate given CNOT and unary gates\n",
    "\n",
    "We look for such $V$, that $V^2=U$. How?\n",
    "\n",
    "For rotations this is easy: $Rot(2\\alpha)=Rot^2(\\alpha)$.\n",
    "\n",
    "For reflections this can be a problem. Still, we have [Matrix square root](https://en.wikipedia.org/wiki/Square_root_of_a_matrix).\n",
    "\n",
    "### How to?\n",
    "\n",
    "Note, that if we apply $V$, and then we can branch into $V$ again, or $V^\\dagger$. First path will bring us to $U$, whereas the second will cancel the operation, as $V^\\dagger = V^{-1}$. So, using this idea we can build a $CCU$!\n",
    "\n",
    "![](https://qiskit.org/textbook/ch-gates/images/iden2.png) [pic](https://qiskit.org/textbook/ch-gates/more-circuit-identities.html)\n",
    "\n",
    "### Go ahead and practice!\n",
    "\n",
    "Implement CCZ.\n",
    "\n",
    "$CCZ$ matrix is:"
   ]
  },
  {
   "cell_type": "code",
   "execution_count": 2,
   "id": "ef49f679-6661-4b69-b7b9-563210e3f9b0",
   "metadata": {},
   "outputs": [
    {
     "name": "stdout",
     "output_type": "stream",
     "text": [
      "[[ 1.  0.  0.  0.  0.  0.  0.  0.]\n",
      " [ 0.  1.  0.  0.  0.  0.  0.  0.]\n",
      " [ 0.  0.  1.  0.  0.  0.  0.  0.]\n",
      " [ 0.  0.  0.  1.  0.  0.  0.  0.]\n",
      " [ 0.  0.  0.  0.  1.  0.  0.  0.]\n",
      " [ 0.  0.  0.  0.  0.  1.  0.  0.]\n",
      " [ 0.  0.  0.  0.  0.  0.  1.  0.]\n",
      " [ 0.  0.  0.  0.  0.  0.  0. -1.]]\n"
     ]
    }
   ],
   "source": [
    "import numpy as np\n",
    "CCZ = np.eye(8)\n",
    "CCZ[-1, -1] = -1\n",
    "print(CCZ)"
   ]
  },
  {
   "cell_type": "code",
   "execution_count": 26,
   "id": "9c410d7b-d921-4ad0-a658-a2bd2dd5a029",
   "metadata": {},
   "outputs": [
    {
     "data": {
      "image/png": "[encoded data removed]",
      "text/plain": [
       "<Figure size 606.274x264.88 with 1 Axes>"
      ]
     },
     "metadata": {},
     "output_type": "display_data"
    },
    {
     "name": "stdout",
     "output_type": "stream",
     "text": [
      "OPENQASM 2.0;\n",
      "include \"qelib1.inc\";\n",
      "gate cs q0,q1 { cp(pi/2) q0,q1; }\n",
      "gate csdg q0,q1 { cp(-pi/2) q0,q1; }\n",
      "qreg qbits[3];\n",
      "creg bits[3];\n",
      "cs qbits[1],qbits[2];\n",
      "cx qbits[0],qbits[1];\n",
      "csdg qbits[1],qbits[2];\n",
      "cx qbits[0],qbits[1];\n",
      "cs qbits[0],qbits[2];\n",
      "measure qbits[0] -> bits[0];\n",
      "measure qbits[1] -> bits[1];\n",
      "measure qbits[2] -> bits[2];\n",
      "\n"
     ]
    }
   ],
   "source": [
    "from qiskit import QuantumRegister, ClassicalRegister, QuantumCircuit, execute, Aer\n",
    "import matplotlib.pyplot as plt\n",
    "\n",
    "qr = QuantumRegister(3, 'qbits')\n",
    "cr = ClassicalRegister(3, 'bits')\n",
    "qc = QuantumCircuit(qr, cr)\n",
    "\n",
    "\n",
    "from qiskit.circuit.library.standard_gates import SGate\n",
    "\n",
    "# this is a construction of random controlled gate\n",
    "CS = SGate().control(1)\n",
    "\n",
    "# this is how we can inverse\n",
    "CSI = SGate().inverse().control(1)\n",
    "\n",
    "qc.append(CS, qr[1:])\n",
    "qc.cx(0, 1)\n",
    "qc.append(CSI, qr[1:])\n",
    "qc.cx(0, 1)\n",
    "qc.append(CS, [qr[0], qr[2]])\n",
    "\n",
    "qc.measure(qr, cr)\n",
    "qc.draw(output='mpl')\n",
    "plt.show()\n",
    "\n",
    "print(qc.qasm())"
   ]
  },
  {
   "cell_type": "markdown",
   "id": "ac9bd951-6f0c-4662-a265-cdda8d4d5e80",
   "metadata": {},
   "source": [
    "To read -- CSDG - Cylindrical Surrounding Double-Gate"
   ]
  }
 ],
 "metadata": {
  "kernelspec": {
   "display_name": "Python [conda env:qiskit]",
   "language": "python",
   "name": "conda-env-qiskit-py"
  },
  "language_info": {
   "codemirror_mode": {
    "name": "ipython",
    "version": 3
   },
   "file_extension": ".py",
   "mimetype": "text/x-python",
   "name": "python",
   "nbconvert_exporter": "python",
   "pygments_lexer": "ipython3",
   "version": "3.9.6"
  }
 },
 "nbformat": 4,
 "nbformat_minor": 5
}
