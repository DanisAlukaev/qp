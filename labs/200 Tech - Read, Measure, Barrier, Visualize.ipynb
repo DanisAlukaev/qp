{
 "cells": [
  {
   "cell_type": "markdown",
   "id": "8ab97266-4ed4-4557-b9dc-a1d770dc4c62",
   "metadata": {},
   "source": [
    "## QASM\n",
    "\n",
    "[OpenQASM3](https://medium.com/qiskit/a-new-openqasm-for-a-new-era-of-dynamic-circuits-87f031cac49) is a new iteration of quantum assembler language, addresses problems of:\n",
    "- dynamic circuits (those which can have classic control, not pure quantum)\n",
    "- adding pulses (low level interactions), not only gates.\n",
    "- time aware (decoherence time).\n"
   ]
  },
  {
   "cell_type": "code",
   "execution_count": 15,
   "id": "2ecb4326-43e2-407e-b7c3-c4b1e6efa569",
   "metadata": {},
   "outputs": [
    {
     "name": "stdout",
     "output_type": "stream",
     "text": [
      "             ┌───┐ ░ ┌─┐   \n",
      "   q_0: ─────┤ X ├─░─┤M├───\n",
      "        ┌───┐└─┬─┘ ░ └╥┘┌─┐\n",
      "   q_1: ┤ H ├──■───░──╫─┤M├\n",
      "        └───┘      ░  ║ └╥┘\n",
      "meas: 2/══════════════╩══╩═\n",
      "                      0  1 \n",
      "             ┌───┐ ░ ┌─┐   \n",
      "   q_0: ─────┤ X ├─░─┤M├───\n",
      "        ┌───┐└─┬─┘ ░ └╥┘┌─┐\n",
      "   q_1: ┤ H ├──■───░──╫─┤M├\n",
      "        └───┘      ░  ║ └╥┘\n",
      "meas: 2/══════════════╩══╩═\n",
      "                      0  1 \n"
     ]
    }
   ],
   "source": [
    "from qiskit import QuantumRegister, ClassicalRegister, QuantumCircuit, Aer, execute\n",
    "qc = QuantumCircuit(2)\n",
    "qc.h(1)\n",
    "qc.cx(1, 0)\n",
    "qc.measure_all()\n",
    "code = qc.qasm()\n",
    "\n",
    "with open('bell.qasm', 'w') as f:\n",
    "    f.write(code)\n",
    "\n",
    "# These are parser utilities\n",
    "from qiskit.qasm import Qasm\n",
    "qasm_obj = Qasm('bell.qasm')\n",
    "prog = qasm_obj.parse()\n",
    "tokens = qasm_obj.generate_tokens()\n",
    "\n",
    "# this is usage\n",
    "print(QuantumCircuit.from_qasm_file('bell.qasm').draw())\n",
    "print(QuantumCircuit.from_qasm_str(code).draw())"
   ]
  },
  {
   "cell_type": "markdown",
   "id": "15fa2a0c-5e5d-4543-aedb-82edca01843a",
   "metadata": {},
   "source": [
    "# Barriers\n",
    "\n",
    "Visual barriers, not considered in computations."
   ]
  },
  {
   "cell_type": "code",
   "execution_count": 94,
   "id": "75cf24bf-761f-4d71-b56e-fdedbbecfbef",
   "metadata": {},
   "outputs": [
    {
     "data": {
      "text/html": [
       "<pre style=\"word-wrap: normal;white-space: pre;background: #fff0;line-height: 1.1;font-family: &quot;Courier New&quot;,Courier,monospace\">     ┌───┐ ░                         \n",
       "q_0: ┤ X ├─░─────────────────────────\n",
       "     └───┘ ░ ┌───┐  ░           ░    \n",
       "q_1: ──────░─┤ X ├──░───────────░────\n",
       "           ░ ├───┤┌───┐ ░       ░  ░ \n",
       "q_2: ──────░─┤ X ├┤ H ├─░───────░──░─\n",
       "           ░ ├───┤└───┘ ░       ░  ░ \n",
       "q_3: ──────░─┤ Z ├─────────────────░─\n",
       "           ░ └───┘      ░ ┌───┐ ░  ░ \n",
       "q_4: ──────░────────────░─┤ X ├─░────\n",
       "           ░            ░ └───┘ ░    </pre>"
      ],
      "text/plain": [
       "     ┌───┐ ░                         \n",
       "q_0: ┤ X ├─░─────────────────────────\n",
       "     └───┘ ░ ┌───┐  ░           ░    \n",
       "q_1: ──────░─┤ X ├──░───────────░────\n",
       "           ░ ├───┤┌───┐ ░       ░  ░ \n",
       "q_2: ──────░─┤ X ├┤ H ├─░───────░──░─\n",
       "           ░ ├───┤└───┘ ░       ░  ░ \n",
       "q_3: ──────░─┤ Z ├─────────────────░─\n",
       "           ░ └───┘      ░ ┌───┐ ░  ░ \n",
       "q_4: ──────░────────────░─┤ X ├─░────\n",
       "           ░            ░ └───┘ ░    "
      ]
     },
     "execution_count": 94,
     "metadata": {},
     "output_type": "execute_result"
    }
   ],
   "source": [
    "qr = QuantumRegister(5, name=\"q\")\n",
    "qc = QuantumCircuit(qr)\n",
    "qc.x(0)\n",
    "\n",
    "# full barrier\n",
    "qc.barrier()\n",
    "qc.x(1)\n",
    "\n",
    "# 1-qubit\n",
    "qc.barrier(1)\n",
    "qc.x(2)\n",
    "qc.h(2)\n",
    "\n",
    "# multi-qubit\n",
    "qc.barrier(2, 4)\n",
    "qc.x(4)\n",
    "b = qc.barrier([1, 2, 4])\n",
    "qc.z(3)\n",
    "\n",
    "# works with qubit objects also\n",
    "qc.barrier(qr[2:4])\n",
    "qc.draw()"
   ]
  },
  {
   "cell_type": "markdown",
   "id": "b224de84-bf53-465a-94f7-3f2cba32714d",
   "metadata": {},
   "source": [
    "# Operators\n",
    "\n",
    "[source](https://qiskit.org/documentation/tutorials/circuits_advanced/02_operators_overview.html).\n",
    "\n",
    "The Operator class is used in Qiskit to represent matrix operators acting on a quantum system. It has several methods to build composite operators using tensor products of smaller operators, and to compose operators.\n",
    "\n",
    "Operators can be non-square."
   ]
  },
  {
   "cell_type": "code",
   "execution_count": 95,
   "id": "fa638a54-61a0-4ac3-b066-42751697abce",
   "metadata": {},
   "outputs": [
    {
     "name": "stdout",
     "output_type": "stream",
     "text": [
      "(4, 4)\n",
      "[[0.+0.j 0.+0.j 0.+0.j 1.+0.j]\n",
      " [0.+0.j 0.+0.j 1.+0.j 0.+0.j]\n",
      " [0.+0.j 1.+0.j 0.+0.j 0.+0.j]\n",
      " [1.+0.j 0.+0.j 0.+0.j 0.+0.j]]\n",
      "Input dimensions: (2, 2)\n",
      "Output dimensions: (2, 2)\n"
     ]
    }
   ],
   "source": [
    "from qiskit.quantum_info.operators import Operator, Pauli\n",
    "from qiskit.extensions import RXGate, XGate, CXGate\n",
    "\n",
    "XX = Operator([[0, 0, 0, 1], [0, 0, 1, 0], [0, 1, 0, 0], [1, 0, 0, 0]])\n",
    "print(XX.dim)\n",
    "print(XX.data)\n",
    "\n",
    "print('Input dimensions:', XX.input_dims())\n",
    "print('Output dimensions:', XX.output_dims())"
   ]
  },
  {
   "cell_type": "markdown",
   "id": "47de48e9-0f69-4f34-add3-1b4b4bcbe54c",
   "metadata": {},
   "source": [
    "Create an Operator from a Pauli object, Gate, and a Circuit."
   ]
  },
  {
   "cell_type": "code",
   "execution_count": 96,
   "id": "4c973db4-ba0c-4205-bc1c-0cfdda8053f5",
   "metadata": {},
   "outputs": [
    {
     "name": "stdout",
     "output_type": "stream",
     "text": [
      "Operator([[0.+0.j, 0.-1.j, 0.+0.j, 0.+0.j],\n",
      "          [0.+1.j, 0.+0.j, 0.+0.j, 0.+0.j],\n",
      "          [0.+0.j, 0.+0.j, 0.+0.j, 0.+1.j],\n",
      "          [0.+0.j, 0.+0.j, 0.-1.j, 0.+0.j]],\n",
      "         input_dims=(2, 2), output_dims=(2, 2))\n",
      "\n",
      "Operator([[0.+0.j, 0.-1.j, 0.+0.j, 0.+0.j],\n",
      "          [0.+1.j, 0.+0.j, 0.+0.j, 0.+0.j],\n",
      "          [0.+0.j, 0.+0.j, 0.+0.j, 0.+1.j],\n",
      "          [0.+0.j, 0.+0.j, 0.-1.j, 0.+0.j]],\n",
      "         input_dims=(2, 2), output_dims=(2, 2))\n",
      "\n",
      "Operator([[1.+0.j, 0.+0.j, 0.+0.j, 0.+0.j],\n",
      "          [0.+0.j, 0.+0.j, 0.+0.j, 1.+0.j],\n",
      "          [0.+0.j, 0.+0.j, 1.+0.j, 0.+0.j],\n",
      "          [0.+0.j, 1.+0.j, 0.+0.j, 0.+0.j]],\n",
      "         input_dims=(2, 2), output_dims=(2, 2))\n"
     ]
    }
   ],
   "source": [
    "print(Operator(Pauli('ZY')))\n",
    "print()\n",
    "\n",
    "qc = QuantumCircuit(2)\n",
    "qc.z(1)\n",
    "qc.y(0)\n",
    "print(Operator(qc))\n",
    "print()\n",
    "\n",
    "print(Operator(CXGate()))"
   ]
  },
  {
   "cell_type": "code",
   "execution_count": 97,
   "id": "25285e8c-6f03-47e3-9f6d-f55e7cf97848",
   "metadata": {},
   "outputs": [
    {
     "data": {
      "text/plain": [
       "Operator([[1.+0.j, 0.+0.j, 0.+0.j, 0.+0.j],\n",
       "          [0.+0.j, 0.+0.j, 0.+0.j, 1.+0.j],\n",
       "          [0.+0.j, 0.+0.j, 1.+0.j, 0.+0.j],\n",
       "          [0.+0.j, 1.+0.j, 0.+0.j, 0.+0.j]],\n",
       "         input_dims=(2, 2), output_dims=(2, 2))"
      ]
     },
     "execution_count": 97,
     "metadata": {},
     "output_type": "execute_result"
    }
   ],
   "source": [
    "Operator(CXGate())"
   ]
  },
  {
   "cell_type": "markdown",
   "id": "1e1d6fca-0ac8-4838-9164-51d7de1f6ed6",
   "metadata": {},
   "source": [
    "Unitary check"
   ]
  },
  {
   "cell_type": "code",
   "execution_count": 98,
   "id": "56a84692-e433-4cfb-8420-e5c2740cd899",
   "metadata": {},
   "outputs": [
    {
     "name": "stdout",
     "output_type": "stream",
     "text": [
      "True\n",
      "False\n"
     ]
    }
   ],
   "source": [
    "print(Operator(CXGate()).is_unitary())\n",
    "\n",
    "print(Operator([[0, 1], [1, 1]]).is_unitary())"
   ]
  },
  {
   "cell_type": "code",
   "execution_count": 105,
   "id": "d5726092-d2e0-4cbd-89d9-f44422951d7a",
   "metadata": {},
   "outputs": [
    {
     "data": {
      "image/png": "[encoded data removed]",
      "text/plain": [
       "<Figure size 507.852x204.68 with 1 Axes>"
      ]
     },
     "execution_count": 105,
     "metadata": {},
     "output_type": "execute_result"
    }
   ],
   "source": [
    "# Create an operator\n",
    "XX = Operator(Pauli(label='XX'))\n",
    "\n",
    "# Add to a circuit\n",
    "circ = QuantumCircuit(2, 2)\n",
    "circ.append(XX, [0, 1])\n",
    "circ.cx(1, 0)\n",
    "circ.append(Operator([[1j, 0.], [0., -1j]]), [1])\n",
    "\n",
    "\n",
    "import scipy\n",
    "\n",
    "# some Hermitian\n",
    "H = np.array([[1, -1/3], [-1/3, 1]])\n",
    "\n",
    "# Get it's Unitary\n",
    "U = scipy.linalg.expm(1j * H)\n",
    "circ.append(Operator(U), [0])\n",
    "\n",
    "circ.measure([0,1], [0,1])\n",
    "circ.draw('mpl')"
   ]
  },
  {
   "cell_type": "markdown",
   "id": "6c1aa3e5-5255-4a9a-9428-32793e432c5a",
   "metadata": {},
   "source": [
    "If Operator is Unitary, life is easier!"
   ]
  },
  {
   "cell_type": "code",
   "execution_count": 107,
   "id": "7ba97eee-9bd3-46a3-a5a0-69dd667a4a20",
   "metadata": {},
   "outputs": [
    {
     "data": {
      "text/html": [
       "<pre style=\"word-wrap: normal;white-space: pre;background: #fff0;line-height: 1.1;font-family: &quot;Courier New&quot;,Courier,monospace\">global phase: 2.5708\n",
       "     ┌────────────────┐┌───┐┌──────────────────────┐┌─┐   \n",
       "q_0: ┤ U3(π,-π/2,π/2) ├┤ X ├┤ U3(0.66667,-π/2,π/2) ├┤M├───\n",
       "     ├────────────────┤└─┬─┘└──────┬────────┬──────┘└╥┘┌─┐\n",
       "q_1: ┤ U3(π,π/2,-π/2) ├──■─────────┤ U1(-π) ├────────╫─┤M├\n",
       "     └────────────────┘            └────────┘        ║ └╥┘\n",
       "c: 2/════════════════════════════════════════════════╩══╩═\n",
       "                                                     0  1 </pre>"
      ],
      "text/plain": [
       "global phase: 2.5708\n",
       "     ┌────────────────┐┌───┐┌──────────────────────┐┌─┐   \n",
       "q_0: ┤ U3(π,-π/2,π/2) ├┤ X ├┤ U3(0.66667,-π/2,π/2) ├┤M├───\n",
       "     ├────────────────┤└─┬─┘└──────┬────────┬──────┘└╥┘┌─┐\n",
       "q_1: ┤ U3(π,π/2,-π/2) ├──■─────────┤ U1(-π) ├────────╫─┤M├\n",
       "     └────────────────┘            └────────┘        ║ └╥┘\n",
       "c: 2/════════════════════════════════════════════════╩══╩═\n",
       "                                                     0  1 "
      ]
     },
     "execution_count": 107,
     "metadata": {},
     "output_type": "execute_result"
    }
   ],
   "source": [
    "from qiskit.compiler import transpile\n",
    "from qiskit import BasicAer\n",
    "\n",
    "backend = BasicAer.get_backend('qasm_simulator')\n",
    "circ = transpile(circ, backend, basis_gates=['u1','u2','u3','cx'])\n",
    "circ.draw()"
   ]
  },
  {
   "cell_type": "markdown",
   "id": "ba96d485-1ee0-4fde-a2c5-612e7d8bc489",
   "metadata": {},
   "source": [
    "Tensoring, composition, and linear combination"
   ]
  },
  {
   "cell_type": "code",
   "execution_count": 108,
   "id": "9d0b6d85-18c5-49e0-a9e5-44e80af7e9b8",
   "metadata": {},
   "outputs": [
    {
     "name": "stdout",
     "output_type": "stream",
     "text": [
      "Operator([[ 0.+0.j,  1.+0.j],\n",
      "          [-1.+0.j,  0.+0.j]],\n",
      "         input_dims=(2,), output_dims=(2,))\n",
      "\n",
      "Operator([[ 3.+0.j,  1.+0.j],\n",
      "          [ 1.+0.j, -3.+0.j]],\n",
      "         input_dims=(2,), output_dims=(2,))\n"
     ]
    }
   ],
   "source": [
    "A = Operator(Pauli('X'))\n",
    "B = Operator(Pauli('Z'))\n",
    "\n",
    "AB = A.expand(B)\n",
    "import numpy as np\n",
    "\n",
    "np.allclose(AB.data, Operator(Pauli('ZX')).data)\n",
    "\n",
    "print(A.compose(B))\n",
    "print()\n",
    "print(A + 3 * B)"
   ]
  },
  {
   "cell_type": "markdown",
   "id": "2dec3613-4a43-4fc8-a4ed-675a5e2c9af3",
   "metadata": {},
   "source": [
    "# Fidelity\n",
    "of channels (transformations) and states.\n",
    "\n",
    "We may also compare operators using the `process_fidelity` function from the Quantum Information module. This is an information theoretic quantity for how close two quantum channels are to each other, and in the case of unitary operators it does not depend on global phase."
   ]
  },
  {
   "cell_type": "code",
   "execution_count": 122,
   "id": "f01d6562-792a-4546-b9d9-7750c20957e4",
   "metadata": {},
   "outputs": [
    {
     "name": "stdout",
     "output_type": "stream",
     "text": [
      "Process fidelity = 1.0\n"
     ]
    }
   ],
   "source": [
    "from qiskit.quantum_info import process_fidelity\n",
    "\n",
    "# Two operators which differ only by phase\n",
    "op_a = Operator(XGate())\n",
    "op_b = np.exp(1j * 0.5) * Operator(XGate())\n",
    "\n",
    "# Compute process fidelity\n",
    "F = process_fidelity(op_a, op_b)\n",
    "print('Process fidelity =', F)"
   ]
  },
  {
   "cell_type": "markdown",
   "id": "96cf7743-4af2-4e83-a4e9-d8f763495e9b",
   "metadata": {},
   "source": [
    "In quantum mechanics, notably in quantum information theory, **fidelity is a measure of the \"closeness\" of two quantum states**. It expresses the probability that one state will pass a test to identify as the other.\n",
    "\n",
    "For 2 density matrices, fidelity is defined as ${\\displaystyle F(\\rho ,\\sigma )=\\left(\\operatorname {tr} {\\sqrt {{\\sqrt {\\rho }}\\sigma {\\sqrt {\\rho }}}}\\right)^{2}}$.\n",
    "\n",
    "If one of the states is a pure state this simplifies to $F(\\rho_1, \\rho_2) = \\langle\\psi_1|\\rho_2|\\psi_1\\rangle$ where $\\rho_1 = |\\psi_1\\rangle\\!\\langle\\psi_1|$.\n",
    "\n",
    "To measure fidelity of 2 quantum states we use [qiskit.quantum_info.state_fidelity](https://qiskit.org/documentation/stubs/qiskit.quantum_info.state_fidelity.html#qiskit.quantum_info.state_fidelity).\n",
    "\n",
    "**F(ρ,σ) = 1 if and only if ρ = σ, since Ψρ = Ψσ implies ρ = σ.** Thus, state vectors should be equal up to global phase."
   ]
  },
  {
   "cell_type": "code",
   "execution_count": 121,
   "id": "9ea61498-0f31-48f8-a277-44525df5e013",
   "metadata": {},
   "outputs": [
    {
     "name": "stdout",
     "output_type": "stream",
     "text": [
      "1.0\n",
      "1.0\n",
      "0.6400000000000001\n",
      "0.0\n"
     ]
    }
   ],
   "source": [
    "from qiskit.quantum_info import state_fidelity, process_fidelity, Statevector\n",
    "\n",
    "qc = QuantumCircuit(2)\n",
    "qc.x(1)\n",
    "qc.z(1)\n",
    "backend = BasicAer.get_backend('statevector_simulator')\n",
    "result = execute(qc, backend).result()\n",
    "state = result.get_statevector(qc)\n",
    "\n",
    "# up to phase\n",
    "print(state_fidelity(Statevector([0, 0, -1, 0]), state))\n",
    "print(state_fidelity(Statevector([0, 0, 1, 0]), state))\n",
    "\n",
    "print(state_fidelity(Statevector([0, 0, 0.8, 0.6]), state))\n",
    "\n",
    "# orthogonal\n",
    "print(state_fidelity(Statevector([0, 1, 0, 0]), state))"
   ]
  },
  {
   "cell_type": "markdown",
   "id": "3d88d8cf-5575-48ac-b6bb-a1569721738e",
   "metadata": {},
   "source": [
    "# Aer, BasicAer, and simulators\n",
    "\n",
    "[`BasicAer`](https://qiskit.org/documentation/apidoc/providers_basicaer.html) - A module of Python-based quantum simulators. Simulators are accessed via the BasicAer provider. Holds:\n",
    "- `QasmSimulatorPy([configuration, provider])` - Python implementation of a qasm simulator.\n",
    "- `StatevectorSimulatorPy([configuration, provider])` - Python statevector simulator.\n",
    "- `UnitarySimulatorPy([configuration, provider])` - Python implementation of a unitary simulator.\n",
    "\n",
    "--- \n",
    "\n",
    "[`Aer`](https://qiskit.org/documentation/apidoc/aer_provider.html). Holds:\n",
    "\n",
    "**Simulator Backends**:\n",
    "- `AerSimulator([configuration, properties, …])` - Noisy quantum circuit simulator backend.\n",
    "- `PulseSimulator([configuration, properties, …])` - Pulse schedule simulator backend.\n",
    "**Legacy Simulator Backends**\n",
    "- `QasmSimulator([configuration, properties, …])` - Noisy quantum circuit simulator backend.\n",
    "- `StatevectorSimulator([configuration, …])` - Ideal quantum circuit statevector simulator\n",
    "- `UnitarySimulator([configuration, …])` - Ideal quantum circuit unitary simulator.\n"
   ]
  },
  {
   "cell_type": "code",
   "execution_count": 137,
   "id": "15fad1f0-1ec3-4631-9daf-8f251134f9a1",
   "metadata": {},
   "outputs": [
    {
     "name": "stdout",
     "output_type": "stream",
     "text": [
      "AerSimulator('aer_simulator')\n",
      "<QasmSimulatorPy('qasm_simulator')>\n",
      "QasmSimulator('qasm_simulator')\n"
     ]
    }
   ],
   "source": [
    "from qiskit import Aer, BasicAer\n",
    "\n",
    "print(Aer.get_backend('aer_simulator').__repr__())\n",
    "print(BasicAer.get_backend('qasm_simulator').__repr__())\n",
    "print(Aer.get_backend('qasm_simulator').__repr__())  # legacy"
   ]
  },
  {
   "cell_type": "code",
   "execution_count": 157,
   "id": "fe187d5e-1ca7-4e7b-ad8d-a671e130dd4e",
   "metadata": {},
   "outputs": [
    {
     "name": "stdout",
     "output_type": "stream",
     "text": [
      "[0.+0.j 1.+0.j 0.+0.j 0.+0.j]\n",
      "\n",
      "[[0.+0.j 1.+0.j 0.+0.j 0.+0.j]\n",
      " [1.+0.j 0.+0.j 0.+0.j 0.+0.j]\n",
      " [0.+0.j 0.+0.j 0.+0.j 1.+0.j]\n",
      " [0.+0.j 0.+0.j 1.+0.j 0.+0.j]]\n",
      "\n",
      "{'01': 10}\n"
     ]
    }
   ],
   "source": [
    "qc = QuantumCircuit(2)\n",
    "qc.x(0)\n",
    "from qiskit import execute\n",
    "\n",
    "# statevector\n",
    "essense = execute(qc, BasicAer.get_backend('statevector_simulator')).result().get_statevector()\n",
    "print(np.round_(essense, 4))\n",
    "\n",
    "print()\n",
    "\n",
    "# unitary\n",
    "essense = BasicAer.get_backend('unitary_simulator').run(qc).result().get_unitary()\n",
    "print(essense)\n",
    "print()\n",
    "\n",
    "# qasm\n",
    "qc.measure_all()\n",
    "essense = execute(qc, BasicAer.get_backend('qasm_simulator'), shots=10).result().get_counts()\n",
    "print(essense)"
   ]
  },
  {
   "cell_type": "markdown",
   "id": "87915827-5eb4-4fec-ab41-b00684194be9",
   "metadata": {},
   "source": [
    "# IBMQ Backends\n",
    "\n",
    "![](https://miro.medium.com/max/700/1*YuR-BtRRTxLQ5EXW8fbUEQ.png)\n",
    "\n",
    "`Provider` - IBM Quantum Experience account provider. A server to ask about machines.\n",
    "\n",
    "`Backend` - IBM Quantum Experience device. Quantum computer."
   ]
  },
  {
   "cell_type": "code",
   "execution_count": 178,
   "id": "f9502538-d580-4647-9e3e-7be79ab941ae",
   "metadata": {},
   "outputs": [
    {
     "name": "stderr",
     "output_type": "stream",
     "text": [
      "ibmqfactory.load_account:WARNING:2021-11-23 15:50:11,256: Credentials are already in use. The existing account in the session will be replaced.\n"
     ]
    },
    {
     "name": "stdout",
     "output_type": "stream",
     "text": [
      "[<AccountProvider for IBMQ(hub='ibm-q', group='open', project='main')>]\n",
      "Works = True, Queue = 10, My Job Limit = <qiskit.providers.ibmq.backendjoblimit.BackendJobLimit object at 0x000002776F6F5880>, Qubits = 5\n"
     ]
    }
   ],
   "source": [
    "from qiskit import IBMQ\n",
    "\n",
    "# IBMQ.save_account(TOKEN)\n",
    "IBMQ.load_account()\n",
    "print(list(IBMQ.providers()))\n",
    "\n",
    "provider = IBMQ.get_provider('ibm-q')\n",
    "lima = provider.get_backend(\"ibmq_lima\")\n",
    "\n",
    "nq = lima.configuration().n_qubits\n",
    "my_limit = lima.job_limit()\n",
    "\n",
    "status = lima.status()\n",
    "is_operational = status.operational\n",
    "jobs_in_queue = status.pending_jobs\n",
    "\n",
    "print(f\"Works = {is_operational}, Queue = {jobs_in_queue}, My Job Limit = {my_limit}, Qubits = {nq}\")"
   ]
  },
  {
   "cell_type": "markdown",
   "id": "c9794e82-fd70-47dc-a312-ea1c3cf7282f",
   "metadata": {},
   "source": [
    "### Execution - syncronous"
   ]
  },
  {
   "cell_type": "code",
   "execution_count": 181,
   "id": "2ed335d0-eac5-422b-9f67-c2f77aa6d3d9",
   "metadata": {},
   "outputs": [
    {
     "name": "stdout",
     "output_type": "stream",
     "text": [
      "global phase: π/4\n",
      "               ┌─────────┐┌────┐┌─────────┐      ░ ┌─┐   \n",
      "      q_0 -> 0 ┤ Rz(π/2) ├┤ √X ├┤ Rz(π/2) ├──■───░─┤M├───\n",
      "               └─────────┘└────┘└─────────┘┌─┴─┐ ░ └╥┘┌─┐\n",
      "      q_1 -> 1 ────────────────────────────┤ X ├─░──╫─┤M├\n",
      "                                           └───┘ ░  ║ └╥┘\n",
      "ancilla_0 -> 2 ─────────────────────────────────────╫──╫─\n",
      "                                                    ║  ║ \n",
      "ancilla_1 -> 3 ─────────────────────────────────────╫──╫─\n",
      "                                                    ║  ║ \n",
      "ancilla_2 -> 4 ─────────────────────────────────────╫──╫─\n",
      "                                                    ║  ║ \n",
      "       meas: 2/═════════════════════════════════════╩══╩═\n",
      "                                                    0  1 \n",
      "Job Status: job has successfully run\n",
      "JobStatus.DONE {'00': 489, '01': 57, '10': 17, '11': 461}\n"
     ]
    }
   ],
   "source": [
    "import time\n",
    "\n",
    "##################################\n",
    "qc = QuantumCircuit(2)\n",
    "qc.h(0)\n",
    "qc.cx(0, 1)\n",
    "qc.measure_all()\n",
    "##################################\n",
    "\n",
    "##### TRANSPILE FOR BACKEND ######\n",
    "qc = transpile(qc, lima)\n",
    "print(qc.draw())\n",
    "\n",
    "\n",
    "job = lima.run(qc)\n",
    "start_time = time.time()\n",
    "job_status = job.status()\n",
    "\n",
    "from qiskit.tools.monitor import job_monitor\n",
    "from time import time\n",
    "\n",
    "start = time()\n",
    "job_monitor(job)\n",
    "end = time()\n",
    "\n",
    "print(job.status(), job.result().get_counts())"
   ]
  },
  {
   "cell_type": "markdown",
   "id": "14ea890f-230a-4701-8f1e-ed84d8a594cc",
   "metadata": {},
   "source": [
    "# Coupling Map\n",
    "\n",
    "[Limitation, which shows allowed `CNOT` interactions between qubits](https://qiskit.org/documentation/stubs/qiskit.transpiler.CouplingMap.html)."
   ]
  },
  {
   "cell_type": "code",
   "execution_count": null,
   "id": "1cea7377-313c-4e9a-be33-5dfa7280112a",
   "metadata": {},
   "outputs": [],
   "source": [
    "!pip install networkx"
   ]
  },
  {
   "cell_type": "code",
   "execution_count": 171,
   "id": "a3a76e0c-9f7b-4c9e-94d4-82fc361e4554",
   "metadata": {},
   "outputs": [
    {
     "name": "stdout",
     "output_type": "stream",
     "text": [
      "[[0, 1], [1, 0], [1, 2], [1, 3], [2, 1], [3, 1], [3, 4], [4, 3]]\n"
     ]
    },
    {
     "data": {
      "image/png": "[encoded data removed]",
      "text/plain": [
       "<Figure size 432x288 with 1 Axes>"
      ]
     },
     "metadata": {},
     "output_type": "display_data"
    }
   ],
   "source": [
    "backend = provider.get_backend(\"ibmq_lima\")\n",
    "coupling_map = backend.configuration().coupling_map\n",
    "print(coupling_map)\n",
    "\n",
    "import networkx as nx\n",
    "G = nx.DiGraph()\n",
    "G.add_edges_from(coupling_map)\n",
    "pos = nx.draw(G, with_labels = True)"
   ]
  },
  {
   "cell_type": "markdown",
   "id": "06ab8680-1197-4c0a-8c08-9e651711d6ea",
   "metadata": {},
   "source": [
    "How this affects the circuit?"
   ]
  },
  {
   "cell_type": "code",
   "execution_count": 191,
   "id": "57eb1d1d-652c-4848-acbd-36e215025b42",
   "metadata": {},
   "outputs": [
    {
     "data": {
      "text/html": [
       "<pre style=\"word-wrap: normal;white-space: pre;background: #fff0;line-height: 1.1;font-family: &quot;Courier New&quot;,Courier,monospace\">              ┌───┐          \n",
       "q_4 -> 0 ──■──┤ X ├──■───────\n",
       "         ┌─┴─┐└─┬─┘┌─┴─┐┌───┐\n",
       "q_3 -> 1 ┤ X ├──■──┤ X ├┤ X ├\n",
       "         └───┘     └───┘└─┬─┘\n",
       "q_2 -> 2 ─────────────────┼──\n",
       "              ┌───┐       │  \n",
       "q_1 -> 3 ──■──┤ X ├──■────■──\n",
       "         ┌─┴─┐└─┬─┘┌─┴─┐     \n",
       "q_0 -> 4 ┤ X ├──■──┤ X ├─────\n",
       "         └───┘     └───┘     </pre>"
      ],
      "text/plain": [
       "              ┌───┐          \n",
       "q_4 -> 0 ──■──┤ X ├──■───────\n",
       "         ┌─┴─┐└─┬─┘┌─┴─┐┌───┐\n",
       "q_3 -> 1 ┤ X ├──■──┤ X ├┤ X ├\n",
       "         └───┘     └───┘└─┬─┘\n",
       "q_2 -> 2 ─────────────────┼──\n",
       "              ┌───┐       │  \n",
       "q_1 -> 3 ──■──┤ X ├──■────■──\n",
       "         ┌─┴─┐└─┬─┘┌─┴─┐     \n",
       "q_0 -> 4 ┤ X ├──■──┤ X ├─────\n",
       "         └───┘     └───┘     "
      ]
     },
     "execution_count": 191,
     "metadata": {},
     "output_type": "execute_result"
    }
   ],
   "source": [
    "qc = QuantumCircuit(5)\n",
    "qc.cnot(0, 4)             ### DID YOU KNOW?!\n",
    "qct = transpile(qc, backend)\n",
    "qct.draw()"
   ]
  },
  {
   "cell_type": "markdown",
   "id": "8135be50-e788-4d8b-89be-c41b9d2bb16c",
   "metadata": {},
   "source": [
    "Emulate on simulator"
   ]
  },
  {
   "cell_type": "code",
   "execution_count": 189,
   "id": "254fd9a3-8344-4ddf-8e86-b4d4def13a6f",
   "metadata": {},
   "outputs": [
    {
     "name": "stdout",
     "output_type": "stream",
     "text": [
      "                     ┌───┐┌──────────┐ ░ ┌─┐   \n",
      "q_0 -> 0 ────────────┤ X ├┤ U2(0,-π) ├─░─┤M├───\n",
      "         ┌──────────┐└─┬─┘├──────────┤ ░ └╥┘┌─┐\n",
      "q_1 -> 1 ┤ U2(0,-π) ├──■──┤ U2(0,-π) ├─░──╫─┤M├\n",
      "         └──────────┘     └──────────┘ ░  ║ └╥┘\n",
      "q_2 -> 2 ─────────────────────────────────╫──╫─\n",
      "                                          ║  ║ \n",
      "q_3 -> 3 ─────────────────────────────────╫──╫─\n",
      "                                          ║  ║ \n",
      "q_4 -> 4 ─────────────────────────────────╫──╫─\n",
      "                                          ║  ║ \n",
      " meas: 2/═════════════════════════════════╩══╩═\n",
      "                                          0  1 \n"
     ]
    },
    {
     "data": {
      "text/plain": [
       "{'11': 4, '00': 6}"
      ]
     },
     "execution_count": 189,
     "metadata": {},
     "output_type": "execute_result"
    }
   ],
   "source": [
    "simulator = BasicAer.get_backend('qasm_simulator')\n",
    "cm = [[1, 0], [2, 1], [3, 2], [4, 3]]\n",
    "qcq = transpile(qc, simulator, coupling_map=cm)\n",
    "print(qcq.draw())\n",
    "\n",
    "# shorter\n",
    "job = execute(qc, backend=simulator, shots=10, coupling_map=cm)\n",
    "job.result().get_counts()"
   ]
  },
  {
   "cell_type": "markdown",
   "id": "c577c400-2c02-436f-9138-ed7de6e365ac",
   "metadata": {},
   "source": [
    "# Some other gates\n",
    "\n",
    "$T^\\dagger$ = `tdg()` - https://qiskit.org/documentation/stubs/qiskit.circuit.library.TdgGate.html (rotation $e^{-i\\pi/4}$).\n",
    "\n",
    "$CCCCCCX$ = Multi-Control X = `mct(control[], target)` - https://qiskit.org/documentation/stubs/qiskit.circuit.library.MCXGate.html#qiskit.circuit.library.MCXGate"
   ]
  }
 ],
 "metadata": {
  "kernelspec": {
   "display_name": "Python [conda env:qiskit]",
   "language": "python",
   "name": "conda-env-qiskit-py"
  },
  "language_info": {
   "codemirror_mode": {
    "name": "ipython",
    "version": 3
   },
   "file_extension": ".py",
   "mimetype": "text/x-python",
   "name": "python",
   "nbconvert_exporter": "python",
   "pygments_lexer": "ipython3",
   "version": "3.9.6"
  }
 },
 "nbformat": 4,
 "nbformat_minor": 5
}
