{
 "cells": [
  {
   "cell_type": "markdown",
   "id": "8ab97266-4ed4-4557-b9dc-a1d770dc4c62",
   "metadata": {},
   "source": [
    "## QASM\n",
    "\n",
    "[OpenQASM3](https://medium.com/qiskit/a-new-openqasm-for-a-new-era-of-dynamic-circuits-87f031cac49) is a new iteration of quantum assembler language, addresses problems of:\n",
    "- dynamic circuits (those which can have classic control, not pure quantum)\n",
    "- adding pulses (low level interactions), not only gates.\n",
    "- time aware (decoherence time).\n"
   ]
  },
  {
   "cell_type": "code",
   "execution_count": 15,
   "id": "2ecb4326-43e2-407e-b7c3-c4b1e6efa569",
   "metadata": {},
   "outputs": [
    {
     "name": "stdout",
     "output_type": "stream",
     "text": [
      "             ┌───┐ ░ ┌─┐   \n",
      "   q_0: ─────┤ X ├─░─┤M├───\n",
      "        ┌───┐└─┬─┘ ░ └╥┘┌─┐\n",
      "   q_1: ┤ H ├──■───░──╫─┤M├\n",
      "        └───┘      ░  ║ └╥┘\n",
      "meas: 2/══════════════╩══╩═\n",
      "                      0  1 \n",
      "             ┌───┐ ░ ┌─┐   \n",
      "   q_0: ─────┤ X ├─░─┤M├───\n",
      "        ┌───┐└─┬─┘ ░ └╥┘┌─┐\n",
      "   q_1: ┤ H ├──■───░──╫─┤M├\n",
      "        └───┘      ░  ║ └╥┘\n",
      "meas: 2/══════════════╩══╩═\n",
      "                      0  1 \n"
     ]
    }
   ],
   "source": [
    "from qiskit import QuantumRegister, ClassicalRegister, QuantumCircuit, Aer, execute\n",
    "qc = QuantumCircuit(2)\n",
    "qc.h(1)\n",
    "qc.cx(1, 0)\n",
    "qc.measure_all()\n",
    "code = qc.qasm()\n",
    "\n",
    "with open('bell.qasm', 'w') as f:\n",
    "    f.write(code)\n",
    "\n",
    "# These are parser utilities\n",
    "from qiskit.qasm import Qasm\n",
    "qasm_obj = Qasm('bell.qasm')\n",
    "prog = qasm_obj.parse()\n",
    "tokens = qasm_obj.generate_tokens()\n",
    "\n",
    "# this is usage\n",
    "print(QuantumCircuit.from_qasm_file('bell.qasm').draw())\n",
    "print(QuantumCircuit.from_qasm_str(code).draw())"
   ]
  },
  {
   "cell_type": "markdown",
   "id": "15fa2a0c-5e5d-4543-aedb-82edca01843a",
   "metadata": {},
   "source": [
    "# Barriers\n",
    "\n",
    "Visual barriers, not considered in computations."
   ]
  },
  {
   "cell_type": "code",
   "execution_count": 35,
   "id": "75cf24bf-761f-4d71-b56e-fdedbbecfbef",
   "metadata": {},
   "outputs": [
    {
     "data": {
      "text/html": [
       "<pre style=\"word-wrap: normal;white-space: pre;background: #fff0;line-height: 1.1;font-family: &quot;Courier New&quot;,Courier,monospace\">     ┌───┐ ░                      \n",
       "q_0: ┤ X ├─░──────────────────────\n",
       "     └───┘ ░ ┌───┐  ░           ░ \n",
       "q_1: ──────░─┤ X ├──░───────────░─\n",
       "           ░ ├───┤┌───┐ ░       ░ \n",
       "q_2: ──────░─┤ X ├┤ H ├─░───────░─\n",
       "           ░ ├───┤└───┘ ░       ░ \n",
       "q_3: ──────░─┤ Z ├────────────────\n",
       "           ░ └───┘      ░ ┌───┐ ░ \n",
       "q_4: ──────░────────────░─┤ X ├─░─\n",
       "           ░            ░ └───┘ ░ </pre>"
      ],
      "text/plain": [
       "     ┌───┐ ░                      \n",
       "q_0: ┤ X ├─░──────────────────────\n",
       "     └───┘ ░ ┌───┐  ░           ░ \n",
       "q_1: ──────░─┤ X ├──░───────────░─\n",
       "           ░ ├───┤┌───┐ ░       ░ \n",
       "q_2: ──────░─┤ X ├┤ H ├─░───────░─\n",
       "           ░ ├───┤└───┘ ░       ░ \n",
       "q_3: ──────░─┤ Z ├────────────────\n",
       "           ░ └───┘      ░ ┌───┐ ░ \n",
       "q_4: ──────░────────────░─┤ X ├─░─\n",
       "           ░            ░ └───┘ ░ "
      ]
     },
     "execution_count": 35,
     "metadata": {},
     "output_type": "execute_result"
    }
   ],
   "source": [
    "qc = QuantumCircuit(5)\n",
    "qc.x(0)\n",
    "qc.barrier()\n",
    "qc.x(1)\n",
    "qc.barrier(1)\n",
    "qc.x(2)\n",
    "qc.h(2)\n",
    "qc.barrier(2, 4)\n",
    "qc.x(4)\n",
    "b = qc.barrier([1, 2, 4])\n",
    "qc.z(3)\n",
    "qc.draw()"
   ]
  },
  {
   "cell_type": "markdown",
   "id": "b224de84-bf53-465a-94f7-3f2cba32714d",
   "metadata": {},
   "source": [
    "# Operators\n",
    "\n",
    "[source](https://qiskit.org/documentation/tutorials/circuits_advanced/02_operators_overview.html).\n",
    "\n",
    "The Operator class is used in Qiskit to represent matrix operators acting on a quantum system. It has several methods to build composite operators using tensor products of smaller operators, and to compose operators.\n",
    "\n",
    "Operators can be non-square."
   ]
  },
  {
   "cell_type": "code",
   "execution_count": 50,
   "id": "fa638a54-61a0-4ac3-b066-42751697abce",
   "metadata": {},
   "outputs": [
    {
     "name": "stdout",
     "output_type": "stream",
     "text": [
      "(4, 4)\n",
      "[[0.+0.j 0.+0.j 0.+0.j 1.+0.j]\n",
      " [0.+0.j 0.+0.j 1.+0.j 0.+0.j]\n",
      " [0.+0.j 1.+0.j 0.+0.j 0.+0.j]\n",
      " [1.+0.j 0.+0.j 0.+0.j 0.+0.j]]\n",
      "Input dimensions: (2, 2)\n",
      "Output dimensions: (2, 2)\n"
     ]
    }
   ],
   "source": [
    "from qiskit.quantum_info.operators import Operator, Pauli\n",
    "from qiskit.extensions import RXGate, XGate, CXGate\n",
    "\n",
    "XX = Operator([[0, 0, 0, 1], [0, 0, 1, 0], [0, 1, 0, 0], [1, 0, 0, 0]])\n",
    "print(XX.dim)\n",
    "print(XX.data)\n",
    "\n",
    "print('Input dimensions:', XX.input_dims())\n",
    "print('Output dimensions:', XX.output_dims())"
   ]
  },
  {
   "cell_type": "markdown",
   "id": "47de48e9-0f69-4f34-add3-1b4b4bcbe54c",
   "metadata": {},
   "source": [
    "Create an Operator from a Pauli object, Gate, and a Circuit."
   ]
  },
  {
   "cell_type": "code",
   "execution_count": 60,
   "id": "4c973db4-ba0c-4205-bc1c-0cfdda8053f5",
   "metadata": {},
   "outputs": [
    {
     "name": "stdout",
     "output_type": "stream",
     "text": [
      "Operator([[0.+0.j, 0.-1.j, 0.+0.j, 0.+0.j],\n",
      "          [0.+1.j, 0.+0.j, 0.+0.j, 0.+0.j],\n",
      "          [0.+0.j, 0.+0.j, 0.+0.j, 0.+1.j],\n",
      "          [0.+0.j, 0.+0.j, 0.-1.j, 0.+0.j]],\n",
      "         input_dims=(2, 2), output_dims=(2, 2))\n",
      "\n",
      "Operator([[0.+0.j, 0.-1.j, 0.+0.j, 0.+0.j],\n",
      "          [0.+1.j, 0.+0.j, 0.+0.j, 0.+0.j],\n",
      "          [0.+0.j, 0.+0.j, 0.+0.j, 0.+1.j],\n",
      "          [0.+0.j, 0.+0.j, 0.-1.j, 0.+0.j]],\n",
      "         input_dims=(2, 2), output_dims=(2, 2))\n",
      "\n",
      "Operator([[1.+0.j, 0.+0.j, 0.+0.j, 0.+0.j],\n",
      "          [0.+0.j, 0.+0.j, 0.+0.j, 1.+0.j],\n",
      "          [0.+0.j, 0.+0.j, 1.+0.j, 0.+0.j],\n",
      "          [0.+0.j, 1.+0.j, 0.+0.j, 0.+0.j]],\n",
      "         input_dims=(2, 2), output_dims=(2, 2))\n"
     ]
    }
   ],
   "source": [
    "print(Operator(Pauli('ZY')))\n",
    "print()\n",
    "\n",
    "qc = QuantumCircuit(2)\n",
    "qc.z(1)\n",
    "qc.y(0)\n",
    "print(Operator(qc))\n",
    "print()\n",
    "\n",
    "print(Operator(CXGate()))"
   ]
  },
  {
   "cell_type": "code",
   "execution_count": 52,
   "id": "25285e8c-6f03-47e3-9f6d-f55e7cf97848",
   "metadata": {},
   "outputs": [
    {
     "data": {
      "text/plain": [
       "Operator([[1.+0.j, 0.+0.j, 0.+0.j, 0.+0.j],\n",
       "          [0.+0.j, 0.+0.j, 0.+0.j, 1.+0.j],\n",
       "          [0.+0.j, 0.+0.j, 1.+0.j, 0.+0.j],\n",
       "          [0.+0.j, 1.+0.j, 0.+0.j, 0.+0.j]],\n",
       "         input_dims=(2, 2), output_dims=(2, 2))"
      ]
     },
     "execution_count": 52,
     "metadata": {},
     "output_type": "execute_result"
    }
   ],
   "source": [
    "Operator(CXGate())"
   ]
  },
  {
   "cell_type": "markdown",
   "id": "1e1d6fca-0ac8-4838-9164-51d7de1f6ed6",
   "metadata": {},
   "source": [
    "Unitary check"
   ]
  },
  {
   "cell_type": "code",
   "execution_count": 62,
   "id": "56a84692-e433-4cfb-8420-e5c2740cd899",
   "metadata": {},
   "outputs": [
    {
     "name": "stdout",
     "output_type": "stream",
     "text": [
      "True\n",
      "False\n"
     ]
    }
   ],
   "source": [
    "print(Operator(CXGate()).is_unitary())\n",
    "\n",
    "print(Operator([[0, 1], [1, 1]]).is_unitary())"
   ]
  },
  {
   "cell_type": "code",
   "execution_count": 63,
   "id": "d5726092-d2e0-4cbd-89d9-f44422951d7a",
   "metadata": {},
   "outputs": [
    {
     "data": {
      "image/png": "[encoded data removed]",
      "text/plain": [
       "<Figure size 327.252x204.68 with 1 Axes>"
      ]
     },
     "execution_count": 63,
     "metadata": {},
     "output_type": "execute_result"
    }
   ],
   "source": [
    "# Create an operator\n",
    "XX = Operator(Pauli(label='XX'))\n",
    "\n",
    "# Add to a circuit\n",
    "circ = QuantumCircuit(2, 2)\n",
    "circ.append(XX, [0, 1])\n",
    "circ.measure([0,1], [0,1])\n",
    "circ.draw('mpl')"
   ]
  },
  {
   "cell_type": "markdown",
   "id": "ba96d485-1ee0-4fde-a2c5-612e7d8bc489",
   "metadata": {},
   "source": [
    "Tensoring, composition, and linear combination"
   ]
  },
  {
   "cell_type": "code",
   "execution_count": 70,
   "id": "9d0b6d85-18c5-49e0-a9e5-44e80af7e9b8",
   "metadata": {},
   "outputs": [
    {
     "name": "stdout",
     "output_type": "stream",
     "text": [
      "Operator([[ 0.+0.j,  1.+0.j],\n",
      "          [-1.+0.j,  0.+0.j]],\n",
      "         input_dims=(2,), output_dims=(2,))\n",
      "\n",
      "Operator([[ 3.+0.j,  1.+0.j],\n",
      "          [ 1.+0.j, -3.+0.j]],\n",
      "         input_dims=(2,), output_dims=(2,))\n"
     ]
    }
   ],
   "source": [
    "A = Operator(Pauli('X'))\n",
    "B = Operator(Pauli('Z'))\n",
    "\n",
    "AB = A.expand(B)\n",
    "import numpy as np\n",
    "\n",
    "np.allclose(AB.data, Operator(Pauli('ZX')).data)\n",
    "\n",
    "print(A.compose(B))\n",
    "print()\n",
    "print(A + 3 * B)"
   ]
  },
  {
   "cell_type": "markdown",
   "id": "2dec3613-4a43-4fc8-a4ed-675a5e2c9af3",
   "metadata": {},
   "source": [
    "# Fidelity\n",
    "\n",
    "We may also compare operators using the `process_fidelity` function from the Quantum Information module. This is an information theoretic quantity for how close two quantum channels are to each other, and in the case of unitary operators it does not depend on global phase."
   ]
  },
  {
   "cell_type": "code",
   "execution_count": 72,
   "id": "f01d6562-792a-4546-b9d9-7750c20957e4",
   "metadata": {},
   "outputs": [
    {
     "name": "stdout",
     "output_type": "stream",
     "text": [
      "Process fidelity = 1.0\n"
     ]
    }
   ],
   "source": [
    "from qiskit.quantum_info import process_fidelity\n",
    "\n",
    "# Two operators which differ only by phase\n",
    "op_a = Operator(XGate())\n",
    "op_b = np.exp(1j * 0.5) * Operator(XGate())\n",
    "\n",
    "# Compute process fidelity\n",
    "F = process_fidelity(op_a, op_b)\n",
    "print('Process fidelity =', F)"
   ]
  },
  {
   "cell_type": "code",
   "execution_count": null,
   "id": "89918e1b-7381-4e0b-848f-abffdac70c34",
   "metadata": {},
   "outputs": [],
   "source": [
    "TBC"
   ]
  }
 ],
 "metadata": {
  "kernelspec": {
   "display_name": "Python [conda env:qiskit]",
   "language": "python",
   "name": "conda-env-qiskit-py"
  },
  "language_info": {
   "codemirror_mode": {
    "name": "ipython",
    "version": 3
   },
   "file_extension": ".py",
   "mimetype": "text/x-python",
   "name": "python",
   "nbconvert_exporter": "python",
   "pygments_lexer": "ipython3",
   "version": "3.9.6"
  }
 },
 "nbformat": 4,
 "nbformat_minor": 5
}
