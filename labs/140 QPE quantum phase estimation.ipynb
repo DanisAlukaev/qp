{
 "cells": [
  {
   "cell_type": "markdown",
   "id": "59aef961-4a27-47fc-9792-8a40677516b9",
   "metadata": {},
   "source": [
    "# 0. Once again eigenphase\n",
    "\n",
    "Find eigenstates and eigenphases of $H$."
   ]
  },
  {
   "cell_type": "code",
   "execution_count": 4,
   "id": "b2c8991c-88d7-4797-b276-7f5fa2565498",
   "metadata": {},
   "outputs": [
    {
     "name": "stdout",
     "output_type": "stream",
     "text": [
      "1.0000 [0.92387953 0.38268343]\n",
      "-1.0000 [-0.38268343  0.92387953]\n"
     ]
    }
   ],
   "source": [
    "import numpy as np\n",
    "from numpy.linalg import eig\n",
    "\n",
    "H = np.array([[1, 1], [1, -1]]) * (.5 ** .5)\n",
    "\n",
    "evals, evecs = eig(H)\n",
    "for va, ve in zip(evals, evecs.T):\n",
    "    print(f\"{va:.4f} {ve}\")"
   ]
  },
  {
   "cell_type": "markdown",
   "id": "9f429859-43c2-493b-ae03-f4d4b884756e",
   "metadata": {},
   "source": [
    "## Prepare these eigenstates with rotations\n",
    "\n",
    "Find a single rotation gate, which prepares an eigenstate. For each of them."
   ]
  },
  {
   "cell_type": "code",
   "execution_count": 15,
   "id": "677e04e5-72d2-41d3-b5a9-a2dd0a4555c9",
   "metadata": {},
   "outputs": [
    {
     "name": "stdout",
     "output_type": "stream",
     "text": [
      "5/4 * π\n"
     ]
    }
   ],
   "source": [
    "from math import acos, pi\n",
    "from fractions import Fraction\n",
    "\n",
    "# TODO your code here\n",
    "# find a fraction of PI\n",
    "frac = ... / pi\n",
    "\n",
    "fr = Fraction(frac).limit_denominator(64)\n",
    "print(f\"{fr} * π\")"
   ]
  },
  {
   "cell_type": "markdown",
   "id": "a511341b-81fd-4fbe-a3a3-0ba70a4b46bd",
   "metadata": {},
   "source": [
    "## Experience phase kickback"
   ]
  },
  {
   "cell_type": "code",
   "execution_count": null,
   "id": "f8249ac7-bfb9-4cba-8bab-927da999869d",
   "metadata": {},
   "outputs": [],
   "source": [
    "from qiskit import QuantumRegister, ClassicalRegister, QuantumCircuit, Aer, execute\n",
    "from qiskit.visualization import plot_histogram\n",
    "from qiskit.circuit.library import HGate\n",
    "import matplotlib.pyplot as plt\n",
    "\n",
    "qc = QuantumCircuit(2)\n",
    "\n",
    "qc.h(1)\n",
    "qc.barrier()\n",
    "\n",
    "# TODO: YOUR ROTATION GATE HERE\n",
    "qc.r... #\n",
    "\n",
    "qc.append(HGate().control(1), [1, 0])\n",
    "\n",
    "qc.barrier()\n",
    "qc.h(1)\n",
    "print(qc.draw())\n",
    "\n",
    "np.asarray(\n",
    "    execute(qc, Aer.get_backend('statevector_simulator')).result().get_statevector()\n",
    ").real"
   ]
  },
  {
   "cell_type": "markdown",
   "id": "67b9bf00-44c4-4808-a01d-af2198f56d12",
   "metadata": {},
   "source": [
    "## How multiple applications of $U$ affect the phase?\n",
    "\n",
    "$Uv=\\lambda v$.\n",
    "\n",
    "$U^kv=\\lambda^kv = (e^{i\\phi})^kv=e^{ik\\phi}v$.\n",
    "\n",
    "It rotates the state vector $v$ (obviously) $k$ times by angle $\\phi$ around $Z$."
   ]
  },
  {
   "cell_type": "markdown",
   "id": "373823d4-7b1e-49aa-9902-9e98157d5b39",
   "metadata": {},
   "source": [
    "## Eigenphase esitimation\n",
    "As unitary matrix eigenvalues always have a norm of 1, their arguments (phases) are the only essential values. That is why we call them \"eigenphases\".\n",
    "\n",
    "Given a unitary matrix $U$ and an eigenstate $v$, find an eigenphase (eigenvalue) $e$:\n",
    "\n",
    "$Uv = \\lambda v$\n",
    "\n",
    "The task itself is simple, \n",
    "\n",
    "$\\lambda = e^{i\\phi} = \\frac{Uv}{v}$,\n",
    "\n",
    "but using quantum parallelism we can **perform this operation with a superposition of eigenstates**, getting the superposition of eigenphases.\n",
    "\n",
    "### Circuit input:\n",
    "1. Quantum register of the matrix dimension, which stores the eigenvector (eigenstate).\n",
    "2. Quantum register (output) of `m`-qubits prepared in $|0\n",
    "\\rangle^{\\otimes m}$, which will be responsible for the result with accuracy or `m`. Expected output is $|out\\rangle=\\frac{\\theta}{2\\pi}\\times 2^m$. I.e. with 4 qubits and $\\phi=\\pi$ we would expect the circuit to return $|2^{m-1}\\rangle=|1000\\rangle$. For non-integers probability will \"blur\" among neighbour states.\n",
    "3. Implementation of $CU$.\n",
    "\n",
    "We will start with preparing eigenstate in `vec` and equal superposition of all states in `result`.\n",
    "\n",
    "$|result\\rangle=\\frac{1}{2^{m/2}}(|0\\rangle+|1\\rangle)^{\\otimes m}$"
   ]
  },
  {
   "cell_type": "code",
   "execution_count": null,
   "id": "fd8b49d4-53a8-4899-9117-d783ad792f40",
   "metadata": {},
   "outputs": [],
   "source": [
    "qvec = QuantumRegister(1, name=\"vec\")  # eigenvector of H\n",
    "qres = QuantumRegister(4, name=\"result\")  # result register\n",
    "cres = ClassicalRegister(4, name=\"cr\") # binary result\n",
    "qc = QuantumCircuit(qvec, qres, cres)\n",
    "\n",
    "# TODO prepare eigenstate of H with a rotation gate\n",
    "qc.ry(frac * pi, qvec)\n",
    "\n",
    "# equal superposition\n",
    "qc.h(qres)\n",
    "qc.barrier()\n",
    "\n",
    "qc.draw()"
   ]
  },
  {
   "cell_type": "markdown",
   "id": "96675193-7653-420f-944e-938ff45d3f1c",
   "metadata": {},
   "source": [
    "## Conditional phase rotations (kickbacks)\n",
    "\n",
    "We will allow our operator $H$ kickback once into the 0-th result qubit.\n",
    "\n"
   ]
  },
  {
   "cell_type": "code",
   "execution_count": null,
   "id": "533bd26d-ce7d-4cd2-8961-3cc59051c31e",
   "metadata": {},
   "outputs": [],
   "source": [
    "qc.append(HGate().control(1), [qres[0], qvec[0]])\n",
    "qc.draw()"
   ]
  },
  {
   "cell_type": "markdown",
   "id": "1b0b35b7-c2c7-45b8-b0cc-8b50ac728f12",
   "metadata": {},
   "source": [
    "What do we have now in `result`?\n",
    "\n",
    "$|result\\rangle = \\frac{1}{2^{m/2}}(|0\\rangle+e^{i\\phi}|1\\rangle)\\otimes(|0\\rangle+|1\\rangle)^{\\otimes m-1}$"
   ]
  },
  {
   "cell_type": "markdown",
   "id": "c3186834-a6d9-41ae-b916-7666e6fb9dba",
   "metadata": {},
   "source": [
    "We will allow our operator $H$ kickback twice into the 1-st result qubit."
   ]
  },
  {
   "cell_type": "code",
   "execution_count": null,
   "id": "045be74f-4310-4346-86dd-2e228e77c86f",
   "metadata": {},
   "outputs": [],
   "source": [
    "qc.append(HGate().control(1), [qres[1], qvec[0]])\n",
    "qc.append(HGate().control(1), [qres[1], qvec[0]])\n",
    "qc.draw()"
   ]
  },
  {
   "cell_type": "markdown",
   "id": "2a7f54c1-5b0c-4f07-84db-90b93b978ded",
   "metadata": {},
   "source": [
    "What do we have now in `result`?\n",
    "\n",
    "$|result\\rangle = \\frac{1}{2^{m/2}}(|0\\rangle+e^{i\\phi}|1\\rangle)\\otimes(|0\\rangle+e^{2i\\phi}|1\\rangle)\\otimes(|0\\rangle+|1\\rangle)^{\\otimes m-2}$\n",
    "\n",
    "What if we proceed with $2^2$ times to 2-nd qubit and $2^3$ to 3-rd qubit?\n",
    "\n",
    "$|result\\rangle = \\frac{1}{2^{m/2}}\\bigotimes_{k=0}^{m-1}(|0\\rangle+e^{i2^k\\phi}|1\\rangle)$\n",
    "\n",
    "- Where did we see this? \n",
    "  - In QFT! \n",
    "- What did it mean? \n",
    "  - Frequency components encoded into phases! There $\\phi=\\frac{1}{2^m\\pi}$\n",
    "- What will happen, if we do IQFT?\n",
    "  - Given frequencies we will obtain closest binary number (or their superposition)!"
   ]
  },
  {
   "cell_type": "code",
   "execution_count": null,
   "id": "45fe8869-625d-4779-9589-9cb620e5e63e",
   "metadata": {},
   "outputs": [],
   "source": [
    "# TODO: COMPLETE THE CODE for 2nd and 3rd controlling qubits\n",
    "\n",
    "\n",
    "# Here we run QFT and measure\n",
    "from qiskit.circuit.library import QFT\n",
    "\n",
    "qc.append(QFT(4).inverse(), qres)\n",
    "qc.measure(qres, cres)\n",
    "\n",
    "qc.draw()"
   ]
  },
  {
   "cell_type": "code",
   "execution_count": 23,
   "id": "0be40613-44a9-4074-b907-e8d54fb0d50f",
   "metadata": {},
   "outputs": [
    {
     "data": {
      "image/png": "[encoded data removed]",
      "text/plain": [
       "<Figure size 504x360 with 1 Axes>"
      ]
     },
     "execution_count": 23,
     "metadata": {},
     "output_type": "execute_result"
    }
   ],
   "source": [
    "shots = 5000\n",
    "job = execute(qc, Aer.get_backend('qasm_simulator'), shots=shots)\n",
    "counts = job.result().get_counts(qc)\n",
    "\n",
    "plot_histogram(dict((f\"{int(k, base=2) * 2 / 2 ** 4} * pi\", v) for (k, v) in counts.items()))"
   ]
  }
 ],
 "metadata": {
  "kernelspec": {
   "display_name": "qiskit",
   "language": "python",
   "name": "qiskit"
  },
  "language_info": {
   "codemirror_mode": {
    "name": "ipython",
    "version": 3
   },
   "file_extension": ".py",
   "mimetype": "text/x-python",
   "name": "python",
   "nbconvert_exporter": "python",
   "pygments_lexer": "ipython3",
   "version": "3.9.7"
  }
 },
 "nbformat": 4,
 "nbformat_minor": 5
}
