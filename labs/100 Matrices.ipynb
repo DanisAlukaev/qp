{
 "cells": [
  {
   "cell_type": "markdown",
   "id": "25fc654b-ccb4-494d-b9ef-f48a2de66a81",
   "metadata": {},
   "source": [
    "# Matrix encoding approaches is general"
   ]
  },
  {
   "cell_type": "markdown",
   "id": "367ecd44-bfe2-4103-ac69-fd51ac2bf3cf",
   "metadata": {},
   "source": [
    "![](images/encodings.png)"
   ]
  },
  {
   "cell_type": "markdown",
   "id": "4b1e7994-7064-4114-9704-c557260fe63d",
   "metadata": {},
   "source": [
    "### Let's encode a matrix\n",
    "\n",
    "Out task is to take a matrix $\\begin{pmatrix}1 & 2 \\\\ 3 & 4\\end{pmatrix}$, encode it as a Hermitian (Hamiltonian) and see how it acts of a vector $\\begin{pmatrix}-1 \\\\ 1\\end{pmatrix}$.\n",
    "\n",
    "#### First, compose an extended form."
   ]
  },
  {
   "cell_type": "code",
   "execution_count": null,
   "id": "4969ad44-6c41-4931-ab7a-d3a9debbad5f",
   "metadata": {},
   "outputs": [],
   "source": []
  },
  {
   "cell_type": "markdown",
   "id": "83a75fd8-4da7-478d-9561-786ef8504d2e",
   "metadata": {},
   "source": [
    "#### Second -- decompose it into a form of known basis functions"
   ]
  }
 ],
 "metadata": {
  "kernelspec": {
   "display_name": "Python [conda env:qiskit]",
   "language": "python",
   "name": "conda-env-qiskit-py"
  },
  "language_info": {
   "codemirror_mode": {
    "name": "ipython",
    "version": 3
   },
   "file_extension": ".py",
   "mimetype": "text/x-python",
   "name": "python",
   "nbconvert_exporter": "python",
   "pygments_lexer": "ipython3",
   "version": "3.9.6"
  }
 },
 "nbformat": 4,
 "nbformat_minor": 5
}
