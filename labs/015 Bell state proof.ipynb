{
 "cells": [
  {
   "cell_type": "markdown",
   "id": "ae1ac784-3c22-43ce-a208-ac59352b984a",
   "metadata": {},
   "source": [
    "# Let's prepare all important matrices"
   ]
  },
  {
   "cell_type": "code",
   "execution_count": null,
   "id": "fbc8afa8-0770-4a28-8eb9-cc4f6816b752",
   "metadata": {},
   "outputs": [],
   "source": [
    "import numpy as np\n",
    "CNOT = np.eye(4)\n",
    "CNOT[2:, 2:] = 1 - CNOT[2:, 2:]\n",
    "print(CNOT)"
   ]
  },
  {
   "cell_type": "code",
   "execution_count": null,
   "id": "6669ba5b-676d-41b5-a97f-069512b66949",
   "metadata": {},
   "outputs": [],
   "source": [
    "I = np.eye(2)\n",
    "print(I)"
   ]
  },
  {
   "cell_type": "code",
   "execution_count": null,
   "id": "8223a0a8-f7f9-4edf-b3da-4115e6fd27b7",
   "metadata": {},
   "outputs": [],
   "source": [
    "H = np.ones((2, 2)) * .5 **.5\n",
    "H[-1, -1] = -H[-1, -1]\n",
    "print(H)"
   ]
  },
  {
   "cell_type": "markdown",
   "id": "0fb57c3a-c456-4128-8f50-8f5f8d5f4c26",
   "metadata": {},
   "source": [
    "## What is the final matrix of the quantum program?\n",
    "\n",
    "For which initial states it ends up with with bell states?\n",
    "\n",
    "$|\\Phi ^{+}\\rangle ={\\frac  {1}{{\\sqrt  {2}}}}(|0\\rangle _{A}\\otimes |0\\rangle _{B}+|1\\rangle _{A}\\otimes |1\\rangle _{B})$\n",
    "\n",
    "$|\\Phi ^{-}\\rangle ={\\frac  {1}{{\\sqrt  {2}}}}(|0\\rangle _{A}\\otimes |0\\rangle _{B}-|1\\rangle _{A}\\otimes |1\\rangle _{B})$\n",
    "\n",
    "\n",
    "$|\\Psi ^{+}\\rangle ={\\frac  {1}{{\\sqrt  {2}}}}(|0\\rangle _{A}\\otimes |1\\rangle _{B}+|1\\rangle _{A}\\otimes |0\\rangle _{B})$\n",
    "\n",
    "$|\\Psi ^{-}\\rangle ={\\frac  {1}{{\\sqrt  {2}}}}(|0\\rangle _{A}\\otimes |1\\rangle _{B}-|1\\rangle _{A}\\otimes |0\\rangle _{B})$"
   ]
  },
  {
   "cell_type": "code",
   "execution_count": 32,
   "id": "64870a44-f34a-4462-a376-13d4b1d99a04",
   "metadata": {},
   "outputs": [
    {
     "name": "stdout",
     "output_type": "stream",
     "text": [
      "[[ 0.70710678  0.          0.70710678  0.        ]\n",
      " [ 0.          0.70710678  0.          0.70710678]\n",
      " [ 0.          0.70710678  0.         -0.70710678]\n",
      " [ 0.70710678  0.         -0.70710678  0.        ]]\n"
     ]
    }
   ],
   "source": [
    "# BELL = ...\n",
    "print(BELL)"
   ]
  },
  {
   "cell_type": "markdown",
   "id": "6940b2d9-5646-44a2-9eb0-8a05e985e030",
   "metadata": {},
   "source": [
    "# Repeat this in Quantum\n",
    "\n",
    "Prepare $|\\Psi^-\\rangle$ state."
   ]
  },
  {
   "cell_type": "code",
   "execution_count": 37,
   "id": "dc12bbce-2449-4068-ab9d-19009f92babd",
   "metadata": {},
   "outputs": [],
   "source": [
    "from qiskit import QuantumRegister, ClassicalRegister, QuantumCircuit\n",
    "from qiskit import execute, Aer\n",
    "\n",
    "# visualization code\n",
    "from qiskit.visualization import plot_histogram\n",
    "\n",
    "qr = QuantumRegister(2, 'qbits')\n",
    "cr = ClassicalRegister(2, 'bits')\n",
    "qc = QuantumCircuit(qr, cr)"
   ]
  },
  {
   "cell_type": "markdown",
   "id": "0707bca6-d130-4ac9-840c-87198940ca2d",
   "metadata": {},
   "source": [
    "NB: in qiskit the ordering is [with respect to tensor product!!!](https://quantumcomputing.stackexchange.com/questions/8244/big-endian-vs-little-endian-in-qiskit).\n",
    "\n",
    "$|R\\rangle = |ABC\\rangle = |A\\rangle\\otimes|B\\rangle\\otimes|C\\rangle$\n",
    "\n",
    "$|R[0]\\rangle = C$\n",
    "    \n"
   ]
  },
  {
   "cell_type": "code",
   "execution_count": 38,
   "id": "c824f592-9f88-4bf1-815b-d8124def21c3",
   "metadata": {},
   "outputs": [
    {
     "data": {
      "text/plain": [
       "<qiskit.circuit.instructionset.InstructionSet at 0x249b502b910>"
      ]
     },
     "execution_count": 38,
     "metadata": {},
     "output_type": "execute_result"
    }
   ],
   "source": [
    "## Your code here EXCEPT measurement\n"
   ]
  },
  {
   "cell_type": "code",
   "execution_count": 45,
   "id": "3e925200-6d14-49ec-a78d-b21e5382cf77",
   "metadata": {},
   "outputs": [
    {
     "data": {
      "text/plain": [
       "True"
      ]
     },
     "execution_count": 45,
     "metadata": {},
     "output_type": "execute_result"
    }
   ],
   "source": [
    "backend = Aer.get_backend('unitary_simulator')\n",
    "job = backend.run(qc)\n",
    "result = job.result()\n",
    "\n",
    "# Show the results\n",
    "U = result.get_unitary(qc, decimals=5)\n",
    "# print(U)\n",
    "\n",
    "# this should be true for |00> initial state, but not for other!\n",
    "np.allclose(U, BELL, atol=1e-5)"
   ]
  },
  {
   "cell_type": "code",
   "execution_count": 46,
   "id": "f4e815cb-adb1-4a1a-b5f2-0e76441c60dc",
   "metadata": {},
   "outputs": [
    {
     "data": {
      "text/plain": [
       "<qiskit.circuit.instructionset.InstructionSet at 0x249b502b670>"
      ]
     },
     "execution_count": 46,
     "metadata": {},
     "output_type": "execute_result"
    }
   ],
   "source": [
    "qc.measure(qr, cr)"
   ]
  },
  {
   "cell_type": "code",
   "execution_count": null,
   "id": "57121ae2-22ac-4f05-97e6-fe1d145363d6",
   "metadata": {},
   "outputs": [],
   "source": [
    "import matplotlib.pyplot as plt\n",
    "\n",
    "qc.draw(output='mpl')\n",
    "plt.show()\n",
    "\n",
    "job = execute(qc, Aer.get_backend('qasm_simulator'), shots=1000)\n",
    "counts = job.result().get_counts(qc)\n",
    "plot_histogram(counts)\n",
    "plt.show()"
   ]
  }
 ],
 "metadata": {
  "kernelspec": {
   "display_name": "Python [conda env:qiskit]",
   "language": "python",
   "name": "conda-env-qiskit-py"
  },
  "language_info": {
   "codemirror_mode": {
    "name": "ipython",
    "version": 3
   },
   "file_extension": ".py",
   "mimetype": "text/x-python",
   "name": "python",
   "nbconvert_exporter": "python",
   "pygments_lexer": "ipython3",
   "version": "3.9.6"
  }
 },
 "nbformat": 4,
 "nbformat_minor": 5
}
