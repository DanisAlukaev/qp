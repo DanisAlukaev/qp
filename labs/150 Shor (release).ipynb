{
 "cells": [
  {
   "cell_type": "markdown",
   "id": "684d5a41-3d90-4391-b2b3-d82db0a3b669",
   "metadata": {},
   "source": [
    "## Shor v1.0 (release)\n",
    "\n",
    "$U_f$ changes any \"binary\" state to the next. But there are eigenstates! What are they?\n",
    "\n",
    "Eigenvector of Unitary gate:\n",
    "\n",
    "$U_f|u\\rangle=e^{i\\phi}|u\\rangle$\n",
    "\n",
    "Let's prepare a state, such that:\n",
    "\n",
    "$|\\psi\\rangle=\\frac{1}{\\sqrt{r}}(|f(0)\\rangle+|f(2)\\rangle+...+|f(r-1)\\rangle)$\n",
    "\n",
    "Then\n",
    "\n",
    "$U_f|\\psi\\rangle=U_f \\frac{1}{\\sqrt{r}}(|f(0)\\rangle+|f(2)\\rangle+...+|f(r-1)\\rangle)$\n",
    "\n",
    "$U_f|\\psi\\rangle=\\frac{1}{\\sqrt{r}}(U_f|f(0)\\rangle+U_f|f(2)\\rangle+...+U_f |f(r-1)\\rangle)$\n",
    "\n",
    "$U_f|\\psi\\rangle=\\frac{1}{\\sqrt{r}}(|f(1)\\rangle+|f(2)\\rangle+...+|f(r-1)\\rangle+|f(r)\\rangle)$\n",
    "\n",
    "$U_f|\\psi\\rangle=\\frac{1}{\\sqrt{r}}(|f(1)\\rangle+|f(2)\\rangle+...+|f(r-1)\\rangle+|f(0)\\rangle)$\n",
    "\n",
    "$U_f|\\psi\\rangle=\\frac{1}{\\sqrt{r}}(|f(0)\\rangle+|f(1)\\rangle+...+|f(r-1)\\rangle)=|\\psi\\rangle$\n",
    "\n",
    "This, such $|\\psi\\rangle$ is an eigenstate with eigenvalue 1 (eigenphase 0). Boring. Anything more interesting?\n",
    "\n",
    "Let's have arbitrary integer $s<r$, such that\n",
    "\n",
    "$|\\psi_s\\rangle=\\frac{1}{\\sqrt{r}}\\sum_{k=0}^{r-1}e^\\frac{-2\\pi isk}{r}|f(k)\\rangle$\n",
    "\n",
    "Each next state is rotated by $\\frac{-2\\pi s}{r}$ compared to previously, and finally all state close $s$ close full circles.\n",
    "\n",
    "$U_f|\\psi_s\\rangle=\\frac{1}{\\sqrt{r}}\\sum_{k=0}^{r-1}e^\\frac{-2\\pi isk}{r}U_f|f(k)\\rangle$\n",
    "\n",
    "$U_f|\\psi_s\\rangle=\\frac{1}{\\sqrt{r}}\\sum_{k=0}^{r-1}e^\\frac{-2\\pi isk}{r}|f(k+1)\\rangle$\n",
    "\n",
    "$U_f|\\psi_s\\rangle=e^\\frac{2\\pi is}{r}\\frac{1}{\\sqrt{r}}\\sum_{k=0}^{r-1}e^\\frac{-2\\pi isk}{r}|f(k)\\rangle=e^\\frac{2\\pi is}{r}|\\psi_s\\rangle$\n",
    "\n",
    "Thus, for such states there are distiguishable eigenphases. What if we prepare a superposition of all $|\\psi_0\\rangle...|\\psi_{r-1}\\rangle$?\n",
    "\n",
    "for $t>1$ sum of state coefficients in front of the state cancels out: \n",
    "\n",
    "$\\sum_{s=0}^{r-1}e^{-2i\\pi sk/r}|f(t)\\rangle=|f(t)\\rangle\\sum_{s=0}^{r-1}e^{-2i\\pi sk/r}=|f(t)\\rangle\\sum_{s=-(r-1/2)}^{(r-1)/2}e^{-2i\\pi sk/r}=$\n",
    "\n",
    "$=|f(t)\\rangle\\left[\\sum_{s=-(r-1/2)}^{-1}e^{-2i\\pi sk/r}+\\sum_{s=1}^{(r-1)/2}e^{-2i\\pi sk/r}\\right]=$\n",
    "\n",
    "$=|f(t)\\rangle\\left[-\\sum_{s=1}^{(r-1)/2}e^{-2i\\pi sk/r}+\\sum_{s=1}^{(r-1)/2}e^{-2i\\pi sk/r}\\right]=0|f(t)\\rangle$\n",
    "\n",
    "Only $|f(0)\\rangle=|1\\rangle$ remains.\n",
    "\n",
    "**Result**. Superposition of all eigenstates with an eigenphase of $\\frac{s}{r}$ is $|1\\rangle$. If we apply QPE algorithm to this state, we will see the superposition of the binary \"frequencies\": $\\frac{2^m*1}{r}, \\frac{2^m*2}{r}, ..., \\frac{2^m(r-1)}{r}$. Each of them measured with equal probability will approximate a proper fraction with $r$ in denominator.\n",
    "\n",
    "Thus, Shor algorithm is nothing but:\n",
    "- Prepare an eigenstate $|1\\rangle$ for $U_f$.\n",
    "- Run QPE once. Only [one shot](https://www.youtube.com/watch?v=_Yhyp-_hX2s).\n",
    "- Approximate result of QPE with a proper fraction. Use denominator as $r$.\n",
    "- Use $r$ to compute $p$, $q$.\n",
    "\n",
    "## Let's do this in practice!\n",
    "\n",
    "Sum everything up."
   ]
  },
  {
   "cell_type": "code",
   "execution_count": 1,
   "id": "33c06cc6-17f8-45c4-8773-ceb58b7697f3",
   "metadata": {},
   "outputs": [],
   "source": [
    "from qiskit import QuantumRegister, ClassicalRegister, QuantumCircuit, Aer, execute\n",
    "from qiskit.circuit.library import QFT\n",
    "from qiskit.visualization import plot_histogram"
   ]
  },
  {
   "cell_type": "code",
   "execution_count": 2,
   "id": "9198e121-11dc-4b4c-a6a8-9dbb2a2d8cee",
   "metadata": {},
   "outputs": [],
   "source": [
    "def U_f(power):\n",
    "    qc = QuantumCircuit(4, name=f\"U^{power}f\")\n",
    "    \n",
    "    # TODO: implement non-controlled 2^x mod 15 in a unitary form \n",
    "    \n",
    "    return qc"
   ]
  },
  {
   "cell_type": "code",
   "execution_count": null,
   "id": "551843dd-bce4-4b3b-82ff-14eabca83b6b",
   "metadata": {},
   "outputs": [],
   "source": [
    "qvec = QuantumRegister(4, name=\"vec\")  # eigenvector of U\n",
    "qres = QuantumRegister(4, name=\"result\")  # result register\n",
    "cres = ClassicalRegister(4, name=\"cr\") # binary result\n",
    "qc = QuantumCircuit(qvec, qres, cres)\n",
    "\n",
    "# TODO prepare equal superposition in qres\n",
    "\n",
    "# TODO prepare an eigenvalue in qvec\n",
    "\n",
    "\n",
    "for i in range(4):\n",
    "    # TODO apply controlled U_f to qvec. Power = 2 ** i\n",
    "\n",
    "# apply Inverse QFT to qres\n",
    "\n",
    "qc.measure(qres, cres)\n",
    "qc.draw(output='mpl')"
   ]
  },
  {
   "cell_type": "code",
   "execution_count": 4,
   "id": "1d529bdd-e986-4187-924b-2c753e306a95",
   "metadata": {},
   "outputs": [
    {
     "name": "stdout",
     "output_type": "stream",
     "text": [
      "{'1100': 1}\n"
     ]
    }
   ],
   "source": [
    "# !!!!!!!!!!!!!!!!!!!! ONE SHOT ONE OPPORTUNITY \n",
    "shots = 1\n",
    "job = execute(qc, Aer.get_backend('qasm_simulator'), shots=shots)\n",
    "counts = job.result().get_counts(qc)\n",
    "print(counts)"
   ]
  },
  {
   "cell_type": "code",
   "execution_count": 5,
   "id": "c4db93bd-d982-4443-b77a-f2045a9cd0e2",
   "metadata": {},
   "outputs": [
    {
     "name": "stdout",
     "output_type": "stream",
     "text": [
      "3/4\n"
     ]
    }
   ],
   "source": [
    "from fractions import Fraction\n",
    "\n",
    "freq = int(counts.keys().__iter__().__next__(), base=2)\n",
    "\n",
    "if freq == 0:\n",
    "    print(\"Unlucky shot\")\n",
    "    \n",
    "freq = freq / (2 ** 4)\n",
    "\n",
    "freq = Fraction(freq).limit_denominator(1000)\n",
    "print(freq)\n",
    "\n",
    "r = freq.denominator"
   ]
  },
  {
   "cell_type": "code",
   "execution_count": 7,
   "id": "6fb5b1c4-8c31-4810-afd5-dfcec92eb2ee",
   "metadata": {},
   "outputs": [],
   "source": [
    "## TODO Complete the classical part (copy it from `130`)."
   ]
  }
 ],
 "metadata": {
  "kernelspec": {
   "display_name": "Python [conda env:qiskit]",
   "language": "python",
   "name": "conda-env-qiskit-py"
  },
  "language_info": {
   "codemirror_mode": {
    "name": "ipython",
    "version": 3
   },
   "file_extension": ".py",
   "mimetype": "text/x-python",
   "name": "python",
   "nbconvert_exporter": "python",
   "pygments_lexer": "ipython3",
   "version": "3.9.6"
  }
 },
 "nbformat": 4,
 "nbformat_minor": 5
}
