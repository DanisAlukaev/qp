{
 "cells": [
  {
   "cell_type": "markdown",
   "metadata": {
    "tags": []
   },
   "source": [
    "Mostly based onaken this lab:\n",
    "\n",
    "https://gitlab.com/qworld/bronze-qiskit/-/blob/master/quantum-with-qiskit/Q52_Quantum_Tomography_Solution.ipynb#task1\n",
    "\n",
    "<font style=\"font-size:28px;\" align=\"left\"><b>Quantum Tomography  </b></font>\n",
    "<br>\n",
    "_prepared by Abuzer Yakaryilmaz_\n",
    "\n",
    "$ \\newcommand{\\bra}[1]{\\langle #1|} $\n",
    "$ \\newcommand{\\ket}[1]{|#1\\rangle} $\n",
    "$ \\newcommand{\\braket}[2]{\\langle #1|#2\\rangle} $\n",
    "$ \\newcommand{\\dot}[2]{ #1 \\cdot #2} $\n",
    "$ \\newcommand{\\biginner}[2]{\\left\\langle #1,#2\\right\\rangle} $\n",
    "$ \\newcommand{\\mymatrix}[2]{\\left( \\begin{array}{#1} #2\\end{array} \\right)} $\n",
    "$ \\newcommand{\\myvector}[1]{\\mymatrix{c}{#1}} $\n",
    "$ \\newcommand{\\myrvector}[1]{\\mymatrix{r}{#1}} $\n",
    "$ \\newcommand{\\mypar}[1]{\\left( #1 \\right)} $\n",
    "$ \\newcommand{\\mybigpar}[1]{ \\Big( #1 \\Big)} $\n",
    "$ \\newcommand{\\sqrttwo}{\\frac{1}{\\sqrt{2}}} $\n",
    "$ \\newcommand{\\dsqrttwo}{\\dfrac{1}{\\sqrt{2}}} $\n",
    "$ \\newcommand{\\onehalf}{\\frac{1}{2}} $\n",
    "$ \\newcommand{\\donehalf}{\\dfrac{1}{2}} $\n",
    "$ \\newcommand{\\hadamard}{ \\mymatrix{rr}{ \\sqrttwo & \\sqrttwo \\\\ \\sqrttwo & -\\sqrttwo }} $\n",
    "$ \\newcommand{\\vzero}{\\myvector{1\\\\0}} $\n",
    "$ \\newcommand{\\vone}{\\myvector{0\\\\1}} $\n",
    "$ \\newcommand{\\stateplus}{\\myvector{ \\sqrttwo \\\\  \\sqrttwo } } $\n",
    "$ \\newcommand{\\stateminus}{ \\myrvector{ \\sqrttwo \\\\ -\\sqrttwo } } $\n",
    "$ \\newcommand{\\myarray}[2]{ \\begin{array}{#1}#2\\end{array}} $\n",
    "$ \\newcommand{\\X}{ \\mymatrix{cc}{0 & 1 \\\\ 1 & 0}  } $\n",
    "$ \\newcommand{\\I}{ \\mymatrix{rr}{1 & 0 \\\\ 0 & 1}  } $\n",
    "$ \\newcommand{\\Z}{ \\mymatrix{rr}{1 & 0 \\\\ 0 & -1}  } $\n",
    "$ \\newcommand{\\Htwo}{ \\mymatrix{rrrr}{ \\frac{1}{2} & \\frac{1}{2} & \\frac{1}{2} & \\frac{1}{2} \\\\ \\frac{1}{2} & -\\frac{1}{2} & \\frac{1}{2} & -\\frac{1}{2} \\\\ \\frac{1}{2} & \\frac{1}{2} & -\\frac{1}{2} & -\\frac{1}{2} \\\\ \\frac{1}{2} & -\\frac{1}{2} & -\\frac{1}{2} & \\frac{1}{2} } } $\n",
    "$ \\newcommand{\\CNOT}{ \\mymatrix{cccc}{1 & 0 & 0 & 0 \\\\ 0 & 1 & 0 & 0 \\\\ 0 & 0 & 0 & 1 \\\\ 0 & 0 & 1 & 0} } $\n",
    "$ \\newcommand{\\norm}[1]{ \\left\\lVert #1 \\right\\rVert } $\n",
    "$ \\newcommand{\\pstate}[1]{ \\lceil \\mspace{-1mu} #1 \\mspace{-1.5mu} \\rfloor } $\n",
    "$ \\newcommand{\\greenbit}[1] {\\mathbf{{\\color{green}#1}}} $\n",
    "$ \\newcommand{\\bluebit}[1] {\\mathbf{{\\color{blue}#1}}} $\n",
    "$ \\newcommand{\\redbit}[1] {\\mathbf{{\\color{red}#1}}} $\n",
    "$ \\newcommand{\\brownbit}[1] {\\mathbf{{\\color{brown}#1}}} $\n",
    "$ \\newcommand{\\blackbit}[1] {\\mathbf{{\\color{black}#1}}} $\n",
    "\n",
    "**NB This lab is based on REAL VALUES Qubits, thus we assume $\\ket{0}$ and $\\ket{1}$ vectors are orthogonal axes in 2D. This lead to the fact $Rot_{re}(\\theta) = RotX(2\\theta)$. i.e. Rotation by $\\frac{\\pi}{2}$ in this code means $RotX(\\pi)=X$**"
   ]
  },
  {
   "cell_type": "code",
   "execution_count": 1,
   "metadata": {},
   "outputs": [
    {
     "data": {
      "image/jpeg": "[encoded data removed]",
      "text/html": [
       "\n",
       "        <iframe\n",
       "            width=\"400\"\n",
       "            height=\"300\"\n",
       "            src=\"https://www.youtube.com/embed/mIEiWCJ6R58\"\n",
       "            frameborder=\"0\"\n",
       "            allowfullscreen\n",
       "        ></iframe>\n",
       "        "
      ],
      "text/plain": [
       "<IPython.lib.display.YouTubeVideo at 0x1fe268ca610>"
      ]
     },
     "execution_count": 1,
     "metadata": {},
     "output_type": "execute_result"
    }
   ],
   "source": [
    "from IPython.display import YouTubeVideo\n",
    "YouTubeVideo('mIEiWCJ6R58')"
   ]
  },
  {
   "cell_type": "markdown",
   "metadata": {},
   "source": [
    "We study a simplified version of quantum tomography here. \n",
    "\n",
    "It is similar to learn the bias of a coin by collecting statistics from tossing this coin many times. But, only making measurement may not be enough to make a good guess.\n",
    "\n",
    "Suppose that you are given 1000 copies of a qubit and your task is to learn the state of this qubit. We use a python class called `unknown_qubit` for doing our quantum experiments. \n",
    "\n",
    "Please run the following cell before continuing."
   ]
  },
  {
   "cell_type": "code",
   "execution_count": 1,
   "metadata": {},
   "outputs": [
    {
     "name": "stdout",
     "output_type": "stream",
     "text": [
      "Requirement already satisfied: fastjsonschema in c:\\anaconda\\envs\\qiskit\\lib\\site-packages (2.15.1)\n"
     ]
    }
   ],
   "source": [
    "!pip install fastjsonschema"
   ]
  },
  {
   "cell_type": "code",
   "execution_count": 2,
   "metadata": {},
   "outputs": [],
   "source": [
    "# class unknown_qubit\n",
    "#   available_qubit = 1000 -> you get at most 1000 qubit copies\n",
    "#   get_qubits(number_of_qubits) -> you get the specified number of qubits for your experiment\n",
    "#   measure_qubits() -> your qubits are measured and the result is returned as a dictionary variable\n",
    "#                    -> after measurement, these qubits are destroyed\n",
    "#   rotate_qubits(angle) -> your qubits are rotated with the specified angle in radian\n",
    "#   compare_my_guess(my_angle) -> your guess in radian is compared with the real angle\n",
    "\n",
    "from random import randrange\n",
    "from math import pi\n",
    "from qiskit import QuantumRegister, ClassicalRegister, QuantumCircuit, execute, Aer\n",
    "class unknown_qubit:   \n",
    "    def __init__(self):\n",
    "        self.__theta = randrange(18000)/18000*pi        \n",
    "        self.__available_qubits = 1000\n",
    "        self.__active_qubits = 0\n",
    "        print(self.__available_qubits,\"qubits are created\")\n",
    "    \n",
    "    def get_qubits(self,number_of_qubits=None):\n",
    "        if number_of_qubits is None or isinstance(number_of_qubits,int) is False or number_of_qubits < 1:\n",
    "            print()\n",
    "            print(\"ERROR: the method 'get_qubits' takes the number of qubit(s) as a positive integer, i.e., get_qubits(100)\")\n",
    "        elif number_of_qubits <= self.__available_qubits:\n",
    "            self.__qc = QuantumCircuit(1,1)\n",
    "            self.__qc.ry(2 * self.__theta,0)\n",
    "            self.__active_qubits = number_of_qubits\n",
    "            self.__available_qubits = self.__available_qubits - self.__active_qubits\n",
    "            print()\n",
    "            print(\"You have\",number_of_qubits,\"active qubits that are set to (cos(theta),sin(theta))\")\n",
    "            self.available_qubits()\n",
    "        else:\n",
    "            print()\n",
    "            print(\"WARNING: you requested\",number_of_qubits,\"qubits, but there is not enough available qubits!\")\n",
    "            self.available_qubits()\n",
    "            \n",
    "    def measure_qubits(self):    \n",
    "        if self.__active_qubits > 0:            \n",
    "            self.__qc.measure(0,0)\n",
    "            job = execute(self.__qc,Aer.get_backend('qasm_simulator'),shots=self.__active_qubits)\n",
    "            counts = job.result().get_counts(self.__qc)\n",
    "            print()\n",
    "            print(\"your\",self.__active_qubits,\"qubits are measured\")\n",
    "            print(\"counts = \",counts)\n",
    "            self.__active_qubits = 0\n",
    "            return counts\n",
    "        else:\n",
    "            print()\n",
    "            print(\"WARNING: there is no active qubits -- you might first execute 'get_qubits()' method\")\n",
    "            self.available_qubits()\n",
    "            \n",
    "    def rotate_qubits(self,angle=None):\n",
    "        if angle is None or (isinstance(angle,float) is False and isinstance(angle,int) is False):\n",
    "            print()\n",
    "            print(\"ERROR: the method 'rotate_qubits' takes a real-valued angle in radian as its parameter, i.e., rotate_qubits(1.2121)\")\n",
    "        elif self.__active_qubits > 0:\n",
    "            self.__qc.ry(2 * angle,0)\n",
    "            print()\n",
    "            print(\"your active qubits are rotated by angle\",angle,\"in radian\")\n",
    "        else:\n",
    "            print()\n",
    "            print(\"WARNING: there is no active qubits -- you might first execute 'get_qubits()' method\")\n",
    "            self.available_qubits()    \n",
    "    \n",
    "    def compare_my_guess(self,my_angle):\n",
    "        if my_angle is None or (isinstance(my_angle,float) is False and isinstance(my_angle,int) is False):\n",
    "            print(\"ERROR: the method 'compare_my_guess' takes a real-valued angle in radian as your guessed angle, i.e., compare_my_guess(1.2121)\")\n",
    "        else:\n",
    "            self.__available_qubits = 0\n",
    "            diff = abs(my_angle-self.__theta)\n",
    "            print()\n",
    "            print(self.__theta,\"is the original\",)\n",
    "            print(my_angle,\"is your guess\")\n",
    "            print(\"the angle difference between the original theta and your guess is\",diff/pi*180,\"degree\")\n",
    "            print(\"-->the number of available qubits is (set to) zero, and so you cannot make any further experiment\")\n",
    "\n",
    "    def available_qubits(self):\n",
    "        print(\"--> the number of available unused qubit(s) is\",self.__available_qubits)              "
   ]
  },
  {
   "cell_type": "markdown",
   "metadata": {},
   "source": [
    "class `unknown_qubit`:\n",
    "    \n",
    "    available_qubit = 1000 -> you get at most 1000 qubit copies\n",
    "    get_qubits(number_of_qubits) -> you get the specified number of qubits for your experiment\n",
    "    measure_qubits() -> your qubits are measured and the result is returned as a dictionary variable\n",
    "                     -> after measurement, these qubits are destroyed\n",
    "    rotate_qubits(angle) -> your qubits are rotated with the specified angle in radian\n",
    "    compare_my_guess(my_angle) -> your guess in radian is compared with the real angle"
   ]
  },
  {
   "cell_type": "markdown",
   "metadata": {},
   "source": [
    "<h3> Task 1 </h3>\n",
    "\n",
    "You are given 1000 copies of the identical qubits which are in the same quantum state lying in the first or second quadrant of the unit circle. \n",
    "\n",
    "This quantum state is represented by an angle $ \\theta \\in [0,\\pi) $, and your task is to guess this angle.\n",
    "\n",
    "You use the class __unknown_qubit__ and its methods for your experiments. \n",
    "\n",
    "_Remark that the measurement outcomes of the quantum states with angles $ \\pi \\over 3 $ and $ 2 \\pi \\over 3 $ are identical even though they are different quantum states. Therefore, getting 1000 qubits and then measuring them does not guarantee the correct answer._\n",
    "\n",
    "Test your solution at least ten times."
   ]
  },
  {
   "cell_type": "code",
   "execution_count": 11,
   "metadata": {},
   "outputs": [
    {
     "name": "stdout",
     "output_type": "stream",
     "text": [
      "1000 qubits are created\n",
      "\n",
      "You have 100 active qubits that are set to (cos(theta),sin(theta))\n",
      "--> the number of available unused qubit(s) is 900\n",
      "\n",
      "your 100 qubits are measured\n",
      "counts =  {'1': 35, '0': 65}\n",
      "{'1': 35, '0': 65}\n",
      "\n",
      "You have 100 active qubits that are set to (cos(theta),sin(theta))\n",
      "--> the number of available unused qubit(s) is 800\n",
      "\n",
      "your active qubits are rotated by angle 1.5707963267948966 in radian\n",
      "\n",
      "your 100 qubits are measured\n",
      "counts =  {'0': 37, '1': 63}\n",
      "{'0': 37, '1': 63}\n"
     ]
    }
   ],
   "source": [
    "from math import pi, cos, sin, acos, asin\n",
    "\n",
    "# an angle theta is randomly picked and it is fixed througout the experiment\n",
    "my_experiment = unknown_qubit() \n",
    "\n",
    "# Example\n",
    "# we dedicate 100 qubits for measurele\n",
    "number_of_qubits = 100\n",
    "my_experiment.get_qubits(number_of_qubits)\n",
    "\n",
    "# we measure them and report the results\n",
    "hist = my_experiment.measure_qubits()\n",
    "print(hist)\n",
    "\n",
    "# we dedicate another bunch of qubits\n",
    "my_experiment.get_qubits(number_of_qubits)\n",
    "# rotate them by some angle, say, pi/2\n",
    "# this if Bloch notation\n",
    "my_experiment.rotate_qubits(pi/2)\n",
    "hist = my_experiment.measure_qubits()\n",
    "print(hist)\n",
    "\n",
    "\n",
    "# my_experiment.compare_my_guess(my_angle)\n",
    "#\n",
    "\n",
    "#\n",
    "# your solution is here\n",
    "#\n"
   ]
  },
  {
   "cell_type": "code",
   "execution_count": null,
   "metadata": {},
   "outputs": [],
   "source": [
    "for i in range(10):\n",
    "    my_experiment = unknown_qubit()\n",
    "    #\n",
    "    # your solution\n",
    "    #"
   ]
  },
  {
   "cell_type": "markdown",
   "metadata": {},
   "source": [
    "[click for our solution](Q52_Quantum_Tomography_Solution.ipynb#task1)"
   ]
  },
  {
   "cell_type": "markdown",
   "metadata": {},
   "source": [
    "<h3> Task 2 (extra) </h3>\n",
    "\n",
    "You are given 1000 identical quantum systems with two qubits that are in states $ \\myvector{\\cos \\theta_1 \\\\ \\sin \\theta_1} $ and $ \\myvector{\\cos \\theta_2 \\\\ \\sin \\theta_2} $, where $ \\theta_1,\\theta_2 \\in [0,\\pi) $.\n",
    "\n",
    "Your task is to guess the values of $ \\theta_1 $ and $ \\theta_2 $. \n",
    "\n",
    "Create a quantum circuit with two qubits. \n",
    "\n",
    "Randomly pick $\\theta_1$ and $ \\theta_2 $ and set the states of qubits respectively. (Do not use $ \\theta_1 $ and $ \\theta_2 $ except initializing the qubits.)\n",
    "\n",
    "Do experiments (making measurements and/or applying basic quantum operators) with your circuit(s). You may create more than one circuit.\n",
    "\n",
    "Assume that the total number of shots does not exceed 1000 throughout the whole experiment.\n",
    "\n",
    "_Since you have two qubits, your measurement outcomes will be '00', '01', '10', and '11'._"
   ]
  },
  {
   "cell_type": "code",
   "execution_count": null,
   "metadata": {},
   "outputs": [],
   "source": [
    "#\n",
    "# your solution\n",
    "#\n"
   ]
  },
  {
   "cell_type": "markdown",
   "metadata": {},
   "source": [
    "<h3> Task 3 (Discussion) </h3>\n",
    "\n",
    "If the angle in Task 1 is picked in range $ [0,2\\pi) $, then can we determine its quadrant correctly?"
   ]
  },
  {
   "cell_type": "markdown",
   "metadata": {},
   "source": [
    "<h3> Global phase </h3>\n",
    "\n",
    "Suppose that we have a qubit and its state is either $ \\ket{0} $ or $ -\\ket{0} $.\n",
    "\n",
    "Is there any sequence of one-qubit gates such that we can measure different results after applying them?\n",
    "\n",
    "All one-qubit gates are $ 2 \\times 2 $ matrices, and their application is represented by a single matrix: $ A_n \\cdot \\cdots \\cdot A_2 \\cdot A_1 = A $.\n",
    "\n",
    "By linearity, if $ A \\ket{0} = \\ket{u} $, then $ A (- \\ket{0}) = -\\ket{u} $. Thus, after measurement, the probabilities of observing state $ \\ket{0} $ and state $ \\ket{1} $ are the same for $ \\ket{u} $ and $ -\\ket{u} $. Therefore, we cannot distinguish them.\n",
    "\n",
    "Even though the states $ \\ket{0} $ and $ -\\ket{0} $ are different mathematically, they are assumed as identical from the physical point of view. \n",
    "\n",
    "The minus sign in front of $ -\\ket{0} $ is called as a global phase.\n",
    "\n",
    "In general, a global phase can be a complex number with magnitude 1."
   ]
  }
 ],
 "metadata": {
  "kernelspec": {
   "display_name": "Python [conda env:qiskit]",
   "language": "python",
   "name": "conda-env-qiskit-py"
  },
  "language_info": {
   "codemirror_mode": {
    "name": "ipython",
    "version": 3
   },
   "file_extension": ".py",
   "mimetype": "text/x-python",
   "name": "python",
   "nbconvert_exporter": "python",
   "pygments_lexer": "ipython3",
   "version": "3.9.6"
  }
 },
 "nbformat": 4,
 "nbformat_minor": 4
}
