{
 "cells": [
  {
   "cell_type": "markdown",
   "id": "fdf13510-0071-4a46-8614-586fa2ec2b16",
   "metadata": {},
   "source": [
    "# Shor's factorization algorithm\n",
    "\n",
    "We need to decompose $N=pq$. Best [Shank's](https://en.wikipedia.org/wiki/Shanks%27s_square_forms_factorization) and [Pollard-Strassen](https://ru.wikipedia.org/wiki/%D0%90%D0%BB%D0%B3%D0%BE%D1%80%D0%B8%D1%82%D0%BC_%D0%9F%D0%BE%D0%BB%D0%BB%D0%B0%D1%80%D0%B4%D0%B0_%E2%80%94_%D0%A8%D1%82%D1%80%D0%B0%D1%81%D1%81%D0%B5%D0%BD%D0%B0) algorithms do this in $\\mathcal{O}(N^{1/4})$. Can we do better?\n",
    "\n",
    "## Classic idea of the method\n",
    "\n",
    "### Exponential function\n",
    "\n",
    "Assume we have $0<a<N$ which is co-prime to $N$: $gcd(N, a) = 1$.\n",
    "\n",
    "Then by number theory $f(x) = a^x \\mod N$ is a periodic function. Implement to justify this visually."
   ]
  },
  {
   "cell_type": "code",
   "execution_count": 1,
   "id": "013231f1-ae6b-4fa0-b021-457fa2ff1428",
   "metadata": {},
   "outputs": [
    {
     "data": {
      "image/png": "[encoded data removed]",
      "text/plain": [
       "<Figure size 432x288 with 1 Axes>"
      ]
     },
     "metadata": {
      "needs_background": "light"
     },
     "output_type": "display_data"
    }
   ],
   "source": [
    "def f(x, a, N):\n",
    "    # TODO your code here\n",
    "\n",
    "N = 35\n",
    "a = 2\n",
    "data = [f(i, a, N) for i in range(100)]\n",
    "\n",
    "import matplotlib.pyplot as plt\n",
    "\n",
    "plt.plot(data)\n",
    "plt.show()"
   ]
  },
  {
   "cell_type": "markdown",
   "id": "8e62891b-112b-4697-91a6-00d605297fe2",
   "metadata": {},
   "source": [
    "### Function period\n",
    "\n",
    "We can find a period $r$ of this function:\n",
    "\n",
    "$a^x=a^{x+r}\\mod N$\n",
    "\n",
    "easily, using obvious trick:\n",
    "\n",
    "$a^0=1$. Thus $a^{0+r}=a^r=1\\mod N$.\n",
    "\n",
    "Let's find $r$."
   ]
  },
  {
   "cell_type": "code",
   "execution_count": 2,
   "id": "d3a7d8af-6ecb-4596-91df-777c04ac7271",
   "metadata": {},
   "outputs": [],
   "source": [
    "def get_period(f, hardstop=100):\n",
    "    # TODO your code here"
   ]
  },
  {
   "cell_type": "code",
   "execution_count": 3,
   "id": "a9c73197-ec70-4404-b87c-d96d45eb1691",
   "metadata": {},
   "outputs": [],
   "source": [
    "victim = lambda x: f(x, a, N)\n",
    "assert get_period(victim) == 12, \"Wrong implementation\""
   ]
  },
  {
   "cell_type": "markdown",
   "id": "97269639-6995-4ce2-a6bf-cdc45a77c8e1",
   "metadata": {},
   "source": [
    "### Using a period $r$ for $p$ and $q$ estimation.\n",
    "\n",
    "For this we will need an implementation of `gcd` function. Hopefully, we can use [Euclidean algorithm](https://en.wikipedia.org/wiki/Euclidean_algorithm)."
   ]
  },
  {
   "cell_type": "code",
   "execution_count": 4,
   "id": "3b503a43-951b-4bbf-b6de-9afbd4fd8aff",
   "metadata": {},
   "outputs": [],
   "source": [
    "def gcd(a, b):\n",
    "    # TODO your code here\n",
    "    return a"
   ]
  },
  {
   "cell_type": "code",
   "execution_count": 5,
   "id": "9f770a60-862f-48d2-ae8b-9faaa6aad328",
   "metadata": {},
   "outputs": [],
   "source": [
    "assert gcd(121, 132) == 11, \"Wrong algorithm\""
   ]
  },
  {
   "cell_type": "markdown",
   "id": "8fd46dd9-4cd6-4136-a1bd-5f4a9b5ea151",
   "metadata": {},
   "source": [
    "It appears that (with respect to some limitations and probabilities) $p$ and $q$ can be computed as $\\gcd(N, a^{r/2}\\pm 1)$."
   ]
  },
  {
   "cell_type": "code",
   "execution_count": 6,
   "id": "09f1ba94-9365-4248-b6d4-abf1d2157f65",
   "metadata": {},
   "outputs": [],
   "source": [
    "def factor(N, a, r):\n",
    "    return gcd(N, a ** (r // 2) - 1), gcd(N, a ** (r // 2) + 1)"
   ]
  },
  {
   "cell_type": "code",
   "execution_count": 7,
   "id": "a29393f1-b2f2-4336-9c2d-815caabd903e",
   "metadata": {},
   "outputs": [
    {
     "data": {
      "text/plain": [
       "(11, 17)"
      ]
     },
     "execution_count": 7,
     "metadata": {},
     "output_type": "execute_result"
    }
   ],
   "source": [
    "N = 11 * 17\n",
    "a = 2\n",
    "factor(N, a, get_period(lambda x: f(x, a, N)))"
   ]
  },
  {
   "cell_type": "markdown",
   "id": "71ba4340-420b-4850-bd4f-bb8c78ecd377",
   "metadata": {},
   "source": [
    "## Shor 0.1: alpha\n",
    "Circular bit shift multiplication by 2."
   ]
  },
  {
   "cell_type": "code",
   "execution_count": 12,
   "id": "12526157-71dd-44d3-be81-49febdec1c22",
   "metadata": {},
   "outputs": [
    {
     "name": "stdout",
     "output_type": "stream",
     "text": [
      "0010 ~ 2\n",
      "0100 ~ 4\n",
      "1000 ~ 8\n",
      "0001 ~ 1\n",
      "0010 ~ 2\n",
      "0100 ~ 4\n",
      "1000 ~ 8\n",
      "0001 ~ 1\n"
     ]
    }
   ],
   "source": [
    "def circ(x):\n",
    "    return x[1:] + x[:1]\n",
    "\n",
    "x = '0010'\n",
    "for i in range(8):\n",
    "    print(x, \"~\", int(x, base=2))\n",
    "    x = circ(x)"
   ]
  },
  {
   "cell_type": "markdown",
   "id": "c33a8056-1372-4e9d-9b44-1287ce14f956",
   "metadata": {},
   "source": [
    "We will use this property to represent $f(x)=2^x\\mod 15$."
   ]
  },
  {
   "cell_type": "code",
   "execution_count": 15,
   "id": "ee3f3c75-6ff3-470b-9a2c-366c2898a96f",
   "metadata": {},
   "outputs": [
    {
     "name": "stdout",
     "output_type": "stream",
     "text": [
      "2\n",
      "4\n",
      "8\n",
      "1\n",
      "2\n",
      "4\n",
      "8\n",
      "1\n"
     ]
    }
   ],
   "source": [
    "for i in range(8):\n",
    "    print(f(i + 1, 2, 15))"
   ]
  },
  {
   "cell_type": "markdown",
   "id": "39b1ff50-ae46-4c1a-bbf8-3eadf6f35fb7",
   "metadata": {},
   "source": [
    "### Let's do this in a circuit form.\n",
    "\n",
    "Let $U_f$ be the function, which returns next sequence state:\n",
    "\n",
    "$U_f|f(0)\\rangle=|f(1)\\rangle$\n",
    "\n",
    "$U_f|f(1)\\rangle=|f(2)\\rangle$\n",
    "\n",
    "...\n",
    "\n",
    "$U_f^r|f(0)\\rangle=|f(r)\\rangle=|f(0)\\rangle$"
   ]
  },
  {
   "cell_type": "code",
   "execution_count": 16,
   "id": "120a91c4-466c-4ce4-aa06-b9946438c0cf",
   "metadata": {},
   "outputs": [],
   "source": [
    "from qiskit import QuantumRegister, ClassicalRegister, QuantumCircuit, Aer, execute\n",
    "from qiskit.visualization import plot_histogram\n",
    "import matplotlib.pyplot as plt"
   ]
  },
  {
   "cell_type": "code",
   "execution_count": 50,
   "id": "1145f479-b1b7-4c8a-bf1e-2b05f4aeb503",
   "metadata": {},
   "outputs": [
    {
     "name": "stdout",
     "output_type": "stream",
     "text": [
      "This is C-Uf:\n",
      "              \n",
      "q_0: ───────X─\n",
      "            │ \n",
      "q_1: ────X──X─\n",
      "         │  │ \n",
      "q_2: ─X──X──┼─\n",
      "      │  │  │ \n",
      "q_3: ─X──┼──┼─\n",
      "      │  │  │ \n",
      "q_4: ─■──■──■─\n",
      "              \n",
      "        ┌───┐ ░       ░ ┌────────┐                              ┌──────┐┌─┐   »\n",
      "   x_0: ┤ H ├─░───────░─┤4       ├──────────────────────────────┤0     ├┤M├───»\n",
      "        ├───┤ ░       ░ │        │┌────────┐                    │      │└╥┘┌─┐»\n",
      "   x_1: ┤ H ├─░───────░─┤        ├┤4       ├────────────────────┤1     ├─╫─┤M├»\n",
      "        ├───┤ ░       ░ │        ││        │┌────────┐          │  QFT │ ║ └╥┘»\n",
      "   x_2: ┤ H ├─░───────░─┤        ├┤        ├┤4       ├──────────┤2     ├─╫──╫─»\n",
      "        ├───┤ ░       ░ │        ││        ││        │┌────────┐│      │ ║  ║ »\n",
      "   x_3: ┤ H ├─░───────░─┤        ├┤        ├┤        ├┤4       ├┤3     ├─╫──╫─»\n",
      "        └───┘ ░ ┌───┐ ░ │  CU^1f ││        ││        ││        │└──────┘ ║  ║ »\n",
      "f(x)_0: ──────░─┤ X ├─░─┤0       ├┤0 CU^2f ├┤0       ├┤0       ├─────────╫──╫─»\n",
      "              ░ └───┘ ░ │        ││        ││  CU^4f ││        │         ║  ║ »\n",
      "f(x)_1: ──────░───────░─┤1       ├┤1       ├┤1       ├┤1 CU^8f ├─────────╫──╫─»\n",
      "              ░       ░ │        ││        ││        ││        │         ║  ║ »\n",
      "f(x)_2: ──────░───────░─┤2       ├┤2       ├┤2       ├┤2       ├─────────╫──╫─»\n",
      "              ░       ░ │        ││        ││        ││        │         ║  ║ »\n",
      "f(x)_3: ──────░───────░─┤3       ├┤3       ├┤3       ├┤3       ├─────────╫──╫─»\n",
      "              ░       ░ └────────┘└────────┘└────────┘└────────┘         ║  ║ »\n",
      " c14: 4/═════════════════════════════════════════════════════════════════╩══╩═»\n",
      "                                                                         0  1 »\n",
      "«              \n",
      "«   x_0: ──────\n",
      "«              \n",
      "«   x_1: ──────\n",
      "«        ┌─┐   \n",
      "«   x_2: ┤M├───\n",
      "«        └╥┘┌─┐\n",
      "«   x_3: ─╫─┤M├\n",
      "«         ║ └╥┘\n",
      "«f(x)_0: ─╫──╫─\n",
      "«         ║  ║ \n",
      "«f(x)_1: ─╫──╫─\n",
      "«         ║  ║ \n",
      "«f(x)_2: ─╫──╫─\n",
      "«         ║  ║ \n",
      "«f(x)_3: ─╫──╫─\n",
      "«         ║  ║ \n",
      "« c14: 4/═╩══╩═\n",
      "«         2  3 \n"
     ]
    }
   ],
   "source": [
    "qx = QuantumRegister(4, name=\"x\")\n",
    "qf = QuantumRegister(4, name=\"f(x)\")\n",
    "cr = ClassicalRegister(4)\n",
    "\n",
    "qc = QuantumCircuit(qx, qf, cr)\n",
    "\n",
    "# TODO: prepare equal superposition for x\n",
    "\n",
    "# TODO: prepare 0001 at f(x)\n",
    "\n",
    "# TODO: implement controlled circular bit shift repeated power times\n",
    "def CUf(power=1):\n",
    "    qc = QuantumCircuit(5, name=f\"CU^{power}f\")\n",
    "    # TODO your code here\n",
    "    return qc\n",
    "    \n",
    "print(\"This is C-Uf:\")\n",
    "print(CUf().draw())\n",
    "\n",
    "## THESE ARE FINAL STEPS:\n",
    "\n",
    "# U^1\n",
    "qc.append(CUf(), qf[:] + [qx[0]])\n",
    "# U^2\n",
    "qc.append(CUf(2 ** 1), qf[:] + [qx[1]])\n",
    "# U^4\n",
    "qc.append(CUf(2 ** 2), qf[:] + [qx[2]])\n",
    "# U^8\n",
    "qc.append(CUf(2 ** 3), qf[:] + [qx[3]])\n",
    "\n",
    "from qiskit.circuit.library import QFT\n",
    "qft4 = QFT(4)\n",
    "\n",
    "qc.append(qft4, qx)\n",
    "qc.measure(qx, cr)\n",
    "\n",
    "print(qc.draw())"
   ]
  },
  {
   "cell_type": "code",
   "execution_count": 51,
   "id": "5c4ed6d1-d8f5-4236-b9b7-148700b81bbd",
   "metadata": {},
   "outputs": [
    {
     "data": {
      "image/png": "[encoded data removed]",
      "text/plain": [
       "<Figure size 504x360 with 1 Axes>"
      ]
     },
     "execution_count": 51,
     "metadata": {},
     "output_type": "execute_result"
    }
   ],
   "source": [
    "shots = 5000\n",
    "job = execute(qc, Aer.get_backend('qasm_simulator'), shots=shots)\n",
    "counts = job.result().get_counts(qc)\n",
    "plot_histogram(dict((int(k, base=2), v) for (k, v) in counts.items()))"
   ]
  },
  {
   "cell_type": "markdown",
   "id": "e4fa3c7c-9aa9-474c-af04-1d3019edb3e3",
   "metadata": {},
   "source": [
    "This code derived from [here](https://oreilly-qc.github.io/#) (I have no idea how) finds the denominanator which with a spike form a proper fraction. We provide the observed values of a single Shor's run and a size $2^{|X|}$."
   ]
  },
  {
   "cell_type": "code",
   "execution_count": 52,
   "id": "7a093370-c71e-4cdd-9eb9-1d0f0f619def",
   "metadata": {},
   "outputs": [],
   "source": [
    "def estimate_num_spikes(spike, max_value):\n",
    "    if (spike < max_value / 2):\n",
    "        spike = max_value - spike\n",
    "    best_error = 1.0\n",
    "    e0, e1, e2 = 0, 0, 0\n",
    "    actual = spike / max_value\n",
    "    candidates = []\n",
    "    denom = 1.0\n",
    "    while denom < spike:\n",
    "        numerator = round(denom * actual)\n",
    "        estimated = numerator / denom\n",
    "        error = abs(estimated - actual)\n",
    "        e0 = e1\n",
    "        e1 = e2\n",
    "        e2 = error\n",
    "\n",
    "        ## Look for a local minimum which beats our\n",
    "        ## current best error\n",
    "        if e1 <= best_error and e1 < e0 and e1 < e2:\n",
    "            repeat_period = denom - 1\n",
    "            candidates.append(repeat_period)\n",
    "            best_error = e1\n",
    "        denom += 1\n",
    "        \n",
    "    return candidates"
   ]
  },
  {
   "cell_type": "code",
   "execution_count": 53,
   "id": "37ee8dda-c769-4dc9-85ac-22aa1f99d6c1",
   "metadata": {},
   "outputs": [
    {
     "name": "stdout",
     "output_type": "stream",
     "text": [
      "[4.0, 8.0]\n",
      "[2.0, 4.0, 6.0]\n",
      "[4.0, 8.0]\n"
     ]
    }
   ],
   "source": [
    "print(estimate_num_spikes(4, 2 ** 4))\n",
    "print(estimate_num_spikes(8, 2 ** 4))\n",
    "print(estimate_num_spikes(12, 2 ** 4))"
   ]
  },
  {
   "cell_type": "code",
   "execution_count": null,
   "id": "152854e0-933b-4761-80f6-696da0316578",
   "metadata": {},
   "outputs": [],
   "source": [
    "# if we observe 4:\n",
    "factor(15, 2, 4)"
   ]
  }
 ],
 "metadata": {
  "kernelspec": {
   "display_name": "Python [conda env:qiskit]",
   "language": "python",
   "name": "conda-env-qiskit-py"
  },
  "language_info": {
   "codemirror_mode": {
    "name": "ipython",
    "version": 3
   },
   "file_extension": ".py",
   "mimetype": "text/x-python",
   "name": "python",
   "nbconvert_exporter": "python",
   "pygments_lexer": "ipython3",
   "version": "3.9.6"
  }
 },
 "nbformat": 4,
 "nbformat_minor": 5
}
