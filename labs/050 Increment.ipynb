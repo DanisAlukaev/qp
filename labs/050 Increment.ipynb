{
 "cells": [
  {
   "cell_type": "markdown",
   "id": "47edbd28-127e-4e4e-8986-7d3a3c70ebda",
   "metadata": {},
   "source": [
    "# Binary data representation\n",
    "\n",
    "Write a code, which, using [2's complement](https://en.wikipedia.org/wiki/Two%27s_complement) will represent numbers `-2` and `7` in 4-bit encoding (separately!)."
   ]
  },
  {
   "cell_type": "code",
   "execution_count": 5,
   "id": "53a73536-0195-4d63-9ddf-e66ebc3f4e87",
   "metadata": {},
   "outputs": [],
   "source": [
    "from qiskit import QuantumRegister, ClassicalRegister, QuantumCircuit\n",
    "from qiskit.visualization import plot_histogram\n",
    "from qiskit import execute, Aer\n",
    "import matplotlib.pyplot as plt"
   ]
  },
  {
   "cell_type": "code",
   "execution_count": 10,
   "id": "c59b0269-6016-4ab2-9d8f-141407d8b2ec",
   "metadata": {},
   "outputs": [
    {
     "data": {
      "text/plain": [
       "<qiskit.circuit.instructionset.InstructionSet at 0x21f65f09f40>"
      ]
     },
     "execution_count": 10,
     "metadata": {},
     "output_type": "execute_result"
    }
   ],
   "source": [
    "qr = QuantumRegister(4, 'qubits')\n",
    "cr = ClassicalRegister(4, 'bits')\n",
    "qc = QuantumCircuit(qr, cr)\n",
    "\n",
    "# write your code here \n",
    "\n",
    "qc.measure(qr, cr)"
   ]
  },
  {
   "cell_type": "markdown",
   "id": "a92992b3-2f90-463f-8127-72780691f131",
   "metadata": {},
   "source": [
    "Validate your code produces exaclty what you planned!"
   ]
  },
  {
   "cell_type": "code",
   "execution_count": 11,
   "id": "8130f625-15c8-44a4-a276-19d1859e87f0",
   "metadata": {},
   "outputs": [
    {
     "data": {
      "image/png": "[encoded data removed]",
      "text/plain": [
       "<Figure size 504x360 with 1 Axes>"
      ]
     },
     "metadata": {
      "needs_background": "light"
     },
     "output_type": "display_data"
    }
   ],
   "source": [
    "job = execute(qc, Aer.get_backend('qasm_simulator'), shots=1000)\n",
    "counts = job.result().get_counts(qc)\n",
    "plot_histogram(counts)\n",
    "plt.show()"
   ]
  },
  {
   "cell_type": "markdown",
   "id": "9924427a-11a4-45f2-a9dc-26a293ea2eb1",
   "metadata": {},
   "source": [
    "# Increment implementation\n",
    "\n",
    "## Preparation. Multicontrol\n",
    "\n",
    "Genetalization of controlled gates is [MCMT](https://qiskit.org/documentation/stubs/qiskit.circuit.library.MCMT.html). But we can do it easier, with standard gates. Up to 3 there are [classes in qiskit](https://qiskit.org/documentation/stubs/qiskit.circuit.library.C3XGate.html#qiskit.circuit.library.C3XGate). Or you can go with `XGate`."
   ]
  },
  {
   "cell_type": "code",
   "execution_count": 27,
   "id": "421c6469-84e0-480a-91f9-8393c23c4a40",
   "metadata": {},
   "outputs": [
    {
     "data": {
      "text/html": [
       "<pre style=\"word-wrap: normal;white-space: pre;background: #fff0;line-height: 1.1;font-family: &quot;Courier New&quot;,Courier,monospace\">          ┌───┐     ┌─┐         \n",
       "qubits_0: ┤ X ├──■──┤M├─────────\n",
       "          ├───┤  │  └╥┘┌─┐      \n",
       "qubits_1: ┤ X ├──■───╫─┤M├──────\n",
       "          ├───┤  │   ║ └╥┘┌─┐   \n",
       "qubits_2: ┤ X ├──■───╫──╫─┤M├───\n",
       "          └───┘┌─┴─┐ ║  ║ └╥┘┌─┐\n",
       "qubits_3: ─────┤ X ├─╫──╫──╫─┤M├\n",
       "               └───┘ ║  ║  ║ └╥┘\n",
       "  bits: 4/═══════════╩══╩══╩══╩═\n",
       "                     0  1  2  3 </pre>"
      ],
      "text/plain": [
       "          ┌───┐     ┌─┐         \n",
       "qubits_0: ┤ X ├──■──┤M├─────────\n",
       "          ├───┤  │  └╥┘┌─┐      \n",
       "qubits_1: ┤ X ├──■───╫─┤M├──────\n",
       "          ├───┤  │   ║ └╥┘┌─┐   \n",
       "qubits_2: ┤ X ├──■───╫──╫─┤M├───\n",
       "          └───┘┌─┴─┐ ║  ║ └╥┘┌─┐\n",
       "qubits_3: ─────┤ X ├─╫──╫──╫─┤M├\n",
       "               └───┘ ║  ║  ║ └╥┘\n",
       "  bits: 4/═══════════╩══╩══╩══╩═\n",
       "                     0  1  2  3 "
      ]
     },
     "metadata": {},
     "output_type": "display_data"
    },
    {
     "data": {
      "image/png": "[encoded data removed]",
      "text/plain": [
       "<Figure size 504x360 with 1 Axes>"
      ]
     },
     "metadata": {
      "needs_background": "light"
     },
     "output_type": "display_data"
    }
   ],
   "source": [
    "from qiskit.circuit.library import XGate\n",
    "cccx = XGate().control(3)\n",
    "\n",
    "qr = QuantumRegister(4, 'qubits')\n",
    "cr = ClassicalRegister(4, 'bits')\n",
    "qc = QuantumCircuit(qr, cr)\n",
    "\n",
    "qc.x([0, 1, 2])\n",
    "qc.append(cccx, qr)\n",
    "qc.measure(qr, cr)\n",
    "display(qc.draw())\n",
    "\n",
    "job = execute(qc, Aer.get_backend('qasm_simulator'), shots=1000)\n",
    "counts = job.result().get_counts(qc)\n",
    "plot_histogram(counts)\n",
    "plt.show()"
   ]
  },
  {
   "cell_type": "markdown",
   "id": "6f806cfc-83e7-4282-ae7f-6ce2aede4d5a",
   "metadata": {},
   "source": [
    "## Simple increment"
   ]
  },
  {
   "cell_type": "code",
   "execution_count": 24,
   "id": "bc912dcd-1e71-4b63-87f3-4020eba30255",
   "metadata": {},
   "outputs": [
    {
     "data": {
      "text/html": [
       "<pre style=\"word-wrap: normal;white-space: pre;background: #fff0;line-height: 1.1;font-family: &quot;Courier New&quot;,Courier,monospace\">          ┌───┐ ░                ┌───┐ ░ ┌─┐         \n",
       "qubits_0: ┤ X ├─░───■────■────■──┤ X ├─░─┤M├─────────\n",
       "          └───┘ ░   │    │  ┌─┴─┐└───┘ ░ └╥┘┌─┐      \n",
       "qubits_1: ──────░───■────■──┤ X ├──────░──╫─┤M├──────\n",
       "          ┌───┐ ░   │  ┌─┴─┐└───┘      ░  ║ └╥┘┌─┐   \n",
       "qubits_2: ┤ X ├─░───■──┤ X ├───────────░──╫──╫─┤M├───\n",
       "          └───┘ ░ ┌─┴─┐└───┘           ░  ║  ║ └╥┘┌─┐\n",
       "qubits_3: ──────░─┤ X ├────────────────░──╫──╫──╫─┤M├\n",
       "                ░ └───┘                ░  ║  ║  ║ └╥┘\n",
       "  bits: 4/════════════════════════════════╩══╩══╩══╩═\n",
       "                                          0  1  2  3 </pre>"
      ],
      "text/plain": [
       "          ┌───┐ ░                ┌───┐ ░ ┌─┐         \n",
       "qubits_0: ┤ X ├─░───■────■────■──┤ X ├─░─┤M├─────────\n",
       "          └───┘ ░   │    │  ┌─┴─┐└───┘ ░ └╥┘┌─┐      \n",
       "qubits_1: ──────░───■────■──┤ X ├──────░──╫─┤M├──────\n",
       "          ┌───┐ ░   │  ┌─┴─┐└───┘      ░  ║ └╥┘┌─┐   \n",
       "qubits_2: ┤ X ├─░───■──┤ X ├───────────░──╫──╫─┤M├───\n",
       "          └───┘ ░ ┌─┴─┐└───┘           ░  ║  ║ └╥┘┌─┐\n",
       "qubits_3: ──────░─┤ X ├────────────────░──╫──╫──╫─┤M├\n",
       "                ░ └───┘                ░  ║  ║  ║ └╥┘\n",
       "  bits: 4/════════════════════════════════╩══╩══╩══╩═\n",
       "                                          0  1  2  3 "
      ]
     },
     "metadata": {},
     "output_type": "display_data"
    },
    {
     "data": {
      "image/png": "[encoded data removed]",
      "text/plain": [
       "<Figure size 504x360 with 1 Axes>"
      ]
     },
     "metadata": {
      "needs_background": "light"
     },
     "output_type": "display_data"
    }
   ],
   "source": [
    "from qiskit.circuit.library import XGate\n",
    "cccx = XGate().control(3)\n",
    "\n",
    "qr = QuantumRegister(4, 'qubits')\n",
    "cr = ClassicalRegister(4, 'bits')\n",
    "qc = QuantumCircuit(qr, cr)\n",
    "\n",
    "qc.x([0, 2])\n",
    "qc.barrier()\n",
    "\n",
    "################ YOUR CODE HERE #########################\n",
    "\n",
    "#########################################################\n",
    "qc.barrier()\n",
    "qc.measure(qr, cr)\n",
    "display(qc.draw())\n",
    "\n",
    "job = execute(qc, Aer.get_backend('qasm_simulator'), shots=1000)\n",
    "counts = job.result().get_counts(qc)\n",
    "plot_histogram(counts)\n",
    "plt.show()"
   ]
  },
  {
   "cell_type": "markdown",
   "id": "6b51756e-338a-4931-bb1a-e66d466bb194",
   "metadata": {},
   "source": [
    "## What about increment of superposition?\n",
    "\n",
    "Prepare superposition of `-2` and `7` and apply increment to them. Prepare superposition of `0..7` and repeat.\n",
    "\n",
    "HINT: $\\frac{1}{\\sqrt{2}}(|0111\\rangle+|1110\\rangle)$ is a $|\\Psi^+\\rangle$ Bell's pair on 0'th and 3'rd qubits."
   ]
  },
  {
   "cell_type": "code",
   "execution_count": null,
   "id": "6d81b169-8d33-4f50-a800-e2868cd2bab6",
   "metadata": {},
   "outputs": [],
   "source": [
    "qr = QuantumRegister(4, 'qubits')\n",
    "cr = ClassicalRegister(4, 'bits')\n",
    "qc = QuantumCircuit(qr, cr)\n",
    "\n",
    "########### YOUR CODE HERE ###############################\n",
    "\n",
    "\n",
    "##########################################################\n",
    "\n",
    "qc.barrier()\n",
    "qc.measure(qr, cr)\n",
    "display(qc.draw())\n",
    "\n",
    "job = execute(qc, Aer.get_backend('qasm_simulator'), shots=1000)\n",
    "counts = job.result().get_counts(qc)\n",
    "plot_histogram(counts)\n",
    "plt.show()"
   ]
  },
  {
   "cell_type": "markdown",
   "id": "98e3cbf6-3e9b-4113-bb0c-ffd19d770243",
   "metadata": {},
   "source": [
    "# Operator class - small step aside\n",
    "\n",
    "[source](https://qiskit.org/documentation/tutorials/circuits_advanced/02_operators_overview.html).\n",
    "\n",
    "The Operator class is used in Qiskit to represent matrix operators acting on a quantum system. It has several methods to build composite operators using tensor products of smaller operators, and to compose operators.\n",
    "\n",
    "Operators can be non-square."
   ]
  },
  {
   "cell_type": "code",
   "execution_count": 2,
   "id": "20dd9eda-e676-4e00-9624-bf81a1ccbea1",
   "metadata": {},
   "outputs": [
    {
     "name": "stdout",
     "output_type": "stream",
     "text": [
      "(4, 4)\n",
      "[[0.+0.j 0.+0.j 0.+0.j 1.+0.j]\n",
      " [0.+0.j 0.+0.j 1.+0.j 0.+0.j]\n",
      " [0.+0.j 1.+0.j 0.+0.j 0.+0.j]\n",
      " [1.+0.j 0.+0.j 0.+0.j 0.+0.j]]\n",
      "Input dimensions: (2, 2)\n",
      "Output dimensions: (2, 2)\n"
     ]
    }
   ],
   "source": [
    "from qiskit.quantum_info.operators import Operator, Pauli\n",
    "from qiskit.extensions import RXGate, XGate, CXGate\n",
    "\n",
    "XX = Operator([[0, 0, 0, 1], [0, 0, 1, 0], [0, 1, 0, 0], [1, 0, 0, 0]])\n",
    "print(XX.dim)\n",
    "print(XX.data)\n",
    "\n",
    "print('Input dimensions:', XX.input_dims())\n",
    "print('Output dimensions:', XX.output_dims())"
   ]
  },
  {
   "cell_type": "code",
   "execution_count": null,
   "id": "c2239d6d-c8c9-42b9-a83c-6b059c61b707",
   "metadata": {},
   "outputs": [],
   "source": [
    "print(Operator(Pauli('ZY')))\n",
    "print()\n",
    "\n",
    "qc = QuantumCircuit(2)\n",
    "qc.z(1)\n",
    "qc.y(0)\n",
    "print(Operator(qc))\n",
    "print()\n",
    "\n",
    "print(Operator(CXGate()))"
   ]
  },
  {
   "cell_type": "code",
   "execution_count": null,
   "id": "54bd3ce7-edc0-461d-bc1c-89f25271e5f0",
   "metadata": {},
   "outputs": [],
   "source": [
    "assert Operator(CXGate()).is_unitary()\n",
    "assert Operator([[0, 1], [1, 1]]).is_unitary()"
   ]
  },
  {
   "cell_type": "code",
   "execution_count": 7,
   "id": "48a86778-f2e7-48f9-b322-d15de8f0afc6",
   "metadata": {},
   "outputs": [
    {
     "data": {
      "image/png": "[encoded data removed]",
      "text/plain": [
       "<Figure size 507.852x204.68 with 1 Axes>"
      ]
     },
     "execution_count": 7,
     "metadata": {},
     "output_type": "execute_result"
    }
   ],
   "source": [
    "import numpy as np\n",
    "\n",
    "# Create an operator\n",
    "XX = Operator(Pauli(label='XX'))\n",
    "\n",
    "# Add to a circuit\n",
    "circ = QuantumCircuit(2, 2)\n",
    "circ.append(XX, [0, 1])\n",
    "circ.cx(1, 0)\n",
    "circ.append(Operator([[1j, 0.], [0., -1j]]), [1])\n",
    "\n",
    "\n",
    "import scipy.linalg\n",
    "\n",
    "# some Hermitian\n",
    "H = np.array([[1, -1/3], [-1/3, 1]])\n",
    "\n",
    "# Get it's Unitary\n",
    "U = scipy.linalg.expm(1j * H)\n",
    "circ.append(Operator(U), [0])\n",
    "\n",
    "circ.measure([0,1], [0,1])\n",
    "circ.draw('mpl')"
   ]
  },
  {
   "cell_type": "markdown",
   "id": "b8422cfb-c294-48ae-90f8-1beb4f27b1ee",
   "metadata": {},
   "source": [
    "If Operator is Unitary, life is easier!"
   ]
  },
  {
   "cell_type": "code",
   "execution_count": null,
   "id": "fb288d9f-dbe3-4145-81fb-47c4f5aa1b5f",
   "metadata": {},
   "outputs": [],
   "source": [
    "from qiskit.compiler import transpile\n",
    "from qiskit import BasicAer\n",
    "\n",
    "backend = BasicAer.get_backend('qasm_simulator')\n",
    "circ = transpile(circ, backend, basis_gates=['u1','u2','u3','cx'])\n",
    "circ.draw()"
   ]
  },
  {
   "cell_type": "markdown",
   "id": "5e104505-d388-4030-ad83-5c3bd8054ed1",
   "metadata": {},
   "source": [
    "Tensoring, composition, and linear combination"
   ]
  },
  {
   "cell_type": "code",
   "execution_count": null,
   "id": "e0921339-327a-49ca-b90e-6e5074e6d5dc",
   "metadata": {},
   "outputs": [],
   "source": [
    "A = Operator(Pauli('X'))\n",
    "B = Operator(Pauli('Z'))\n",
    "\n",
    "AB = A.expand(B)\n",
    "import numpy as np\n",
    "\n",
    "np.allclose(AB.data, Operator(Pauli('ZX')).data)\n",
    "\n",
    "print(A.compose(B))\n",
    "print()\n",
    "print(A + 3 * B)"
   ]
  },
  {
   "cell_type": "markdown",
   "id": "29d3634a-f597-4541-aac4-213b90766f26",
   "metadata": {},
   "source": [
    "## TODO:\n",
    "\n",
    "For a given Hamiltonian find it's gate implementation in the gate basis `['cx', 'x', 'h', 'y', 'z', 'rx', 'ry', 'rz']`. Use `expm()` to get unitary, `transpile()` and `decompose()` to get gates.\n",
    "\n",
    "$H=\\begin{pmatrix}0 & i \\\\ -i & 1\\end{pmatrix}$."
   ]
  },
  {
   "cell_type": "code",
   "execution_count": null,
   "id": "6abafeca-0a9b-449f-9a09-95af8222fa46",
   "metadata": {},
   "outputs": [],
   "source": [
    "import numpy as np\n",
    "from scipy.linalg import expm\n",
    "from qiskit.compiler import transpile\n",
    "from qiskit import BasicAer\n",
    "\n",
    "backend = BasicAer.get_backend('qasm_simulator')\n",
    "\n",
    "H = np.array([[0, 1j], [-1j, 1]])\n",
    "######### YOUR CODE HERE ##############\n"
   ]
  },
  {
   "cell_type": "markdown",
   "id": "31dc20ec-30e4-480b-bb2c-52803ce57e0e",
   "metadata": {},
   "source": [
    "## Hamiltonians to Unitaries"
   ]
  },
  {
   "cell_type": "code",
   "execution_count": 13,
   "id": "ed50849e-c436-43a1-8e35-03e83c743286",
   "metadata": {},
   "outputs": [
    {
     "data": {
      "image/png": "[encoded data removed]",
      "text/plain": [
       "<Figure size 193.726x84.28 with 1 Axes>"
      ]
     },
     "execution_count": 13,
     "metadata": {},
     "output_type": "execute_result"
    }
   ],
   "source": [
    "from qiskit.extensions import HamiltonianGate\n",
    "unitary = HamiltonianGate(H, time=0.3)\n",
    "circ = QuantumCircuit(1)\n",
    "circ.append(unitary, [0])\n",
    "circ.draw('mpl')"
   ]
  },
  {
   "cell_type": "markdown",
   "id": "6220d5fa-dad4-4840-8fec-61ff9dc336bd",
   "metadata": {},
   "source": [
    "# Decrement\n",
    "\n",
    "What are the ways to construct a decrement?\n",
    "1. Constructive -- by solving a matrix form problem.\n",
    "2. Engineering -- by using qiskit magic."
   ]
  },
  {
   "cell_type": "code",
   "execution_count": null,
   "id": "8432ee73-3e51-4db0-ad12-b7b1eda2914d",
   "metadata": {},
   "outputs": [],
   "source": [
    "## TODO your code here"
   ]
  }
 ],
 "metadata": {
  "kernelspec": {
   "display_name": "qiskit",
   "language": "python",
   "name": "qiskit"
  },
  "language_info": {
   "codemirror_mode": {
    "name": "ipython",
    "version": 3
   },
   "file_extension": ".py",
   "mimetype": "text/x-python",
   "name": "python",
   "nbconvert_exporter": "python",
   "pygments_lexer": "ipython3",
   "version": "3.9.7"
  }
 },
 "nbformat": 4,
 "nbformat_minor": 5
}
