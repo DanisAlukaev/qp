{
 "cells": [
  {
   "cell_type": "markdown",
   "id": "aefd28cb",
   "metadata": {},
   "source": [
    "# Initialization vs Isometry in Qiskit"
   ]
  },
  {
   "cell_type": "markdown",
   "id": "5fb2351f",
   "metadata": {},
   "source": [
    "According to `201 Tips and tricks.ipynb` there are exist two approaches to prepare the state: one was proposed by Shende, Bullock and Markov in [\"Synthesis of Quantum Logic Circuits\"](https://arxiv.org/abs/quant-ph/0406176) (2004) and another — by Iten et al. in [\"Quantum Circuits for Isometries\"](https://arxiv.org/abs/1501.06911) (2020). For more details please refer to correspondent notebook and original papers.\n",
    "\n",
    "This notebook concerns comparison of these two methods in terms of how close obtained states are to the desired vector. For someone who knows quantum programming inside out, the answer might appear trivial. Nevertheless, let's give it a try."
   ]
  },
  {
   "cell_type": "markdown",
   "id": "4f8f1f7b",
   "metadata": {},
   "source": [
    "### 0. Prerequisites"
   ]
  },
  {
   "cell_type": "code",
   "execution_count": 1,
   "id": "78bb8e79",
   "metadata": {},
   "outputs": [],
   "source": [
    "import math\n",
    "import numpy as np\n",
    "\n",
    "from qiskit import QuantumCircuit, BasicAer, execute, transpile, IBMQ\n",
    "from scipy.stats import wasserstein_distance as ws\n",
    "from numpy import dot\n",
    "from numpy.linalg import norm\n",
    "\n",
    "IBMQ.load_account()\n",
    "\n",
    "import warnings\n",
    "warnings.filterwarnings(\"ignore\")"
   ]
  },
  {
   "cell_type": "markdown",
   "id": "4bcc410a",
   "metadata": {},
   "source": [
    "### 1. Metrics"
   ]
  },
  {
   "cell_type": "markdown",
   "id": "7a3c2084",
   "metadata": {},
   "source": [
    "Let's construct a class that will examine how emperical distribution is close to an input vector. Since, we operate with a arrays of numbers of a fixed length, we can consider them both as distributions and as vectors. Methods will be assessed in terms of [mean-absolute error](https://en.wikipedia.org/wiki/Mean_absolute_error), [Wasserstein metric](https://en.wikipedia.org/wiki/Wasserstein_metric) — minimal amount of work to transform one distribution into another, and [cosine similarity](https://en.wikipedia.org/wiki/Cosine_similarity) — measure of how orientation and direction of vectors is closed."
   ]
  },
  {
   "cell_type": "code",
   "execution_count": 2,
   "id": "ca374bbe",
   "metadata": {},
   "outputs": [],
   "source": [
    "class Metrics:\n",
    "    \n",
    "    def __init__(self):\n",
    "        self.metrics_available = [\"mae\", \"wasserstein\", \"cosine_similarity\"]\n",
    "    \n",
    "    def compute(self, data, dist):\n",
    "        metrics = dict(\n",
    "            mae = np.abs(data - dist).mean(),\n",
    "            wasserstein = ws(data, dist),\n",
    "            cosine_similarity = np.dot(data, dist) / (np.linalg.norm(data) * np.linalg.norm(dist))\n",
    "        )\n",
    "        return metrics"
   ]
  },
  {
   "cell_type": "markdown",
   "id": "00609ce6",
   "metadata": {},
   "source": [
    "### 2. Bakends"
   ]
  },
  {
   "cell_type": "markdown",
   "id": "6c7477ee",
   "metadata": {},
   "source": [
    "Experiments will be conducted both in simulation and on QPU. Thus, it makes sense to create a separate class that \"unifies\" creation of new backend objects."
   ]
  },
  {
   "cell_type": "code",
   "execution_count": 3,
   "id": "3e16c2c7",
   "metadata": {},
   "outputs": [],
   "source": [
    "class BackendFactory:\n",
    "    \n",
    "    def __init__(self):\n",
    "        pass\n",
    "    \n",
    "    def get_new(self):\n",
    "        pass\n",
    "    \n",
    "    def __str__(self):\n",
    "        pass"
   ]
  },
  {
   "cell_type": "code",
   "execution_count": 4,
   "id": "62ad9db3",
   "metadata": {},
   "outputs": [],
   "source": [
    "class QASMSimulatorFactory(BackendFactory):\n",
    "    \n",
    "    def __init__(self):\n",
    "        super().__init__()\n",
    "        pass\n",
    "    \n",
    "    def get_new(self):\n",
    "        return BasicAer.get_backend('qasm_simulator')\n",
    "    \n",
    "    def __str__(self):\n",
    "        return 'qasm_simulator'"
   ]
  },
  {
   "cell_type": "code",
   "execution_count": 5,
   "id": "1d6543a4",
   "metadata": {},
   "outputs": [],
   "source": [
    "class IBMQpuFactory(BackendFactory):\n",
    "    \n",
    "    def __init__(self, name=\"ibmq_belem\"):\n",
    "        super().__init__()\n",
    "        self.provider = IBMQ.get_provider('ibm-q')\n",
    "        self.name = name\n",
    "    \n",
    "    def get_new(self):\n",
    "        return self.provider.get_backend(self.name)\n",
    "    \n",
    "    def __str__(self):\n",
    "        return f'ibm-q {self.name}'"
   ]
  },
  {
   "cell_type": "code",
   "execution_count": 6,
   "id": "69625023",
   "metadata": {},
   "outputs": [
    {
     "name": "stdout",
     "output_type": "stream",
     "text": [
      "ibmq_qasm_simulator\t is online=True\twith a queue=0\n",
      "ibmq_lima\t is online=True\twith a queue=369\n",
      "ibmq_belem\t is online=True\twith a queue=193\n",
      "ibmq_quito\t is online=True\twith a queue=162\n",
      "simulator_statevector\t is online=True\twith a queue=0\n",
      "simulator_mps\t is online=True\twith a queue=0\n",
      "simulator_extended_stabilizer\t is online=True\twith a queue=0\n",
      "simulator_stabilizer\t is online=True\twith a queue=0\n",
      "ibmq_manila\t is online=True\twith a queue=169\n",
      "ibm_nairobi\t is online=True\twith a queue=517\n",
      "ibm_oslo\t is online=True\twith a queue=272\n"
     ]
    }
   ],
   "source": [
    "provider = IBMQ.get_provider('ibm-q')\n",
    "available_cloud_backends = provider.backends() \n",
    "for backend in available_cloud_backends:\n",
    "    status = backend.status()\n",
    "    is_operational = status.operational\n",
    "    jobs_in_queue = status.pending_jobs\n",
    "    print(f\"{backend}\\t is online={is_operational}\\twith a queue={jobs_in_queue}\")"
   ]
  },
  {
   "cell_type": "markdown",
   "id": "e4c34450",
   "metadata": {},
   "source": [
    "### 3. Design single experiment"
   ]
  },
  {
   "cell_type": "markdown",
   "id": "a15288f7",
   "metadata": {},
   "source": [
    "Our experiment consists of several stages: \n",
    "1. Prepare a random vector o size n\n",
    "2. Create two quantum circuits with `.initialize()` and `.isometry()` methods\n",
    "3. Execute quantum circuits\n",
    "4. Measure the resultant distribution\n",
    "5. Assess how close is this distribution to the desired one"
   ]
  },
  {
   "cell_type": "code",
   "execution_count": 7,
   "id": "5a7e4873",
   "metadata": {},
   "outputs": [],
   "source": [
    "class Experiment:\n",
    "    \n",
    "    def __init__(self, backend_factory, n_qubits=4, shots=65535):\n",
    "        self.backend_factory = backend_factory\n",
    "        self.n = n_qubits\n",
    "        self.vector_size = 2 ** n_qubits\n",
    "        self.shots = shots\n",
    "        self.metrics = Metrics()\n",
    "        \n",
    "    def run(self):\n",
    "        data = self.__get_random_vector()\n",
    "        \n",
    "        init_qc = self.__prepare_initialize_circuit(data)\n",
    "        isom_qc = self.__prepare_isometry_circuit(data)\n",
    "\n",
    "        result = dict(\n",
    "            initialize = self.__apply(init_qc, data, self.shots),\n",
    "            isometry = self.__apply(isom_qc, data, self.shots)\n",
    "        )\n",
    "        return result\n",
    "    \n",
    "    def __prepare_initialize_circuit(self, data):\n",
    "        n = self.n\n",
    "        range_n = range(n)\n",
    "        qc = QuantumCircuit(n, n)\n",
    "        qc.initialize(data)\n",
    "        qc.measure(range_n, range_n)\n",
    "        return qc\n",
    "    \n",
    "    def __prepare_isometry_circuit(self, data):\n",
    "        n = self.n\n",
    "        range_n = range(n)\n",
    "        qc = QuantumCircuit(n, n)\n",
    "        qc.isometry(data, list(range_n), None)\n",
    "        qc.measure(range_n, range_n)\n",
    "        return qc\n",
    "    \n",
    "    def __apply(self, qc, data, shots):\n",
    "        backend = self.backend_factory.get_new()\n",
    "        qc = transpile(qc, backend)\n",
    "        counts = execute(qc, backend, shots=shots).result().get_counts()\n",
    "        dist = self.__get_dist(counts)\n",
    "        metrics = self.metrics.compute(data, dist)\n",
    "        return metrics\n",
    "    \n",
    "    def __get_dist(self, counts):\n",
    "        dist = [0. for i in range(self.vector_size)]\n",
    "        for a, b in sorted(list(counts.items())):\n",
    "            dist[int(a, 2)] = b\n",
    "        dist = np.array(dist)\n",
    "        dist = dist / np.linalg.norm(dist)\n",
    "        return dist\n",
    "        \n",
    "    def __get_random_vector(self):\n",
    "        a = np.random.rand(self.vector_size)\n",
    "        a = a / np.linalg.norm(a)\n",
    "        return a"
   ]
  },
  {
   "cell_type": "code",
   "execution_count": 8,
   "id": "4b34b3ac",
   "metadata": {},
   "outputs": [],
   "source": [
    "experiment_sim = Experiment(\n",
    "    backend_factory=QASMSimulatorFactory(),\n",
    "    n_qubits=4, \n",
    "    shots=10000\n",
    ")"
   ]
  },
  {
   "cell_type": "markdown",
   "id": "f51b3a61",
   "metadata": {},
   "source": [
    "Let's run experiments both in simulator and QPU for sanity checking."
   ]
  },
  {
   "cell_type": "code",
   "execution_count": 9,
   "id": "3ceebd62",
   "metadata": {},
   "outputs": [
    {
     "data": {
      "text/plain": [
       "{'initialize': {'mae': 0.03305844983960471,\n",
       "  'wasserstein': 0.03266759566687652,\n",
       "  'cosine_similarity': 0.9874957555738519},\n",
       " 'isometry': {'mae': 0.03630205271243242,\n",
       "  'wasserstein': 0.03630205271243242,\n",
       "  'cosine_similarity': 0.9856269918858531}}"
      ]
     },
     "execution_count": 9,
     "metadata": {},
     "output_type": "execute_result"
    }
   ],
   "source": [
    "experiment_sim.run()"
   ]
  },
  {
   "cell_type": "code",
   "execution_count": 10,
   "id": "652fea52",
   "metadata": {},
   "outputs": [],
   "source": [
    "experiment_ibm = Experiment(\n",
    "    backend_factory=IBMQpuFactory(),\n",
    "    n_qubits=4, \n",
    "    shots=20000 # max. number of shots for ibm-q\n",
    ")"
   ]
  },
  {
   "cell_type": "code",
   "execution_count": 11,
   "id": "041e06d9",
   "metadata": {},
   "outputs": [
    {
     "data": {
      "text/plain": [
       "{'initialize': {'mae': 0.03302659681928792,\n",
       "  'wasserstein': 0.028287252058731387,\n",
       "  'cosine_similarity': 0.9820865188416839},\n",
       " 'isometry': {'mae': 0.06614933643196075,\n",
       "  'wasserstein': 0.06120029739837004,\n",
       "  'cosine_similarity': 0.9565363554096502}}"
      ]
     },
     "execution_count": 11,
     "metadata": {},
     "output_type": "execute_result"
    }
   ],
   "source": [
    "experiment_ibm.run()"
   ]
  },
  {
   "cell_type": "markdown",
   "id": "9ee83b6c",
   "metadata": {},
   "source": [
    "### 4. Analyse multiple experiments"
   ]
  },
  {
   "cell_type": "markdown",
   "id": "a37d2f5c",
   "metadata": {},
   "source": [
    "Processes in quantum computations are stochastic. So, in order to draw any conclusions, we should (at least try to) conduct multiple experiments. Frankly speaking, we might want to run experiments until the vector averaged over all iterations converges. Bad thing is that I don't have my own QPU yet :( , so we will wait a lot in a queue. Also, this approach inherit problems with floating-point arithmetic. Therefore, we will only focus on number of iterations (=experiments)."
   ]
  },
  {
   "cell_type": "code",
   "execution_count": 15,
   "id": "2282448d",
   "metadata": {},
   "outputs": [],
   "source": [
    "class Inspector:\n",
    "    \n",
    "    def __init__(self, backend_factory, n_qubits=4, shots=65535, iterations=100):\n",
    "        self.backend_factory = backend_factory\n",
    "        self.n_qubits = n_qubits\n",
    "        self.shots = shots\n",
    "        self.iterations = iterations\n",
    "        self.metrics_available = Metrics().metrics_available\n",
    "    \n",
    "    def run(self):\n",
    "        metrics_dict_init = {m: list() for m in self.metrics_available}\n",
    "        metrics_dict_isom = {m: list() for m in self.metrics_available}\n",
    "        for i in range(self.iterations):\n",
    "            print(i)\n",
    "            e = Experiment(\n",
    "                backend_factory=self.backend_factory,\n",
    "                n_qubits=self.n_qubits,\n",
    "                shots=self.shots\n",
    "            )\n",
    "            e = e.run()\n",
    "            \n",
    "            for m, v in e[\"initialize\"].items():\n",
    "                metrics_dict_init[m].append(v)\n",
    "                \n",
    "            for m, v in e[\"isometry\"].items():\n",
    "                metrics_dict_isom[m].append(v)\n",
    "        \n",
    "        print(f\"Backend: {self.backend_factory}\")\n",
    "        \n",
    "        print(\"  'qc.initialise':\")\n",
    "        for m, v in metrics_dict_init.items():\n",
    "            v = np.array(v)\n",
    "            print(f\"\\t{m}: {v.mean():.8f} ± {v.var():.8f}\")\n",
    "        \n",
    "        print(\"  'qc.isometry':\")\n",
    "        for m, v in metrics_dict_isom.items():\n",
    "            v = np.array(v)\n",
    "            print(f\"\\t{m}: {v.mean():.8f} ± {v.var():.8f}\")\n",
    "         \n",
    "        "
   ]
  },
  {
   "cell_type": "code",
   "execution_count": 13,
   "id": "900e4759",
   "metadata": {},
   "outputs": [
    {
     "name": "stdout",
     "output_type": "stream",
     "text": [
      "Backend: qasm_simulator\n",
      "  'qc.initialise':\n",
      "\tmae: 0.03937070 ± 0.00002271\n",
      "\twasserstein: 0.03936723 ± 0.00002273\n",
      "\tcosine_similarity: 0.96855378 ± 0.00004631\n",
      "  'qc.isometry':\n",
      "\tmae: 0.03935132 ± 0.00002260\n",
      "\twasserstein: 0.03934719 ± 0.00002263\n",
      "\tcosine_similarity: 0.96855801 ± 0.00004630\n"
     ]
    }
   ],
   "source": [
    "inspector = Inspector(\n",
    "    backend_factory=QASMSimulatorFactory(),\n",
    "    n_qubits=5, \n",
    "    shots=65535, \n",
    "    iterations=1000\n",
    ")\n",
    "inspector.run()"
   ]
  },
  {
   "cell_type": "code",
   "execution_count": null,
   "id": "4ba6e79a",
   "metadata": {},
   "outputs": [
    {
     "name": "stdout",
     "output_type": "stream",
     "text": [
      "0\n"
     ]
    }
   ],
   "source": [
    "inspector = Inspector(\n",
    "    backend_factory=IBMQpuFactory(),\n",
    "    n_qubits=5, \n",
    "    shots=20000, \n",
    "    iterations=10\n",
    ")\n",
    "inspector.run()"
   ]
  },
  {
   "cell_type": "markdown",
   "id": "dfdb2ad7",
   "metadata": {},
   "source": [
    "### Discussion"
   ]
  },
  {
   "cell_type": "markdown",
   "id": "9fe6810d",
   "metadata": {},
   "source": [
    "Our results show that both methods are compatible in terms of MAE, Wasserstein metric and cosine similariy. Although, `.isometry()` gives a slightly better result. The reason is probably in the lower number of gates used and consequent beter fidelity of a state vector. \n",
    "\n",
    "Due to the fact that experiments take much time, I did not observe the relationship between number of qubits in use and metrics. Thus, I would assume that there is a linear dependency and results will be the same for lower number of qubits, albeit this is a topic for further study. "
   ]
  }
 ],
 "metadata": {
  "kernelspec": {
   "display_name": "Python 3 (ipykernel)",
   "language": "python",
   "name": "python3"
  },
  "language_info": {
   "codemirror_mode": {
    "name": "ipython",
    "version": 3
   },
   "file_extension": ".py",
   "mimetype": "text/x-python",
   "name": "python",
   "nbconvert_exporter": "python",
   "pygments_lexer": "ipython3",
   "version": "3.9.13"
  }
 },
 "nbformat": 4,
 "nbformat_minor": 5
}
