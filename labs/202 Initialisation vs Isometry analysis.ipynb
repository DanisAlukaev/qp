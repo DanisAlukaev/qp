{
 "cells": [
  {
   "cell_type": "markdown",
   "id": "b236a439",
   "metadata": {},
   "source": [
    "# Initialization vs Isometry in Qiskit"
   ]
  },
  {
   "cell_type": "markdown",
   "id": "12e3b3b8",
   "metadata": {},
   "source": [
    "According to `201 Tips and tricks.ipynb` there are exist two approaches to prepare the state: one was proposed by Shende, Bullock and Markov in [\"Synthesis of Quantum Logic Circuits\"](https://arxiv.org/abs/quant-ph/0406176) (2004) and another — by Iten et al. in [\"Quantum Circuits for Isometries\"](https://arxiv.org/abs/1501.06911) (2020). For more details please refer to correspondent notebook and original papers.\n",
    "\n",
    "This notebook concerns comparison of these two methods in terms of how close obtained states are to the desired vector. For someone who knows quantum programming inside out, the answer might appear trivial. Nevertheless, let's give it a try."
   ]
  },
  {
   "cell_type": "markdown",
   "id": "e3f79a3a",
   "metadata": {},
   "source": [
    "### 0. Prerequisites"
   ]
  },
  {
   "cell_type": "code",
   "execution_count": 1,
   "id": "30cf9e38",
   "metadata": {},
   "outputs": [],
   "source": [
    "import math\n",
    "import numpy as np\n",
    "\n",
    "from qiskit import QuantumCircuit, BasicAer, execute, transpile, IBMQ\n",
    "from scipy.stats import wasserstein_distance as ws\n",
    "from numpy import dot\n",
    "from numpy.linalg import norm\n",
    "\n",
    "IBMQ.load_account()\n",
    "\n",
    "import warnings\n",
    "warnings.filterwarnings(\"ignore\")"
   ]
  },
  {
   "cell_type": "markdown",
   "id": "1dc83d7d",
   "metadata": {},
   "source": [
    "### 1. Metrics"
   ]
  },
  {
   "cell_type": "markdown",
   "id": "1758cdad",
   "metadata": {},
   "source": [
    "Let's construct a class that will examine how emperical distribution is close to an input vector. Since, we operate with a arrays of numbers of a fixed length, we can consider them both as distributions and as vectors. Methods will be assessed in terms of [mean-absolute error](https://en.wikipedia.org/wiki/Mean_absolute_error), [Wasserstein metric](https://en.wikipedia.org/wiki/Wasserstein_metric) — minimal amount of work to transform one distribution into another, and [cosine similarity](https://en.wikipedia.org/wiki/Cosine_similarity) — measure of how orientation and direction of vectors is closed."
   ]
  },
  {
   "cell_type": "code",
   "execution_count": 2,
   "id": "a3354458",
   "metadata": {},
   "outputs": [],
   "source": [
    "class Metrics:\n",
    "    \n",
    "    def __init__(self):\n",
    "        self.metrics_available = [\"mae\", \"wasserstein\", \"cosine_similarity\"]\n",
    "    \n",
    "    def compute(self, data, dist):\n",
    "        metrics = dict(\n",
    "            mae = np.abs(data - dist).mean(),\n",
    "            wasserstein = ws(data, dist),\n",
    "            cosine_similarity = np.dot(data, dist) / (np.linalg.norm(data) * np.linalg.norm(dist))\n",
    "        )\n",
    "        return metrics"
   ]
  },
  {
   "cell_type": "markdown",
   "id": "3d3f8083",
   "metadata": {},
   "source": [
    "### 2. Bakends"
   ]
  },
  {
   "cell_type": "markdown",
   "id": "459e8278",
   "metadata": {},
   "source": [
    "Experiments will be conducted both in simulation and on QPU. Thus, it makes sense to create a separate class that \"unifies\" creation of new backend objects."
   ]
  },
  {
   "cell_type": "code",
   "execution_count": 3,
   "id": "0002e677",
   "metadata": {},
   "outputs": [],
   "source": [
    "class BackendFactory:\n",
    "    \n",
    "    def __init__(self):\n",
    "        pass\n",
    "    \n",
    "    def get_new(self):\n",
    "        pass\n",
    "    \n",
    "    def __str__(self):\n",
    "        pass"
   ]
  },
  {
   "cell_type": "code",
   "execution_count": 4,
   "id": "d77f681b",
   "metadata": {},
   "outputs": [],
   "source": [
    "class QASMSimulatorFactory(BackendFactory):\n",
    "    \n",
    "    def __init__(self):\n",
    "        super().__init__()\n",
    "        pass\n",
    "    \n",
    "    def get_new(self):\n",
    "        return BasicAer.get_backend('qasm_simulator')\n",
    "    \n",
    "    def __str__(self):\n",
    "        return 'qasm_simulator'"
   ]
  },
  {
   "cell_type": "code",
   "execution_count": 5,
   "id": "0bb55a20",
   "metadata": {},
   "outputs": [],
   "source": [
    "class IBMQpuFactory(BackendFactory):\n",
    "    \n",
    "    def __init__(self, name=\"ibmq_belem\"):\n",
    "        super().__init__()\n",
    "        self.provider = IBMQ.get_provider('ibm-q')\n",
    "        self.name = name\n",
    "    \n",
    "    def get_new(self):\n",
    "        return self.provider.get_backend(self.name)\n",
    "    \n",
    "    def __str__(self):\n",
    "        return f'ibm-q {self.name}'"
   ]
  },
  {
   "cell_type": "code",
   "execution_count": 6,
   "id": "bed9aa3a",
   "metadata": {},
   "outputs": [
    {
     "name": "stdout",
     "output_type": "stream",
     "text": [
      "ibmq_qasm_simulator\t is online=True\twith a queue=0\n",
      "ibmq_lima\t is online=True\twith a queue=360\n",
      "ibmq_belem\t is online=True\twith a queue=198\n",
      "ibmq_quito\t is online=True\twith a queue=171\n",
      "simulator_statevector\t is online=True\twith a queue=0\n",
      "simulator_mps\t is online=True\twith a queue=0\n",
      "simulator_extended_stabilizer\t is online=True\twith a queue=0\n",
      "simulator_stabilizer\t is online=True\twith a queue=0\n",
      "ibmq_manila\t is online=True\twith a queue=150\n",
      "ibm_nairobi\t is online=True\twith a queue=518\n",
      "ibm_oslo\t is online=True\twith a queue=291\n"
     ]
    }
   ],
   "source": [
    "provider = IBMQ.get_provider('ibm-q')\n",
    "available_cloud_backends = provider.backends() \n",
    "for backend in available_cloud_backends:\n",
    "    status = backend.status()\n",
    "    is_operational = status.operational\n",
    "    jobs_in_queue = status.pending_jobs\n",
    "    print(f\"{backend}\\t is online={is_operational}\\twith a queue={jobs_in_queue}\")"
   ]
  },
  {
   "cell_type": "markdown",
   "id": "7a949f9a",
   "metadata": {},
   "source": [
    "### 3. Design single experiment"
   ]
  },
  {
   "cell_type": "markdown",
   "id": "f46b211c",
   "metadata": {},
   "source": [
    "Our experiment consists of several stages: \n",
    "1. Prepare a random vector o size n\n",
    "2. Create two quantum circuits with `.initialize()` and `.isometry()` methods\n",
    "3. Execute quantum circuits\n",
    "4. Measure the resultant distribution\n",
    "5. Assess how close is this distribution to the desired one"
   ]
  },
  {
   "cell_type": "code",
   "execution_count": 7,
   "id": "3b127846",
   "metadata": {},
   "outputs": [],
   "source": [
    "class Experiment:\n",
    "    \n",
    "    def __init__(self, backend_factory, n_qubits=4, shots=65535):\n",
    "        self.backend_factory = backend_factory\n",
    "        self.n = n_qubits\n",
    "        self.vector_size = 2 ** n_qubits\n",
    "        self.shots = shots\n",
    "        self.metrics = Metrics()\n",
    "        \n",
    "    def run(self):\n",
    "        data = self.__get_random_vector()\n",
    "        \n",
    "        init_qc = self.__prepare_initialize_circuit(data)\n",
    "        isom_qc = self.__prepare_isometry_circuit(data)\n",
    "\n",
    "        result = dict(\n",
    "            initialize = self.__apply(init_qc, data, self.shots),\n",
    "            isometry = self.__apply(isom_qc, data, self.shots)\n",
    "        )\n",
    "        return result\n",
    "    \n",
    "    def __prepare_initialize_circuit(self, data):\n",
    "        n = self.n\n",
    "        range_n = range(n)\n",
    "        qc = QuantumCircuit(n, n)\n",
    "        qc.initialize(data)\n",
    "        qc.measure(range_n, range_n)\n",
    "        return qc\n",
    "    \n",
    "    def __prepare_isometry_circuit(self, data):\n",
    "        n = self.n\n",
    "        range_n = range(n)\n",
    "        qc = QuantumCircuit(n, n)\n",
    "        qc.isometry(data, list(range_n), None)\n",
    "        qc.measure(range_n, range_n)\n",
    "        return qc\n",
    "    \n",
    "    def __apply(self, qc, data, shots):\n",
    "        counts = execute(qc, self.backend_factory.get_new(), shots=shots).result().get_counts()\n",
    "        dist = self.__get_dist(counts)\n",
    "        metrics = self.metrics.compute(data, dist)\n",
    "        return metrics\n",
    "    \n",
    "    def __get_dist(self, counts):\n",
    "        dist = [0. for i in range(self.vector_size)]\n",
    "        for a, b in sorted(list(counts.items())):\n",
    "            dist[int(a, 2)] = b\n",
    "        dist = np.array(dist)\n",
    "        dist = dist / np.linalg.norm(dist)\n",
    "        return dist\n",
    "        \n",
    "    def __get_random_vector(self):\n",
    "        a = np.random.rand(self.vector_size)\n",
    "        a = a / np.linalg.norm(a)\n",
    "        return a"
   ]
  },
  {
   "cell_type": "code",
   "execution_count": 8,
   "id": "17d237d8",
   "metadata": {},
   "outputs": [],
   "source": [
    "experiment_sim = Experiment(\n",
    "    backend_factory=QASMSimulatorFactory(),\n",
    "    n_qubits=4, \n",
    "    shots=10000\n",
    ")"
   ]
  },
  {
   "cell_type": "markdown",
   "id": "2cc72870",
   "metadata": {},
   "source": [
    "Let's run experiments both in simulator and QPU for sanity checking."
   ]
  },
  {
   "cell_type": "code",
   "execution_count": 9,
   "id": "3ff06323",
   "metadata": {},
   "outputs": [
    {
     "data": {
      "text/plain": [
       "{'initialize': {'mae': 0.05024141978999702,\n",
       "  'wasserstein': 0.05024141978999702,\n",
       "  'cosine_similarity': 0.9766157888828089},\n",
       " 'isometry': {'mae': 0.04599171181240917,\n",
       "  'wasserstein': 0.04599171181240917,\n",
       "  'cosine_similarity': 0.9781958615695254}}"
      ]
     },
     "execution_count": 9,
     "metadata": {},
     "output_type": "execute_result"
    }
   ],
   "source": [
    "experiment_sim.run()"
   ]
  },
  {
   "cell_type": "code",
   "execution_count": 10,
   "id": "1c652d53",
   "metadata": {},
   "outputs": [],
   "source": [
    "experiment_ibm = Experiment(\n",
    "    backend_factory=IBMQpuFactory(),\n",
    "    n_qubits=4, \n",
    "    shots=20000 # max. number of shots for ibm-q\n",
    ")"
   ]
  },
  {
   "cell_type": "code",
   "execution_count": 11,
   "id": "0aad5ca3",
   "metadata": {},
   "outputs": [
    {
     "data": {
      "text/plain": [
       "{'initialize': {'mae': 0.10785674416916756,\n",
       "  'wasserstein': 0.043570579953931085,\n",
       "  'cosine_similarity': 0.8616847580089381},\n",
       " 'isometry': {'mae': 0.04858586104847885,\n",
       "  'wasserstein': 0.026298454958369636,\n",
       "  'cosine_similarity': 0.9647688544399704}}"
      ]
     },
     "execution_count": 11,
     "metadata": {},
     "output_type": "execute_result"
    }
   ],
   "source": [
    "experiment_ibm.run()"
   ]
  },
  {
   "cell_type": "markdown",
   "id": "42f20e13",
   "metadata": {},
   "source": [
    "### 4. Analyse multiple experiments"
   ]
  },
  {
   "cell_type": "markdown",
   "id": "51ccb7a8",
   "metadata": {},
   "source": [
    "Processes in quantum computations are stochastic. So, in order to draw any conclusions, we should (at least try to) conduct multiple experiments. Frankly speaking, we might want to run experiments until the vector averaged over all iterations converges. Bad thing is that I don't have my own QPU yet :( , so we will wait a lot in a queue. Also, this approach inherit problems with floating-point arithmetic. Therefore, we will only focus on number of iterations (=experiments)."
   ]
  },
  {
   "cell_type": "code",
   "execution_count": 12,
   "id": "24f73108",
   "metadata": {},
   "outputs": [],
   "source": [
    "class Inspector:\n",
    "    \n",
    "    def __init__(self, backend_factory, n_qubits=4, shots=65535, iterations=100):\n",
    "        self.backend_factory = backend_factory\n",
    "        self.n_qubits = n_qubits\n",
    "        self.shots = shots\n",
    "        self.iterations = iterations\n",
    "        self.metrics_available = Metrics().metrics_available\n",
    "    \n",
    "    def run(self):\n",
    "        metrics_dict_init = {m: list() for m in self.metrics_available}\n",
    "        metrics_dict_isom = {m: list() for m in self.metrics_available}\n",
    "        for i in range(self.iterations):\n",
    "            e = Experiment(\n",
    "                backend_factory=self.backend_factory,\n",
    "                n_qubits=self.n_qubits,\n",
    "                shots=self.shots\n",
    "            )\n",
    "            e = e.run()\n",
    "            \n",
    "            for m, v in e[\"initialize\"].items():\n",
    "                metrics_dict_init[m].append(v)\n",
    "                \n",
    "            for m, v in e[\"isometry\"].items():\n",
    "                metrics_dict_isom[m].append(v)\n",
    "        \n",
    "        print(f\"Backend: {self.backend_factory}\")\n",
    "        \n",
    "        print(\"  'qc.initialise':\")\n",
    "        for m, v in metrics_dict_init.items():\n",
    "            v = np.array(v)\n",
    "            print(f\"\\t{m}: {v.mean():.8f} ± {v.var():.8f}\")\n",
    "        \n",
    "        print(\"  'qc.isometry':\")\n",
    "        for m, v in metrics_dict_isom.items():\n",
    "            v = np.array(v)\n",
    "            print(f\"\\t{m}: {v.mean():.8f} ± {v.var():.8f}\")\n",
    "         \n",
    "        "
   ]
  },
  {
   "cell_type": "code",
   "execution_count": 13,
   "id": "086c4033",
   "metadata": {},
   "outputs": [
    {
     "name": "stdout",
     "output_type": "stream",
     "text": [
      "Backend: qasm_simulator\n",
      "  'qc.initialise':\n",
      "\tmae: 0.03956551 ± 0.00002130\n",
      "\twasserstein: 0.03956195 ± 0.00002133\n",
      "\tcosine_similarity: 0.96828348 ± 0.00004409\n",
      "  'qc.isometry':\n",
      "\tmae: 0.03954220 ± 0.00002130\n",
      "\twasserstein: 0.03953925 ± 0.00002132\n",
      "\tcosine_similarity: 0.96830941 ± 0.00004432\n"
     ]
    }
   ],
   "source": [
    "inspector = Inspector(\n",
    "    backend_factory=QASMSimulatorFactory(),\n",
    "    n_qubits=5, \n",
    "    shots=65535, \n",
    "    iterations=1000\n",
    ")\n",
    "inspector.run()"
   ]
  },
  {
   "cell_type": "code",
   "execution_count": 14,
   "id": "8ec22ac6",
   "metadata": {},
   "outputs": [
    {
     "ename": "IBMQJobFailureError",
     "evalue": "'Unable to retrieve result for job 633f2d96e212b0083bbeee11. Job has failed: Instruction not in basis gates: instruction: cx, qubits: [3, 4], params: []. Error code: 7000.'",
     "output_type": "error",
     "traceback": [
      "\u001b[0;31m---------------------------------------------------------------------------\u001b[0m",
      "\u001b[0;31mIBMQJobFailureError\u001b[0m                       Traceback (most recent call last)",
      "Cell \u001b[0;32mIn [14], line 7\u001b[0m\n\u001b[1;32m      1\u001b[0m inspector \u001b[38;5;241m=\u001b[39m Inspector(\n\u001b[1;32m      2\u001b[0m     backend_factory\u001b[38;5;241m=\u001b[39mIBMQpuFactory(),\n\u001b[1;32m      3\u001b[0m     n_qubits\u001b[38;5;241m=\u001b[39m\u001b[38;5;241m5\u001b[39m, \n\u001b[1;32m      4\u001b[0m     shots\u001b[38;5;241m=\u001b[39m\u001b[38;5;241m20000\u001b[39m, \n\u001b[1;32m      5\u001b[0m     iterations\u001b[38;5;241m=\u001b[39m\u001b[38;5;241m10\u001b[39m\n\u001b[1;32m      6\u001b[0m )\n\u001b[0;32m----> 7\u001b[0m \u001b[43minspector\u001b[49m\u001b[38;5;241;43m.\u001b[39;49m\u001b[43mrun\u001b[49m\u001b[43m(\u001b[49m\u001b[43m)\u001b[49m\n",
      "Cell \u001b[0;32mIn [12], line 19\u001b[0m, in \u001b[0;36mInspector.run\u001b[0;34m(self)\u001b[0m\n\u001b[1;32m     13\u001b[0m \u001b[38;5;28;01mfor\u001b[39;00m i \u001b[38;5;129;01min\u001b[39;00m \u001b[38;5;28mrange\u001b[39m(\u001b[38;5;28mself\u001b[39m\u001b[38;5;241m.\u001b[39miterations):\n\u001b[1;32m     14\u001b[0m     e \u001b[38;5;241m=\u001b[39m Experiment(\n\u001b[1;32m     15\u001b[0m         backend_factory\u001b[38;5;241m=\u001b[39m\u001b[38;5;28mself\u001b[39m\u001b[38;5;241m.\u001b[39mbackend_factory,\n\u001b[1;32m     16\u001b[0m         n_qubits\u001b[38;5;241m=\u001b[39m\u001b[38;5;28mself\u001b[39m\u001b[38;5;241m.\u001b[39mn_qubits,\n\u001b[1;32m     17\u001b[0m         shots\u001b[38;5;241m=\u001b[39m\u001b[38;5;28mself\u001b[39m\u001b[38;5;241m.\u001b[39mshots\n\u001b[1;32m     18\u001b[0m     )\n\u001b[0;32m---> 19\u001b[0m     e \u001b[38;5;241m=\u001b[39m \u001b[43me\u001b[49m\u001b[38;5;241;43m.\u001b[39;49m\u001b[43mrun\u001b[49m\u001b[43m(\u001b[49m\u001b[43m)\u001b[49m\n\u001b[1;32m     21\u001b[0m     \u001b[38;5;28;01mfor\u001b[39;00m m, v \u001b[38;5;129;01min\u001b[39;00m e[\u001b[38;5;124m\"\u001b[39m\u001b[38;5;124minitialize\u001b[39m\u001b[38;5;124m\"\u001b[39m]\u001b[38;5;241m.\u001b[39mitems():\n\u001b[1;32m     22\u001b[0m         metrics_dict_init[m]\u001b[38;5;241m.\u001b[39mappend(v)\n",
      "Cell \u001b[0;32mIn [7], line 17\u001b[0m, in \u001b[0;36mExperiment.run\u001b[0;34m(self)\u001b[0m\n\u001b[1;32m     13\u001b[0m init_qc \u001b[38;5;241m=\u001b[39m \u001b[38;5;28mself\u001b[39m\u001b[38;5;241m.\u001b[39m__prepare_initialize_circuit(data)\n\u001b[1;32m     14\u001b[0m isom_qc \u001b[38;5;241m=\u001b[39m \u001b[38;5;28mself\u001b[39m\u001b[38;5;241m.\u001b[39m__prepare_isometry_circuit(data)\n\u001b[1;32m     16\u001b[0m result \u001b[38;5;241m=\u001b[39m \u001b[38;5;28mdict\u001b[39m(\n\u001b[0;32m---> 17\u001b[0m     initialize \u001b[38;5;241m=\u001b[39m \u001b[38;5;28;43mself\u001b[39;49m\u001b[38;5;241;43m.\u001b[39;49m\u001b[43m__apply\u001b[49m\u001b[43m(\u001b[49m\u001b[43minit_qc\u001b[49m\u001b[43m,\u001b[49m\u001b[43m \u001b[49m\u001b[43mdata\u001b[49m\u001b[43m,\u001b[49m\u001b[43m \u001b[49m\u001b[38;5;28;43mself\u001b[39;49m\u001b[38;5;241;43m.\u001b[39;49m\u001b[43mshots\u001b[49m\u001b[43m)\u001b[49m,\n\u001b[1;32m     18\u001b[0m     isometry \u001b[38;5;241m=\u001b[39m \u001b[38;5;28mself\u001b[39m\u001b[38;5;241m.\u001b[39m__apply(isom_qc, data, \u001b[38;5;28mself\u001b[39m\u001b[38;5;241m.\u001b[39mshots)\n\u001b[1;32m     19\u001b[0m )\n\u001b[1;32m     20\u001b[0m \u001b[38;5;28;01mreturn\u001b[39;00m result\n",
      "Cell \u001b[0;32mIn [7], line 39\u001b[0m, in \u001b[0;36mExperiment.__apply\u001b[0;34m(self, qc, data, shots)\u001b[0m\n\u001b[1;32m     38\u001b[0m \u001b[38;5;28;01mdef\u001b[39;00m \u001b[38;5;21m__apply\u001b[39m(\u001b[38;5;28mself\u001b[39m, qc, data, shots):\n\u001b[0;32m---> 39\u001b[0m     counts \u001b[38;5;241m=\u001b[39m \u001b[43mexecute\u001b[49m\u001b[43m(\u001b[49m\u001b[43mqc\u001b[49m\u001b[43m,\u001b[49m\u001b[43m \u001b[49m\u001b[38;5;28;43mself\u001b[39;49m\u001b[38;5;241;43m.\u001b[39;49m\u001b[43mbackend_factory\u001b[49m\u001b[38;5;241;43m.\u001b[39;49m\u001b[43mget_new\u001b[49m\u001b[43m(\u001b[49m\u001b[43m)\u001b[49m\u001b[43m,\u001b[49m\u001b[43m \u001b[49m\u001b[43mshots\u001b[49m\u001b[38;5;241;43m=\u001b[39;49m\u001b[43mshots\u001b[49m\u001b[43m)\u001b[49m\u001b[38;5;241;43m.\u001b[39;49m\u001b[43mresult\u001b[49m\u001b[43m(\u001b[49m\u001b[43m)\u001b[49m\u001b[38;5;241m.\u001b[39mget_counts()\n\u001b[1;32m     40\u001b[0m     dist \u001b[38;5;241m=\u001b[39m \u001b[38;5;28mself\u001b[39m\u001b[38;5;241m.\u001b[39m__get_dist(counts)\n\u001b[1;32m     41\u001b[0m     metrics \u001b[38;5;241m=\u001b[39m \u001b[38;5;28mself\u001b[39m\u001b[38;5;241m.\u001b[39mmetrics\u001b[38;5;241m.\u001b[39mcompute(data, dist)\n",
      "File \u001b[0;32m/opt/homebrew/Caskroom/miniforge/base/envs/quantum/lib/python3.9/site-packages/qiskit/providers/ibmq/job/ibmqjob.py:290\u001b[0m, in \u001b[0;36mIBMQJob.result\u001b[0;34m(self, timeout, wait, partial, refresh)\u001b[0m\n\u001b[1;32m    288\u001b[0m         \u001b[38;5;28;01melse\u001b[39;00m:\n\u001b[1;32m    289\u001b[0m             error_message \u001b[38;5;241m=\u001b[39m \u001b[38;5;124m\"\u001b[39m\u001b[38;5;124m: \u001b[39m\u001b[38;5;124m\"\u001b[39m \u001b[38;5;241m+\u001b[39m error_message\n\u001b[0;32m--> 290\u001b[0m         \u001b[38;5;28;01mraise\u001b[39;00m IBMQJobFailureError(\n\u001b[1;32m    291\u001b[0m             \u001b[38;5;124m'\u001b[39m\u001b[38;5;124mUnable to retrieve result for job \u001b[39m\u001b[38;5;132;01m{}\u001b[39;00m\u001b[38;5;124m. Job has failed\u001b[39m\u001b[38;5;132;01m{}\u001b[39;00m\u001b[38;5;124m'\u001b[39m\u001b[38;5;241m.\u001b[39mformat(\n\u001b[1;32m    292\u001b[0m                 \u001b[38;5;28mself\u001b[39m\u001b[38;5;241m.\u001b[39mjob_id(), error_message))\n\u001b[1;32m    293\u001b[0m \u001b[38;5;28;01melse\u001b[39;00m:\n\u001b[1;32m    294\u001b[0m     \u001b[38;5;28mself\u001b[39m\u001b[38;5;241m.\u001b[39m_retrieve_result(refresh\u001b[38;5;241m=\u001b[39mrefresh)\n",
      "\u001b[0;31mIBMQJobFailureError\u001b[0m: 'Unable to retrieve result for job 633f2d96e212b0083bbeee11. Job has failed: Instruction not in basis gates: instruction: cx, qubits: [3, 4], params: []. Error code: 7000.'"
     ]
    }
   ],
   "source": [
    "inspector = Inspector(\n",
    "    backend_factory=IBMQpuFactory(),\n",
    "    n_qubits=5, \n",
    "    shots=20000, \n",
    "    iterations=10\n",
    ")\n",
    "inspector.run()"
   ]
  },
  {
   "cell_type": "markdown",
   "id": "dd8753ee",
   "metadata": {},
   "source": [
    "### Discussion"
   ]
  },
  {
   "cell_type": "markdown",
   "id": "96a2917e",
   "metadata": {},
   "source": [
    "Our results show that both methods are compatible in terms of MAE, Wasserstein metric and cosine similariy. Although, `.isometry()` gives a slightly better result. The reason is probably in the lower number of gates used and consequent beter fidelity of a state vector."
   ]
  }
 ],
 "metadata": {
  "kernelspec": {
   "display_name": "Python 3 (ipykernel)",
   "language": "python",
   "name": "python3"
  },
  "language_info": {
   "codemirror_mode": {
    "name": "ipython",
    "version": 3
   },
   "file_extension": ".py",
   "mimetype": "text/x-python",
   "name": "python",
   "nbconvert_exporter": "python",
   "pygments_lexer": "ipython3",
   "version": "3.9.13"
  }
 },
 "nbformat": 4,
 "nbformat_minor": 5
}
