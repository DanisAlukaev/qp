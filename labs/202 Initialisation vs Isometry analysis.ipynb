{
 "cells": [
  {
   "cell_type": "markdown",
   "id": "a5dd0c63",
   "metadata": {},
   "source": [
    "# Initialization vs Isometry in Qiskit"
   ]
  },
  {
   "cell_type": "markdown",
   "id": "b3b6c287",
   "metadata": {},
   "source": [
    "According to `201 Tips and tricks.ipynb` there are exist two approaches to prepare the state: one was proposed by Shende, Bullock and Markov in [\"Synthesis of Quantum Logic Circuits\"](https://arxiv.org/abs/quant-ph/0406176) (2004) and another — by Iten et al. in [\"Quantum Circuits for Isometries\"](https://arxiv.org/abs/1501.06911) (2020). For more details please refer to correspondent notebook and original papers.\n",
    "\n",
    "This notebook concerns comparison of these two methods in terms of how close obtained states are to the desired vector. For someone who knows quantum programming inside out, the answer might appear trivial, but not for me..."
   ]
  },
  {
   "cell_type": "markdown",
   "id": "8f6cc06d",
   "metadata": {},
   "source": [
    "### Prerequisites"
   ]
  },
  {
   "cell_type": "code",
   "execution_count": 1,
   "id": "9c7a4e57",
   "metadata": {},
   "outputs": [],
   "source": [
    "import math\n",
    "import numpy as np\n",
    "from qiskit import QuantumCircuit, BasicAer, execute, transpile\n",
    "from scipy.stats import wasserstein_distance as ws"
   ]
  },
  {
   "cell_type": "code",
   "execution_count": 2,
   "id": "501d94bb",
   "metadata": {},
   "outputs": [],
   "source": [
    "class Experiment:\n",
    "    \n",
    "    def __init__(self, vector_size=16):\n",
    "        message = \"Vector size should be power of 2\"\n",
    "        assert (vector_size & (vector_size-1) == 0) and vector_size != 0, message\n",
    "        \n",
    "        self.vector_size = vector_size\n",
    "        self.n = math.ceil(math.log(self.vector_size, 2))\n",
    "        \n",
    "    def run(self, shots=10000):\n",
    "        data = self.__get_random_vector()\n",
    "        init_dict = self.__apply_initalize(data, shots)\n",
    "        \n",
    "        result = dict(\n",
    "            init = init_dict,\n",
    "        )\n",
    "        return result\n",
    "    \n",
    "    def __apply_initalize(self, data, shots):\n",
    "        n = self.n\n",
    "        qc = QuantumCircuit(n, n)\n",
    "        qc.initialize(data)\n",
    "        qc.measure(range(n), range(n))\n",
    "        \n",
    "        counts = execute(qc, BasicAer.get_backend('qasm_simulator'), shots=shots).result().get_counts()\n",
    "        # TODO: sometimes number of elements there is less than vector_size (pad)\n",
    "        dist = np.array([b for a,b in sorted(list(counts.items()), key = lambda x: x[0])]) \n",
    "        dist = dist / np.linalg.norm(dist)\n",
    "        \n",
    "        metrics = dict(\n",
    "            mse = np.square(data - dist).mean(),\n",
    "            ws = ws(data, dist)\n",
    "        )\n",
    "        return metrics\n",
    "        \n",
    "    \n",
    "    def __get_random_vector(self):\n",
    "        a = np.random.rand(self.vector_size)\n",
    "        a = a / np.linalg.norm(a)\n",
    "        return a"
   ]
  },
  {
   "cell_type": "code",
   "execution_count": 3,
   "id": "3b3a3ee7",
   "metadata": {},
   "outputs": [],
   "source": [
    "experiment = Experiment(32)"
   ]
  },
  {
   "cell_type": "code",
   "execution_count": 4,
   "id": "4bc23cd7",
   "metadata": {},
   "outputs": [
    {
     "data": {
      "text/plain": [
       "{'init': {'mse': 0.0016230030811164708, 'ws': 0.03584424375870574}}"
      ]
     },
     "execution_count": 4,
     "metadata": {},
     "output_type": "execute_result"
    }
   ],
   "source": [
    "experiment.run()"
   ]
  }
 ],
 "metadata": {
  "kernelspec": {
   "display_name": "Python 3 (ipykernel)",
   "language": "python",
   "name": "python3"
  },
  "language_info": {
   "codemirror_mode": {
    "name": "ipython",
    "version": 3
   },
   "file_extension": ".py",
   "mimetype": "text/x-python",
   "name": "python",
   "nbconvert_exporter": "python",
   "pygments_lexer": "ipython3",
   "version": "3.9.13"
  }
 },
 "nbformat": 4,
 "nbformat_minor": 5
}
