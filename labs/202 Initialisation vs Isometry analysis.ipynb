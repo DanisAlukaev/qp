{
 "cells": [
  {
   "cell_type": "markdown",
   "id": "1be88acf",
   "metadata": {},
   "source": [
    "# Initialization vs Isometry in Qiskit"
   ]
  },
  {
   "cell_type": "markdown",
   "id": "e9ca2af1",
   "metadata": {},
   "source": [
    "According to `201 Tips and tricks.ipynb` there are exist two approaches to prepare the state: one was proposed by Shende, Bullock and Markov in [\"Synthesis of Quantum Logic Circuits\"](https://arxiv.org/abs/quant-ph/0406176) (2004) and another — by Iten et al. in [\"Quantum Circuits for Isometries\"](https://arxiv.org/abs/1501.06911) (2020). For more details please refer to correspondent notebook and original papers.\n",
    "\n",
    "This notebook concerns comparison of these two methods in terms of how close obtained states are to the desired vector. For someone who knows quantum programming inside out, the answer might appear trivial, but not for me..."
   ]
  },
  {
   "cell_type": "markdown",
   "id": "baa0112b",
   "metadata": {},
   "source": [
    "### Prerequisites"
   ]
  },
  {
   "cell_type": "code",
   "execution_count": 1,
   "id": "db4ad7af",
   "metadata": {},
   "outputs": [],
   "source": [
    "import math\n",
    "import numpy as np\n",
    "\n",
    "from qiskit import QuantumCircuit, BasicAer, execute, transpile\n",
    "from scipy.stats import wasserstein_distance as ws\n",
    "from numpy import dot\n",
    "from numpy.linalg import norm\n",
    "\n",
    "import warnings\n",
    "warnings.filterwarnings(\"ignore\")"
   ]
  },
  {
   "cell_type": "code",
   "execution_count": 2,
   "id": "be968bfb",
   "metadata": {},
   "outputs": [],
   "source": [
    "class Metrics:\n",
    "    \n",
    "    def __init__(self):\n",
    "        self.metrics_available = [\"mse\", \"weierstrass\", \"cosine_similarity\"]\n",
    "    \n",
    "    def compute(self, data, dist):\n",
    "        metrics = dict(\n",
    "            mse = np.square(data - dist).mean(),\n",
    "            weierstrass = ws(data, dist),\n",
    "            cosine_similarity = np.dot(data, dist) / (np.linalg.norm(data) * np.linalg.norm(dist))\n",
    "        )\n",
    "        return metrics"
   ]
  },
  {
   "cell_type": "code",
   "execution_count": 3,
   "id": "3ca98b02",
   "metadata": {},
   "outputs": [],
   "source": [
    "class Experiment:\n",
    "    \n",
    "    def __init__(self, n_qubits=4, shots=65535):\n",
    "        self.vector_size = 2 ** n_qubits\n",
    "        self.n = n_qubits\n",
    "        self.shots = shots\n",
    "        self.metrics = Metrics()\n",
    "        \n",
    "    def run(self):\n",
    "        data = self.__get_random_vector()\n",
    "        \n",
    "        init_qc = self.__prepare_initialize_circuit(data)\n",
    "        isom_qc = self.__prepare_isometry_circuit(data)\n",
    "\n",
    "        result = dict(\n",
    "            initialize = self.__apply(init_qc, data, self.shots),\n",
    "            isometry = self.__apply(isom_qc, data, self.shots)\n",
    "        )\n",
    "        return result\n",
    "    \n",
    "    def __prepare_initialize_circuit(self, data):\n",
    "        n = self.n\n",
    "        range_n = range(n)\n",
    "        qc = QuantumCircuit(n, n)\n",
    "        qc.initialize(data)\n",
    "        qc.measure(range_n, range_n)\n",
    "        return qc\n",
    "    \n",
    "    def __prepare_isometry_circuit(self, data):\n",
    "        n = self.n\n",
    "        range_n = range(n)\n",
    "        qc = QuantumCircuit(n, n)\n",
    "        qc.isometry(data, list(range_n), None)\n",
    "        qc.measure(range_n, range_n)\n",
    "        return qc\n",
    "    \n",
    "    def __apply(self, qc, data, shots):\n",
    "        counts = execute(qc, BasicAer.get_backend('qasm_simulator'), shots=shots).result().get_counts()\n",
    "        dist = self.__get_dist(counts)\n",
    "        metrics = self.metrics.compute(data, dist)\n",
    "        return metrics\n",
    "    \n",
    "    def __get_dist(self, counts):\n",
    "        dist = [0. for i in range(self.vector_size)]\n",
    "        for a, b in sorted(list(counts.items())):\n",
    "            dist[int(a, 2)] = b\n",
    "        dist = np.array(dist)\n",
    "        dist = dist / np.linalg.norm(dist)\n",
    "        return dist\n",
    "        \n",
    "    def __get_random_vector(self):\n",
    "        a = np.random.rand(self.vector_size)\n",
    "        a = a / np.linalg.norm(a)\n",
    "        return a"
   ]
  },
  {
   "cell_type": "code",
   "execution_count": 4,
   "id": "a1003981",
   "metadata": {},
   "outputs": [],
   "source": [
    "experiment = Experiment(\n",
    "    n_qubits=4, \n",
    "    shots=10000\n",
    ")"
   ]
  },
  {
   "cell_type": "code",
   "execution_count": 5,
   "id": "3925059e",
   "metadata": {},
   "outputs": [
    {
     "data": {
      "text/plain": [
       "{'initialize': {'mse': 0.0061798472912882475,\n",
       "  'weierstrass': 0.07025012693434898,\n",
       "  'cosine_similarity': 0.950561221669694},\n",
       " 'isometry': {'mse': 0.005925654619049145,\n",
       "  'weierstrass': 0.06916523576196357,\n",
       "  'cosine_similarity': 0.9525947630476069}}"
      ]
     },
     "execution_count": 5,
     "metadata": {},
     "output_type": "execute_result"
    }
   ],
   "source": [
    "experiment.run()"
   ]
  },
  {
   "cell_type": "code",
   "execution_count": 6,
   "id": "e2be6511",
   "metadata": {},
   "outputs": [],
   "source": [
    "class Inspector:\n",
    "    \n",
    "    def __init__(self, n_qubits=4, shots=65535, iterations=100):\n",
    "        self.n_qubits = n_qubits\n",
    "        self.shots = shots\n",
    "        self.iterations = iterations\n",
    "        self.metrics_available = Metrics().metrics_available\n",
    "    \n",
    "    def run(self):\n",
    "        metrics_dict_init = {m: list() for m in self.metrics_available}\n",
    "        metrics_dict_isom = {m: list() for m in self.metrics_available}\n",
    "        for i in range(self.iterations):\n",
    "            e = Experiment(\n",
    "                n_qubits=self.n_qubits,\n",
    "                shots=self.shots\n",
    "            )\n",
    "            e = e.run()\n",
    "            \n",
    "            for m, v in e[\"initialize\"].items():\n",
    "                metrics_dict_init[m].append(v)\n",
    "                \n",
    "            for m, v in e[\"isometry\"].items():\n",
    "                metrics_dict_isom[m].append(v)\n",
    "        \n",
    "        print(\"Statistics for 'qc.initialise':\")\n",
    "        for m, v in metrics_dict_init.items():\n",
    "            v = np.array(v)\n",
    "            print(f\"\\t{m}: {v.mean():.6f} ± {v.var():.6f}\")\n",
    "        \n",
    "        print(\"\\nStatistics for 'qc.isometry':\")\n",
    "        for m, v in metrics_dict_isom.items():\n",
    "            v = np.array(v)\n",
    "            print(f\"\\t{m}: {v.mean():.6f} ± {v.var():.6f}\")\n",
    "         \n",
    "        "
   ]
  },
  {
   "cell_type": "code",
   "execution_count": 7,
   "id": "d4508c6a",
   "metadata": {},
   "outputs": [
    {
     "name": "stdout",
     "output_type": "stream",
     "text": [
      "Statistics for 'qc.initialise':\n",
      "\tmse: 0.001959 ± 0.000000\n",
      "\tweierstrass: 0.039325 ± 0.000022\n",
      "\tcosine_similarity: 0.968654 ± 0.000045\n",
      "\n",
      "Statistics for 'qc.isometry':\n",
      "\tmse: 0.001960 ± 0.000000\n",
      "\tweierstrass: 0.039337 ± 0.000022\n",
      "\tcosine_similarity: 0.968641 ± 0.000045\n"
     ]
    }
   ],
   "source": [
    "inspector = Inspector(\n",
    "    n_qubits=5, \n",
    "    shots=65535, \n",
    "    iterations=1000\n",
    ")\n",
    "inspector.run()"
   ]
  },
  {
   "cell_type": "code",
   "execution_count": null,
   "id": "38265095",
   "metadata": {},
   "outputs": [],
   "source": []
  }
 ],
 "metadata": {
  "kernelspec": {
   "display_name": "Python 3 (ipykernel)",
   "language": "python",
   "name": "python3"
  },
  "language_info": {
   "codemirror_mode": {
    "name": "ipython",
    "version": 3
   },
   "file_extension": ".py",
   "mimetype": "text/x-python",
   "name": "python",
   "nbconvert_exporter": "python",
   "pygments_lexer": "ipython3",
   "version": "3.9.13"
  }
 },
 "nbformat": 4,
 "nbformat_minor": 5
}
