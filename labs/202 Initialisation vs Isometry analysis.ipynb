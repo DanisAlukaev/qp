{
 "cells": [
  {
   "cell_type": "markdown",
   "id": "18aaece7",
   "metadata": {},
   "source": [
    "# Initialization vs Isometry in Qiskit"
   ]
  },
  {
   "cell_type": "markdown",
   "id": "17098f93",
   "metadata": {},
   "source": [
    "According to `201 Tips and tricks.ipynb` there are exist two approaches to prepare the state: one was proposed by Shende, Bullock and Markov in [\"Synthesis of Quantum Logic Circuits\"](https://arxiv.org/abs/quant-ph/0406176) (2004) and another — by Iten et al. in [\"Quantum Circuits for Isometries\"](https://arxiv.org/abs/1501.06911) (2020). For more details please refer to correspondent notebook and original papers.\n",
    "\n",
    "This notebook concerns comparison of these two methods in terms of how close obtained states are to the desired vector. For someone who knows quantum programming inside out, the answer might appear trivial, but not for me..."
   ]
  },
  {
   "cell_type": "markdown",
   "id": "70a9f042",
   "metadata": {},
   "source": [
    "### Prerequisites"
   ]
  },
  {
   "cell_type": "code",
   "execution_count": 1,
   "id": "ed997bb4",
   "metadata": {},
   "outputs": [],
   "source": [
    "import math\n",
    "import numpy as np\n",
    "\n",
    "from qiskit import QuantumCircuit, BasicAer, execute, transpile\n",
    "from scipy.stats import wasserstein_distance as ws\n",
    "from numpy import dot\n",
    "from numpy.linalg import norm\n",
    "\n",
    "import warnings\n",
    "warnings.filterwarnings(\"ignore\")"
   ]
  },
  {
   "cell_type": "code",
   "execution_count": 2,
   "id": "dc594e04",
   "metadata": {},
   "outputs": [],
   "source": [
    "class Metrics:\n",
    "    \n",
    "    def __init__(self):\n",
    "        pass\n",
    "    \n",
    "    def compute(self, data, dist):\n",
    "        metrics = dict(\n",
    "            mse = np.square(data - dist).mean(),\n",
    "            weierstrass = ws(data, dist),\n",
    "            cosine_similarity = np.dot(data, dist) / (np.linalg.norm(data) * np.linalg.norm(dist))\n",
    "        )\n",
    "        return metrics"
   ]
  },
  {
   "cell_type": "code",
   "execution_count": 3,
   "id": "d03f44f3",
   "metadata": {},
   "outputs": [],
   "source": [
    "class Experiment:\n",
    "    \n",
    "    def __init__(self, vector_size=16, shots=100000):\n",
    "        message = \"Vector size should be power of 2\"\n",
    "        assert (vector_size & (vector_size-1) == 0) and vector_size != 0, message\n",
    "        \n",
    "        self.vector_size = vector_size\n",
    "        self.n = math.ceil(math.log(self.vector_size, 2))\n",
    "        self.shots = shots\n",
    "        self.metrics = Metrics()\n",
    "        \n",
    "    def run(self):\n",
    "        data = self.__get_random_vector()\n",
    "        \n",
    "        init_qc = self.__prepare_initialize_circuit(data)\n",
    "        isom_qc = self.__prepare_isometry_circuit(data)\n",
    "\n",
    "        result = dict(\n",
    "            initialize = self.__apply(init_qc, data, self.shots),\n",
    "            isometry = self.__apply(isom_qc, data, self.shots)\n",
    "        )\n",
    "        return result\n",
    "    \n",
    "    def __prepare_initialize_circuit(self, data):\n",
    "        n = self.n\n",
    "        range_n = range(n)\n",
    "        qc = QuantumCircuit(n, n)\n",
    "        qc.initialize(data)\n",
    "        qc.measure(range_n, range_n)\n",
    "        return qc\n",
    "    \n",
    "    def __prepare_isometry_circuit(self, data):\n",
    "        n = self.n\n",
    "        range_n = range(n)\n",
    "        qc = QuantumCircuit(n, n)\n",
    "        qc.isometry(data, list(range_n), None)\n",
    "        qc.measure(range_n, range_n)\n",
    "        return qc\n",
    "    \n",
    "    def __apply(self, qc, data, shots):\n",
    "        counts = execute(qc, BasicAer.get_backend('qasm_simulator'), shots=shots).result().get_counts()\n",
    "        dist = self.__get_dist(counts)\n",
    "        metrics = self.metrics.compute(data, dist)\n",
    "        return metrics\n",
    "    \n",
    "    def __get_dist(self, counts):\n",
    "        dist = [0. for i in range(self.vector_size)]\n",
    "        for a, b in sorted(list(counts.items())):\n",
    "            dist[int(a, 2)] = b\n",
    "        dist = np.array(dist)\n",
    "        dist = dist / np.linalg.norm(dist)\n",
    "        return dist\n",
    "        \n",
    "    def __get_random_vector(self):\n",
    "        a = np.random.rand(self.vector_size)\n",
    "        a = a / np.linalg.norm(a)\n",
    "        return a"
   ]
  },
  {
   "cell_type": "code",
   "execution_count": 4,
   "id": "95f83fe5",
   "metadata": {},
   "outputs": [],
   "source": [
    "experiment = Experiment(\n",
    "    vector_size=16, \n",
    "    shots=10000\n",
    ")"
   ]
  },
  {
   "cell_type": "code",
   "execution_count": 5,
   "id": "f4a89f3e",
   "metadata": {},
   "outputs": [
    {
     "data": {
      "text/plain": [
       "{'initialize': {'mse': 0.003475867536236607,\n",
       "  'weierstrass': 0.04769451672356363,\n",
       "  'cosine_similarity': 0.972193059710107},\n",
       " 'isometry': {'mse': 0.0035561022951466335,\n",
       "  'weierstrass': 0.04802210970295095,\n",
       "  'cosine_similarity': 0.9715511816388269}}"
      ]
     },
     "execution_count": 5,
     "metadata": {},
     "output_type": "execute_result"
    }
   ],
   "source": [
    "experiment.run()"
   ]
  },
  {
   "cell_type": "code",
   "execution_count": null,
   "id": "372b9b1f",
   "metadata": {},
   "outputs": [],
   "source": []
  }
 ],
 "metadata": {
  "kernelspec": {
   "display_name": "Python 3 (ipykernel)",
   "language": "python",
   "name": "python3"
  },
  "language_info": {
   "codemirror_mode": {
    "name": "ipython",
    "version": 3
   },
   "file_extension": ".py",
   "mimetype": "text/x-python",
   "name": "python",
   "nbconvert_exporter": "python",
   "pygments_lexer": "ipython3",
   "version": "3.9.13"
  }
 },
 "nbformat": 4,
 "nbformat_minor": 5
}
