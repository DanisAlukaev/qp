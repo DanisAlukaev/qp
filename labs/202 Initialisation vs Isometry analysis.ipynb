{
 "cells": [
  {
   "cell_type": "markdown",
   "id": "ec75adac",
   "metadata": {},
   "source": [
    "# Initialization vs Isometry in Qiskit"
   ]
  },
  {
   "cell_type": "markdown",
   "id": "90c2c66c",
   "metadata": {},
   "source": [
    "According to `201 Tips and tricks.ipynb` there are exist two approaches to prepare the state: one was proposed by Shende, Bullock and Markov in [\"Synthesis of Quantum Logic Circuits\"](https://arxiv.org/abs/quant-ph/0406176) (2004) and another — by Iten et al. in [\"Quantum Circuits for Isometries\"](https://arxiv.org/abs/1501.06911) (2020). For more details please refer to correspondent notebook and original papers.\n",
    "\n",
    "This notebook concerns comparison of these two methods in terms of how close obtained states are to the desired vector. For someone who knows quantum programming inside out, the answer might appear trivial. Nevertheless, let's give it a try."
   ]
  },
  {
   "cell_type": "markdown",
   "id": "a471e88e",
   "metadata": {},
   "source": [
    "### 0. Prerequisites"
   ]
  },
  {
   "cell_type": "code",
   "execution_count": 1,
   "id": "54213a57",
   "metadata": {},
   "outputs": [],
   "source": [
    "import math\n",
    "import numpy as np\n",
    "\n",
    "from qiskit import QuantumCircuit, BasicAer, execute, transpile, IBMQ\n",
    "from scipy.stats import wasserstein_distance as ws\n",
    "from numpy import dot\n",
    "from numpy.linalg import norm\n",
    "\n",
    "IBMQ.load_account()\n",
    "\n",
    "import warnings\n",
    "warnings.filterwarnings(\"ignore\")"
   ]
  },
  {
   "cell_type": "markdown",
   "id": "d0c6bd82",
   "metadata": {},
   "source": [
    "### 1. Metrics"
   ]
  },
  {
   "cell_type": "markdown",
   "id": "2cb6f568",
   "metadata": {},
   "source": [
    "Let's construct a class that will examine how emperical distribution is close to an input vector. Since, we operate with arrays of numbers of a fixed length, we can consider them both as distributions and as vectors. Methods will be assessed in terms of [mean-absolute error](https://en.wikipedia.org/wiki/Mean_absolute_error), [Wasserstein metric](https://en.wikipedia.org/wiki/Wasserstein_metric) — minimal amount of work to transform one distribution into another, and [cosine similarity](https://en.wikipedia.org/wiki/Cosine_similarity) — measure of how orientation and direction of vectors is close."
   ]
  },
  {
   "cell_type": "code",
   "execution_count": 2,
   "id": "8b949269",
   "metadata": {},
   "outputs": [],
   "source": [
    "class Metrics:\n",
    "    \n",
    "    def __init__(self):\n",
    "        self.metrics_available = [\"mae\", \"wasserstein\", \"cosine_similarity\"]\n",
    "    \n",
    "    def compute(self, data, dist):\n",
    "        metrics = dict(\n",
    "            mae = np.abs(data - dist).mean(),\n",
    "            wasserstein = ws(data, dist),\n",
    "            cosine_similarity = np.dot(data, dist) / (np.linalg.norm(data) * np.linalg.norm(dist))\n",
    "        )\n",
    "        return metrics"
   ]
  },
  {
   "cell_type": "markdown",
   "id": "23f76ee0",
   "metadata": {},
   "source": [
    "### 2. Baсkends"
   ]
  },
  {
   "cell_type": "markdown",
   "id": "07bbcb45",
   "metadata": {},
   "source": [
    "Experiments will be conducted both in simulators and on a QPU. Thus, it makes sense to create a separate class that \"unifies\" creation of new backend objects."
   ]
  },
  {
   "cell_type": "code",
   "execution_count": 3,
   "id": "4fcffb6d",
   "metadata": {},
   "outputs": [],
   "source": [
    "class BackendFactory:\n",
    "    \n",
    "    def __init__(self):\n",
    "        pass\n",
    "    \n",
    "    def get_new(self):\n",
    "        pass\n",
    "    \n",
    "    def __str__(self):\n",
    "        pass"
   ]
  },
  {
   "cell_type": "code",
   "execution_count": 4,
   "id": "5179c477",
   "metadata": {},
   "outputs": [],
   "source": [
    "class QASMSimulatorFactory(BackendFactory):\n",
    "    \n",
    "    def __init__(self):\n",
    "        super().__init__()\n",
    "        pass\n",
    "    \n",
    "    def get_new(self):\n",
    "        return BasicAer.get_backend('qasm_simulator')\n",
    "    \n",
    "    def __str__(self):\n",
    "        return 'qasm_simulator'"
   ]
  },
  {
   "cell_type": "code",
   "execution_count": 5,
   "id": "89851047",
   "metadata": {},
   "outputs": [],
   "source": [
    "class IBMQpuFactory(BackendFactory):\n",
    "    \n",
    "    def __init__(self, name=\"ibmq_belem\"):\n",
    "        super().__init__()\n",
    "        self.provider = IBMQ.get_provider('ibm-q')\n",
    "        self.name = name\n",
    "    \n",
    "    def get_new(self):\n",
    "        return self.provider.get_backend(self.name)\n",
    "    \n",
    "    def __str__(self):\n",
    "        return f'ibm-q {self.name}'"
   ]
  },
  {
   "cell_type": "code",
   "execution_count": 6,
   "id": "a922aaff",
   "metadata": {},
   "outputs": [
    {
     "name": "stdout",
     "output_type": "stream",
     "text": [
      "ibmq_qasm_simulator\t is online=True\twith a queue=0\n",
      "ibmq_lima\t is online=True\twith a queue=377\n",
      "ibmq_belem\t is online=True\twith a queue=202\n",
      "ibmq_quito\t is online=True\twith a queue=171\n",
      "simulator_statevector\t is online=True\twith a queue=0\n",
      "simulator_mps\t is online=True\twith a queue=0\n",
      "simulator_extended_stabilizer\t is online=True\twith a queue=0\n",
      "simulator_stabilizer\t is online=True\twith a queue=1\n",
      "ibmq_manila\t is online=True\twith a queue=191\n",
      "ibm_nairobi\t is online=True\twith a queue=529\n",
      "ibm_oslo\t is online=True\twith a queue=284\n"
     ]
    }
   ],
   "source": [
    "provider = IBMQ.get_provider('ibm-q')\n",
    "available_cloud_backends = provider.backends() \n",
    "for backend in available_cloud_backends:\n",
    "    status = backend.status()\n",
    "    is_operational = status.operational\n",
    "    jobs_in_queue = status.pending_jobs\n",
    "    print(f\"{backend}\\t is online={is_operational}\\twith a queue={jobs_in_queue}\")"
   ]
  },
  {
   "cell_type": "markdown",
   "id": "70fc3f29",
   "metadata": {},
   "source": [
    "### 3. Design single experiment"
   ]
  },
  {
   "cell_type": "markdown",
   "id": "d880696c",
   "metadata": {},
   "source": [
    "Our experiment consists of several stages: \n",
    "1. Prepare a random vector of size n\n",
    "2. Create two quantum circuits with `.initialize()` and `.isometry()` methods\n",
    "3. Execute quantum circuits\n",
    "4. Measure the resultant distribution\n",
    "5. Assess how close is this distribution to the desired one"
   ]
  },
  {
   "cell_type": "code",
   "execution_count": 7,
   "id": "c7317a2c",
   "metadata": {},
   "outputs": [],
   "source": [
    "class Experiment:\n",
    "    \n",
    "    def __init__(self, backend_factory, n_qubits=4, shots=65535):\n",
    "        self.backend_factory = backend_factory\n",
    "        self.n = n_qubits\n",
    "        self.vector_size = 2 ** n_qubits\n",
    "        self.shots = shots\n",
    "        self.metrics = Metrics()\n",
    "        \n",
    "    def run(self):\n",
    "        data = self.__get_random_vector()\n",
    "        \n",
    "        init_qc = self.__prepare_initialize_circuit(data)\n",
    "        isom_qc = self.__prepare_isometry_circuit(data)\n",
    "\n",
    "        result = dict(\n",
    "            initialize = self.__apply(init_qc, data, self.shots),\n",
    "            isometry = self.__apply(isom_qc, data, self.shots)\n",
    "        )\n",
    "        return result\n",
    "    \n",
    "    def __prepare_initialize_circuit(self, data):\n",
    "        n = self.n\n",
    "        range_n = range(n)\n",
    "        qc = QuantumCircuit(n, n)\n",
    "        qc.initialize(data)\n",
    "        qc.measure(range_n, range_n)\n",
    "        return qc\n",
    "    \n",
    "    def __prepare_isometry_circuit(self, data):\n",
    "        n = self.n\n",
    "        range_n = range(n)\n",
    "        qc = QuantumCircuit(n, n)\n",
    "        qc.isometry(data, list(range_n), None)\n",
    "        qc.measure(range_n, range_n)\n",
    "        return qc\n",
    "    \n",
    "    def __apply(self, qc, data, shots):\n",
    "        backend = self.backend_factory.get_new()\n",
    "        qc = transpile(qc, backend)\n",
    "        counts = execute(qc, backend, shots=shots).result().get_counts()\n",
    "        dist = self.__get_dist(counts)\n",
    "        metrics = self.metrics.compute(data, dist)\n",
    "        return metrics\n",
    "    \n",
    "    def __get_dist(self, counts):\n",
    "        dist = [0. for i in range(self.vector_size)]\n",
    "        for a, b in sorted(list(counts.items())):\n",
    "            dist[int(a, 2)] = b\n",
    "        dist = np.array(dist)\n",
    "        dist = dist / np.linalg.norm(dist)\n",
    "        return dist\n",
    "        \n",
    "    def __get_random_vector(self):\n",
    "        a = np.random.rand(self.vector_size)\n",
    "        a = a / np.linalg.norm(a)\n",
    "        return a"
   ]
  },
  {
   "cell_type": "code",
   "execution_count": 8,
   "id": "5c4f2358",
   "metadata": {},
   "outputs": [],
   "source": [
    "experiment_sim = Experiment(\n",
    "    backend_factory=QASMSimulatorFactory(),\n",
    "    n_qubits=4, \n",
    "    shots=10000\n",
    ")"
   ]
  },
  {
   "cell_type": "markdown",
   "id": "f7dbd17c",
   "metadata": {},
   "source": [
    "Let's run experiments both in simulator and QPU for sanity checking."
   ]
  },
  {
   "cell_type": "code",
   "execution_count": 9,
   "id": "d0e20c14",
   "metadata": {},
   "outputs": [
    {
     "data": {
      "text/plain": [
       "{'initialize': {'mae': 0.055757590567228246,\n",
       "  'wasserstein': 0.05575759056722823,\n",
       "  'cosine_similarity': 0.966202672086731},\n",
       " 'isometry': {'mae': 0.055484976079105366,\n",
       "  'wasserstein': 0.055484976079105366,\n",
       "  'cosine_similarity': 0.9663103603715456}}"
      ]
     },
     "execution_count": 9,
     "metadata": {},
     "output_type": "execute_result"
    }
   ],
   "source": [
    "experiment_sim.run()"
   ]
  },
  {
   "cell_type": "code",
   "execution_count": 10,
   "id": "d8ba0d7e",
   "metadata": {},
   "outputs": [],
   "source": [
    "experiment_ibm = Experiment(\n",
    "    backend_factory=IBMQpuFactory(),\n",
    "    n_qubits=4, \n",
    "    shots=20000 # max. number of shots for ibm-q\n",
    ")"
   ]
  },
  {
   "cell_type": "code",
   "execution_count": 11,
   "id": "0936588a",
   "metadata": {},
   "outputs": [
    {
     "data": {
      "text/plain": [
       "{'initialize': {'mae': 0.06291978821819735,\n",
       "  'wasserstein': 0.029539683734970634,\n",
       "  'cosine_similarity': 0.9649380929642835},\n",
       " 'isometry': {'mae': 0.05961318096877364,\n",
       "  'wasserstein': 0.01971239250522942,\n",
       "  'cosine_similarity': 0.9488022841978233}}"
      ]
     },
     "execution_count": 11,
     "metadata": {},
     "output_type": "execute_result"
    }
   ],
   "source": [
    "experiment_ibm.run()"
   ]
  },
  {
   "cell_type": "markdown",
   "id": "9ca11256",
   "metadata": {},
   "source": [
    "### 4. Analyse multiple experiments"
   ]
  },
  {
   "cell_type": "markdown",
   "id": "563b63ea",
   "metadata": {},
   "source": [
    "Processes in quantum computations are stochastic. So, in order to draw any conclusions, we should (at least try to) conduct multiple experiments. Frankly speaking, we might want to run experiments until the vector averaged over all iterations converges. The bad thing is that I don't have my own QPU yet :( , so we will wait a lot in a queue. Also, this approach inherits problems with floating-point arithmetic. Therefore, let the number of iterations (=experiments) be fixed."
   ]
  },
  {
   "cell_type": "code",
   "execution_count": 12,
   "id": "cc4a144f",
   "metadata": {},
   "outputs": [],
   "source": [
    "class Inspector:\n",
    "    \n",
    "    def __init__(self, backend_factory, n_qubits=4, shots=65535, iterations=100):\n",
    "        self.backend_factory = backend_factory\n",
    "        self.n_qubits = n_qubits\n",
    "        self.shots = shots\n",
    "        self.iterations = iterations\n",
    "        self.metrics_available = Metrics().metrics_available\n",
    "    \n",
    "    def run(self):\n",
    "        metrics_dict_init = {m: list() for m in self.metrics_available}\n",
    "        metrics_dict_isom = {m: list() for m in self.metrics_available}\n",
    "        for i in range(self.iterations):\n",
    "            e = Experiment(\n",
    "                backend_factory=self.backend_factory,\n",
    "                n_qubits=self.n_qubits,\n",
    "                shots=self.shots\n",
    "            )\n",
    "            e = e.run()\n",
    "            \n",
    "            for m, v in e[\"initialize\"].items():\n",
    "                metrics_dict_init[m].append(v)\n",
    "                \n",
    "            for m, v in e[\"isometry\"].items():\n",
    "                metrics_dict_isom[m].append(v)\n",
    "        \n",
    "        print(f\"Backend: {self.backend_factory}\")\n",
    "        \n",
    "        print(\"  'qc.initialise':\")\n",
    "        for m, v in metrics_dict_init.items():\n",
    "            v = np.array(v)\n",
    "            print(f\"\\t{m}: {v.mean():.8f} ± {v.var():.8f}\")\n",
    "        \n",
    "        print(\"  'qc.isometry':\")\n",
    "        for m, v in metrics_dict_isom.items():\n",
    "            v = np.array(v)\n",
    "            print(f\"\\t{m}: {v.mean():.8f} ± {v.var():.8f}\")\n",
    "         \n",
    "        "
   ]
  },
  {
   "cell_type": "code",
   "execution_count": 13,
   "id": "1f11dba8",
   "metadata": {},
   "outputs": [
    {
     "name": "stdout",
     "output_type": "stream",
     "text": [
      "Backend: qasm_simulator\n",
      "  'qc.initialise':\n",
      "\tmae: 0.05587970 ± 0.00009222\n",
      "\twasserstein: 0.05587898 ± 0.00009223\n",
      "\tcosine_similarity: 0.96795406 ± 0.00009815\n",
      "  'qc.isometry':\n",
      "\tmae: 0.05586049 ± 0.00009154\n",
      "\twasserstein: 0.05585946 ± 0.00009156\n",
      "\tcosine_similarity: 0.96799147 ± 0.00009684\n"
     ]
    }
   ],
   "source": [
    "inspector = Inspector(\n",
    "    backend_factory=QASMSimulatorFactory(),\n",
    "    n_qubits=4, \n",
    "    shots=65535, \n",
    "    iterations=1000\n",
    ")\n",
    "inspector.run()"
   ]
  },
  {
   "cell_type": "code",
   "execution_count": 14,
   "id": "6ea45faa",
   "metadata": {},
   "outputs": [
    {
     "name": "stdout",
     "output_type": "stream",
     "text": [
      "Backend: ibm-q ibmq_belem\n",
      "  'qc.initialise':\n",
      "\tmae: 0.06896764 ± 0.00003136\n",
      "\twasserstein: 0.03948394 ± 0.00002017\n",
      "\tcosine_similarity: 0.94826798 ± 0.00003582\n",
      "  'qc.isometry':\n",
      "\tmae: 0.05802084 ± 0.00005029\n",
      "\twasserstein: 0.03211527 ± 0.00008146\n",
      "\tcosine_similarity: 0.95444544 ± 0.00016185\n"
     ]
    }
   ],
   "source": [
    "inspector = Inspector(\n",
    "    backend_factory=IBMQpuFactory(),\n",
    "    n_qubits=4, \n",
    "    shots=20000, \n",
    "    iterations=5\n",
    ")\n",
    "inspector.run()"
   ]
  },
  {
   "cell_type": "markdown",
   "id": "11758373",
   "metadata": {},
   "source": [
    "### Discussion"
   ]
  },
  {
   "cell_type": "markdown",
   "id": "847c6f2b",
   "metadata": {},
   "source": [
    "The results show that both methods are of compatible accuracy in terms of MAE, Wasserstein metric and cosine similariy. Although, `.isometry()` gives a slightly better performance. The reason is probably in the lower number of gates used by isometry and consequent better fidelity of an obtained state vector. \n",
    "\n",
    "Due to the fact that experiments take much time, I did not observe the relationship between number of qubits in use and accuracy of methods. Thus, I would assume that there is a linear dependency and results will be the same for lower number of qubits, albeit this is a topic for further study. "
   ]
  }
 ],
 "metadata": {
  "kernelspec": {
   "display_name": "Python 3 (ipykernel)",
   "language": "python",
   "name": "python3"
  },
  "language_info": {
   "codemirror_mode": {
    "name": "ipython",
    "version": 3
   },
   "file_extension": ".py",
   "mimetype": "text/x-python",
   "name": "python",
   "nbconvert_exporter": "python",
   "pygments_lexer": "ipython3",
   "version": "3.9.13"
  }
 },
 "nbformat": 4,
 "nbformat_minor": 5
}
