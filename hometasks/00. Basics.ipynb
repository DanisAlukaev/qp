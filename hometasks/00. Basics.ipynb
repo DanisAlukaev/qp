{
 "cells": [
  {
   "cell_type": "markdown",
   "id": "0c0e35d0-2fe9-418e-a426-6ad2d5859943",
   "metadata": {},
   "source": [
    "# Homework 1\n",
    "\n",
    "## Task 1. 50 points. CH\n",
    "Implement Controlled-Hadamard operator using method given in class:\n",
    "1. Write a matrix form of this operator\n",
    "2. Find a valid decomposition into unary gates and `CX`/`CZ` operators. Prove with matrix operations.\n",
    "3. Prove that your code is correct with simulation.\n",
    "4. Run on a real quantum computer."
   ]
  },
  {
   "cell_type": "code",
   "execution_count": null,
   "id": "f2846b56-88de-4f7e-9d2c-451700bb3f4e",
   "metadata": {},
   "outputs": [],
   "source": [
    "# you can write your code and markdown here."
   ]
  },
  {
   "cell_type": "markdown",
   "id": "ae1879a1-e1f6-44f5-9c14-fdc226794453",
   "metadata": {},
   "source": [
    "## Task 2. Binary logics. 50 points. \n",
    "\n",
    "Implement a logic schema, which for $A, B, C$ qubits computes $(A\\wedge B)\\vee C\\leftrightarrow (A\\vee C)\\wedge (B\\vee C)$ with, maybe, ancillary qubits. Prove with simulation this is a tautology.\n",
    "1. Represent $\\wedge,\\vee,\\leftrightarrow$ logic operations with quantum gates.\n",
    "2. Compose a schema with barriers to show your actions.\n",
    "3. Apply this to a superposed state. Use this for proof."
   ]
  },
  {
   "cell_type": "code",
   "execution_count": 1,
   "id": "a522bd3a-edcc-4548-abd8-04171bdcc6e8",
   "metadata": {},
   "outputs": [],
   "source": [
    "# you can write your code and markdown here."
   ]
  }
 ],
 "metadata": {
  "kernelspec": {
   "display_name": "Python [conda env:qiskit]",
   "language": "python",
   "name": "conda-env-qiskit-py"
  },
  "language_info": {
   "codemirror_mode": {
    "name": "ipython",
    "version": 3
   },
   "file_extension": ".py",
   "mimetype": "text/x-python",
   "name": "python",
   "nbconvert_exporter": "python",
   "pygments_lexer": "ipython3",
   "version": "3.9.6"
  }
 },
 "nbformat": 4,
 "nbformat_minor": 5
}
