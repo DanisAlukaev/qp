{
 "cells": [
  {
   "cell_type": "markdown",
   "id": "2d9c563f-a621-4cbe-8b04-2b60b20581fc",
   "metadata": {},
   "source": [
    "# Teleport my spectrogram!\n",
    "\n",
    "In this task you will solve the following problem. Sender (let's call her Alice) wants to transfer some data vector to her mate Bob. She wants him to receive exactly her quantum state, and she wants to do it fast (with the speed of light, unfortunately she cannot do it [faster due to some theorems](https://www.forbes.com/sites/chadorzel/2016/05/04/the-real-reasons-quantum-entanglement-doesnt-allow-faster-than-light-communication/?sh=611ac4263a1e)).\n",
    "\n",
    "Alice is an ingenious person, so before transmitting the data she converts the vector into a spectrogram, by running Quantum Fourier Transform. So, Bob's task will be to run an inverse version of this algorithm, before he can read the result.\n",
    "\n",
    "Follow the notebook, complete the missing part and let Bob read the message teleported from Alice."
   ]
  },
  {
   "cell_type": "code",
   "execution_count": 1,
   "id": "d29e0a14-607f-4154-9ce1-190ca4183bd6",
   "metadata": {},
   "outputs": [],
   "source": [
    "from qiskit import QuantumCircuit, QuantumRegister, ClassicalRegister\n",
    "from qiskit import execute, BasicAer\n",
    "from qiskit.circuit.library import QFT\n",
    "from qiskit.visualization import plot_histogram\n",
    "from collections import Counter\n",
    "import numpy as np\n",
    "\n",
    "# the size of the register \n",
    "PROBLEM_SIZE = 4"
   ]
  },
  {
   "cell_type": "markdown",
   "id": "02e8dca9-1ecd-408f-ae50-d42546c896d3",
   "metadata": {},
   "source": [
    "First thing we do - we create a circiut for the communication channel. In the original simple algorithm we use 3 qubits: sender's (Alice), receiver's target (Bob's), and media qubit stored on the Alice's side (used to create a transitional entanglement of these 2 qubits).\n",
    "\n",
    "In our implementation we will create REGISTERS instead of the qubits, and we will create corresponding classical registers."
   ]
  },
  {
   "cell_type": "code",
   "execution_count": 2,
   "id": "355e20c0-efb6-4226-a11f-63b89814cd51",
   "metadata": {},
   "outputs": [],
   "source": [
    "q_alice = QuantumRegister(PROBLEM_SIZE, \"alice\")\n",
    "q_media = QuantumRegister(PROBLEM_SIZE, \"media\")\n",
    "q_bob = QuantumRegister(PROBLEM_SIZE, \"bob\")\n",
    "c_alice = ClassicalRegister(PROBLEM_SIZE, \"c_alice\")\n",
    "c_media = ClassicalRegister(PROBLEM_SIZE, \"c_media\")\n",
    "c_bob = ClassicalRegister(PROBLEM_SIZE, \"c_bob\")\n",
    "\n",
    "qc = QuantumCircuit(q_alice, q_media, q_bob, \n",
    "                    c_alice, c_media, c_bob)"
   ]
  },
  {
   "cell_type": "markdown",
   "id": "9cf2d4cb-13ef-4814-8c2a-af870b0c0039",
   "metadata": {},
   "source": [
    "## [20] Entangling qubits\n",
    "\n",
    "Before sending the receiving qubits (`bob` register) to Bob, Alice needs to entangle them with the media qubits (`media` register). \n",
    "\n",
    "Please implement `entangle` and `reverse_entangle` functions. You may refer to [this tutorial](https://qiskit.org/textbook/ch-algorithms/teleportation.html) to refresh the explanation from the lecture."
   ]
  },
  {
   "cell_type": "code",
   "execution_count": 3,
   "id": "18578511-11aa-44da-9260-38154731f47a",
   "metadata": {},
   "outputs": [
    {
     "data": {
      "text/plain": [
       "<qiskit.circuit.instructionset.InstructionSet at 0x7fd622df4500>"
      ]
     },
     "execution_count": 3,
     "metadata": {},
     "output_type": "execute_result"
    }
   ],
   "source": [
    "def entangle(qc, one, another):\n",
    "    qc.h(one)\n",
    "    qc.cnot(one, another)\n",
    "\n",
    "# to implement this method please refer to \n",
    "# this tutorial https://qiskit.org/textbook/ch-algorithms/teleportation.html#how\n",
    "def reverse_entangle(qc, one, another):\n",
    "    qc.cnot(another, one)\n",
    "    qc.h(another)\n",
    "\n",
    "for a, b in zip(q_media, q_bob):\n",
    "    entangle(qc, a, b)\n",
    "    \n",
    "qc.barrier()\n",
    "# pretend we send these qubits to bob with this operation\n",
    "qc.i(q_bob)\n",
    "qc.barrier()\n",
    "# qc.draw('mpl', scale=0.5)"
   ]
  },
  {
   "cell_type": "markdown",
   "id": "dca01537-caca-4aa4-86d5-40f00240fbac",
   "metadata": {},
   "source": [
    "# [20] Enter the data\n",
    "\n",
    "Alice wants to send these 8(16) numbers to Bob. She does not care about the scale, she cares about the shape only. So you may apply any norming factor.\n",
    "\n",
    "```\n",
    "0, 3, 5, 6, 6, 5, 3, 0, 1, 2, 3, 4, 5, 4, 3, 2\n",
    "```"
   ]
  },
  {
   "cell_type": "code",
   "execution_count": 4,
   "id": "5dadfb18-3da8-4980-a7c5-3720425cfa55",
   "metadata": {},
   "outputs": [
    {
     "data": {
      "text/plain": [
       "<qiskit.circuit.instructionset.InstructionSet at 0x7fd622e00a80>"
      ]
     },
     "execution_count": 4,
     "metadata": {},
     "output_type": "execute_result"
    }
   ],
   "source": [
    "vector = np.array(\n",
    "    [0., 3, 5, 6, 6, 5, 3, 0, 1, 2, 3, 4, 5, 4, 3, 2] * 4, \n",
    "    dtype=np.float64)\n",
    "\n",
    "# this adjusts the size of the data depending on \n",
    "# the number of qubits you utilize in the solution\n",
    "vector = vector[:2 ** PROBLEM_SIZE]\n",
    "\n",
    "\n",
    "## TODO -- NORMALIZE the data vector and INITIALIZE the state of ALICE's qubits.\n",
    "\n",
    "\n",
    "# qc.draw('mpl', scale=.5)"
   ]
  },
  {
   "cell_type": "markdown",
   "id": "03b0260d-1034-43c2-b4d2-a6de296f9000",
   "metadata": {},
   "source": [
    "Let us check that the distribution you initialized is the same Alice wanted."
   ]
  },
  {
   "cell_type": "code",
   "execution_count": 5,
   "id": "0690ea45-e6a1-4254-8f5c-e20342162e8b",
   "metadata": {},
   "outputs": [
    {
     "data": {
      "image/png": "[encoded data removed]",
      "text/plain": [
       "<Figure size 504x360 with 1 Axes>"
      ]
     },
     "execution_count": 5,
     "metadata": {},
     "output_type": "execute_result"
    }
   ],
   "source": [
    "qc.measure(q_alice, c_alice)\n",
    "plot_histogram(execute(qc, BasicAer.get_backend('qasm_simulator')).result().get_counts())"
   ]
  },
  {
   "cell_type": "markdown",
   "id": "d0104057-8cae-4802-a427-7da40c328efb",
   "metadata": {},
   "source": [
    "Cool hack is below:"
   ]
  },
  {
   "cell_type": "code",
   "execution_count": 6,
   "id": "bc7c5d12-a324-424a-aa1b-f68e90643545",
   "metadata": {},
   "outputs": [],
   "source": [
    "# we remove the measurements for now to continue with the circuit building\n",
    "# this is a hack to solve a problem with remove_final_measurements(), \n",
    "# which unfortunately removes BITS as well\n",
    "qc._data = [instruction for instruction in qc._data if instruction[0].name != 'measure']"
   ]
  },
  {
   "cell_type": "markdown",
   "id": "5c624e53-8af5-469b-8e49-657eec17109d",
   "metadata": {},
   "source": [
    "## [10] QFT\n",
    "\n",
    "Then Alice wants to perform QFT of here data. Implement this action on Alice's qubits."
   ]
  },
  {
   "cell_type": "code",
   "execution_count": 7,
   "id": "a8c18ac0-e9df-4ab8-854d-869cbea81be1",
   "metadata": {},
   "outputs": [
    {
     "data": {
      "text/plain": [
       "<qiskit.circuit.instructionset.InstructionSet at 0x7fd624e2e7c0>"
      ]
     },
     "execution_count": 7,
     "metadata": {},
     "output_type": "execute_result"
    }
   ],
   "source": [
    "# TODO -- run QFT on Alice's qubits"
   ]
  },
  {
   "cell_type": "code",
   "execution_count": 8,
   "id": "8f3573e4-41bb-4ed4-9710-19d1237eb95e",
   "metadata": {},
   "outputs": [],
   "source": [
    "# qc.draw('mpl', scale=.5)"
   ]
  },
  {
   "cell_type": "markdown",
   "id": "7428521c-1215-4a0d-ad89-ac790bab90a6",
   "metadata": {},
   "source": [
    "The state now is the spectrum of the signal. Let us see what is it right before sending:"
   ]
  },
  {
   "cell_type": "code",
   "execution_count": 9,
   "id": "ead58af5-7145-4598-9ad7-62bdf86471f9",
   "metadata": {},
   "outputs": [
    {
     "data": {
      "image/png": "[encoded data removed]",
      "text/plain": [
       "<Figure size 504x360 with 1 Axes>"
      ]
     },
     "execution_count": 9,
     "metadata": {},
     "output_type": "execute_result"
    }
   ],
   "source": [
    "qc.measure(q_alice, c_alice)\n",
    "plot_histogram(execute(qc, BasicAer.get_backend('qasm_simulator')).result().get_counts())"
   ]
  },
  {
   "cell_type": "code",
   "execution_count": 10,
   "id": "c24ade78-495b-4496-a782-1633ca2b934a",
   "metadata": {},
   "outputs": [],
   "source": [
    "# we remove the measurements for now to continue with the circuit building\n",
    "# this is a hack to solve a problem with remove_final_measurements(), which removes BITS also\n",
    "qc._data = [instruction for instruction in qc._data if instruction[0].name != 'measure']\n",
    "# qc.draw('mpl', scale=.5)"
   ]
  },
  {
   "cell_type": "markdown",
   "id": "61a5f3e4-1783-46b9-a16d-78c1becbe6fa",
   "metadata": {},
   "source": [
    "## Here we insert the data into the entagled channel\n",
    "\n",
    "For this we will call the `reverse_entangle` function for all qubits pairs between Alice and media. You implemented this function above. Please feel free to change the order of qubits here in these call, if this somehow influences your solution below."
   ]
  },
  {
   "cell_type": "code",
   "execution_count": 11,
   "id": "1ec84f37-6c0e-4d3c-a247-a89015f5b19e",
   "metadata": {},
   "outputs": [
    {
     "data": {
      "text/plain": [
       "<qiskit.circuit.instructionset.InstructionSet at 0x7fd60008fd40>"
      ]
     },
     "execution_count": 11,
     "metadata": {},
     "output_type": "execute_result"
    }
   ],
   "source": [
    "for a, b in zip(q_alice, q_media):\n",
    "    reverse_entangle(qc, b, a)\n",
    "    \n",
    "qc.barrier()\n",
    "# qc.draw('mpl', scale=.5)"
   ]
  },
  {
   "cell_type": "markdown",
   "id": "331c88b6-e2f5-481d-8510-cd41dde10f4d",
   "metadata": {},
   "source": [
    "## Ready to send!\n",
    "\n",
    "To \"send\" the data Alice has to imlements 2 things:\n",
    "1. Measure her both quantum register to corresponding classical registers, and then send them to Bob.\n",
    "2. Bob then will apply conditional (NOT CONTROLLED) `X`, conditioned by media measurements, and conditioned `Z`, conditioned by Alice's register measurements. \n",
    "   - NB - **Conditional** != **Controlled**; Conditional gates are subject to MEASUREMENT results (classical register), not quantum register. They are implemented using the [method `instruction.c_if(bit, value)`](https://qiskit.org/documentation/stubs/qiskit.circuit.Instruction.c_if.html).\n",
    "\n",
    "After these actions Bob should obtain **the spectum** Alice has sent to him.\n",
    "\n",
    "### [10] Alice measures\n",
    "\n",
    "Alice here measures her qubits and media qubits into corresponding classical registers."
   ]
  },
  {
   "cell_type": "code",
   "execution_count": 12,
   "id": "7ed03f73-a70c-4cba-b1ae-98e8699e7273",
   "metadata": {},
   "outputs": [
    {
     "data": {
      "text/plain": [
       "<qiskit.circuit.instructionset.InstructionSet at 0x7fd622db9dc0>"
      ]
     },
     "execution_count": 12,
     "metadata": {},
     "output_type": "execute_result"
    }
   ],
   "source": [
    "## TODO -- implement measurements here\n",
    "\n",
    "# qc.draw('mpl', scale=.5)"
   ]
  },
  {
   "cell_type": "markdown",
   "id": "884d4f6e-d147-4d42-9b9b-0e64f9827894",
   "metadata": {},
   "source": [
    "### [20] Bob applies conditional gates\n",
    "\n",
    "After this operation Bob should have exactly what Alice teleported to him."
   ]
  },
  {
   "cell_type": "code",
   "execution_count": 13,
   "id": "11826c04-4308-4fd1-8aaf-d30c015d3eda",
   "metadata": {},
   "outputs": [],
   "source": [
    "## Apply conditional X to Bob's qubits, with respect to media == 1\n",
    "## Apply conditional Z to Bob's qubits, with respect to alice == 1\n",
    "\n",
    "# TODO your code is here"
   ]
  },
  {
   "cell_type": "markdown",
   "id": "33d26137-b8ab-4e70-b975-d519aacefec4",
   "metadata": {},
   "source": [
    "Here Bob should obtain exactly te same spectrum as Alice had before measurement. This means teleport was successfull!"
   ]
  },
  {
   "cell_type": "code",
   "execution_count": 14,
   "id": "2b6ad4a2-9855-4123-b5bf-bf45144c1375",
   "metadata": {},
   "outputs": [],
   "source": [
    "qc.measure(q_bob, c_bob)\n",
    "counts = execute(qc, BasicAer.get_backend('qasm_simulator')).result().get_counts()"
   ]
  },
  {
   "cell_type": "code",
   "execution_count": 15,
   "id": "91324eed-7b67-476e-89b7-7cf5a2bffedc",
   "metadata": {},
   "outputs": [],
   "source": [
    "# qc.draw('mpl', scale=.5)"
   ]
  },
  {
   "cell_type": "code",
   "execution_count": 16,
   "id": "b5d323a0-550e-4dfa-9ba0-2213bec7ef68",
   "metadata": {},
   "outputs": [
    {
     "data": {
      "image/png": "[encoded data removed]",
      "text/plain": [
       "<Figure size 720x288 with 1 Axes>"
      ]
     },
     "execution_count": 16,
     "metadata": {},
     "output_type": "execute_result"
    }
   ],
   "source": [
    "bobcounter = Counter()\n",
    "[bobcounter.update({key[:PROBLEM_SIZE]:value}) for key, value in counts.items()]\n",
    "plot_histogram(bobcounter, figsize=(10, 4))"
   ]
  },
  {
   "cell_type": "code",
   "execution_count": 17,
   "id": "13ab5780-5e4d-4cf6-b5e0-d76383da012d",
   "metadata": {},
   "outputs": [
    {
     "name": "stderr",
     "output_type": "stream",
     "text": [
      "/var/folders/1g/92np41k92x9fz2f207vmq_ch0000gn/T/ipykernel_28893/1376964931.py:4: DeprecationWarning: Back-references to from Bit instances to their containing Registers have been deprecated. Instead, inspect Registers to find their contained Bits.\n",
      "  or instruction[1][0].register.name != 'bob'\n"
     ]
    }
   ],
   "source": [
    "# here we remove final measurements\n",
    "qc._data = [instruction for instruction in qc._data \n",
    "                if instruction[0].name != 'measure' \n",
    "                or instruction[1][0].register.name != 'bob'\n",
    "           ]\n",
    "# qc.draw('mpl', scale=.5)"
   ]
  },
  {
   "cell_type": "markdown",
   "id": "64cf5f55-aecd-49df-8622-2f3578830d2d",
   "metadata": {},
   "source": [
    "## [20] Bob decodes\n",
    "\n",
    "But you remember that Bob needs the original data, not the spectrogram. Let him apply the inverse transformation to the data."
   ]
  },
  {
   "cell_type": "code",
   "execution_count": 18,
   "id": "8c942344-74ce-4c52-82c3-cfb588d0a5ef",
   "metadata": {},
   "outputs": [
    {
     "data": {
      "text/plain": [
       "<qiskit.circuit.instructionset.InstructionSet at 0x7fd61025e2c0>"
      ]
     },
     "execution_count": 18,
     "metadata": {},
     "output_type": "execute_result"
    }
   ],
   "source": [
    "## TODO implements here inverse quantum Fourier transform on Bob's qubits"
   ]
  },
  {
   "cell_type": "code",
   "execution_count": 19,
   "id": "d8f82a02-f59e-46d3-8634-b545bb88c6fd",
   "metadata": {},
   "outputs": [],
   "source": [
    "# qc.draw('mpl', scale=.5)"
   ]
  },
  {
   "cell_type": "code",
   "execution_count": 20,
   "id": "56876128-c723-4427-8bb0-7213d4a627e9",
   "metadata": {},
   "outputs": [],
   "source": [
    "qc.measure(q_bob, c_bob)\n",
    "counts = execute(qc, BasicAer.get_backend('qasm_simulator'), shots=1000).result().get_counts()"
   ]
  },
  {
   "cell_type": "code",
   "execution_count": 21,
   "id": "1818ca02-23ed-4b19-b912-4915700a0bd2",
   "metadata": {},
   "outputs": [
    {
     "data": {
      "image/png": "[encoded data removed]",
      "text/plain": [
       "<Figure size 720x288 with 1 Axes>"
      ]
     },
     "execution_count": 21,
     "metadata": {},
     "output_type": "execute_result"
    }
   ],
   "source": [
    "bobcounter = Counter()\n",
    "[bobcounter.update({key[:PROBLEM_SIZE]:value}) for key, value in counts.items()]\n",
    "plot_histogram(bobcounter, figsize=(10, 4))"
   ]
  }
 ],
 "metadata": {
  "kernelspec": {
   "display_name": "qiskit",
   "language": "python",
   "name": "qiskit"
  },
  "language_info": {
   "codemirror_mode": {
    "name": "ipython",
    "version": 3
   },
   "file_extension": ".py",
   "mimetype": "text/x-python",
   "name": "python",
   "nbconvert_exporter": "python",
   "pygments_lexer": "ipython3",
   "version": "3.9.7"
  }
 },
 "nbformat": 4,
 "nbformat_minor": 5
}
