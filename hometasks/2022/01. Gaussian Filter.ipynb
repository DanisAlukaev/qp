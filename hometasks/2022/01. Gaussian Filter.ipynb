{
 "cells": [
  {
   "cell_type": "markdown",
   "id": "39201243-b700-4d9b-a1f0-2ecfa8a6e207",
   "metadata": {},
   "source": [
    "# [100 in total] Processing data vector on a Quantum Computer\n",
    "\n",
    "In this homework we will learn a cool story about the data processing. Your task may sounds very simple - you will apply Gaussian filtering to the plain vector of 16 numbers. (This task can be generalized to an image if we recall that $G_{xy} = G_{x}\\circ G_{y}$, but here we care only about the vector).\n",
    "\n",
    "## Gaussian filter as a matrix multiplication\n",
    "\n",
    "Of course, before we do it on a quantum computer, let us first model this computation in a matrix form.\n",
    "\n",
    "Gaussian blur is a _convolution_ operation, which is different from just a multiplication.\n",
    "Convolutions are applied within data windows, not for the whole data vector. In a matrix form it will be a collection of the kernel vectors with the shifts. These shifts define \"convolution windows\".\n",
    "\n",
    "### Get the kernel\n",
    "Our first step is to construct a vector kernel, let it be a $5\\times 1$:"
   ]
  },
  {
   "cell_type": "code",
   "execution_count": 31,
   "id": "1601d01b-1048-496a-9d0d-f7cb79f83314",
   "metadata": {},
   "outputs": [
    {
     "name": "stdout",
     "output_type": "stream",
     "text": [
      "[0.05448868 0.24420134 0.40261995 0.24420134 0.05448868]\n"
     ]
    }
   ],
   "source": [
    "import numpy as np\n",
    "from scipy.stats import norm\n",
    "import matplotlib.pyplot as plt\n",
    "\n",
    "kernel = np.array([norm.pdf(i) for i in range(-2, 3)])\n",
    "\n",
    "# kernel should have the sum of 1, which means it should not make the image darker or lighter on total\n",
    "kernel = kernel / sum(kernel)\n",
    "print(kernel)"
   ]
  },
  {
   "cell_type": "markdown",
   "id": "23d1908f-fcf0-48e3-b603-e5048cff7fe9",
   "metadata": {},
   "source": [
    "Let us now generate the data for the test and compute the blur:"
   ]
  },
  {
   "cell_type": "code",
   "execution_count": 19,
   "id": "19017bec-b756-4548-aaaf-4fff001fd1c2",
   "metadata": {},
   "outputs": [
    {
     "data": {
      "text/plain": [
       "<BarContainer object of 16 artists>"
      ]
     },
     "execution_count": 19,
     "metadata": {},
     "output_type": "execute_result"
    },
    {
     "data": {
      "image/png": "[encoded data removed]",
      "text/plain": [
       "<Figure size 720x288 with 1 Axes>"
      ]
     },
     "metadata": {
      "needs_background": "light"
     },
     "output_type": "display_data"
    }
   ],
   "source": [
    "data = np.array([0, 0, 1, 1, 0, 1, 0, 0, 1, 0, 0, 0, 1, 0, 0, 0])\n",
    "plt.figure(figsize=(10, 4))\n",
    "plt.bar(range(16), data)"
   ]
  },
  {
   "cell_type": "code",
   "execution_count": 20,
   "id": "fff03963-332f-4732-8af8-e7d52893d276",
   "metadata": {},
   "outputs": [
    {
     "data": {
      "text/plain": [
       "<BarContainer object of 16 artists>"
      ]
     },
     "execution_count": 20,
     "metadata": {},
     "output_type": "execute_result"
    },
    {
     "data": {
      "image/png": "[encoded data removed]",
      "text/plain": [
       "<Figure size 720x288 with 1 Axes>"
      ]
     },
     "metadata": {
      "needs_background": "light"
     },
     "output_type": "display_data"
    }
   ],
   "source": [
    "blurred_with_convolution = np.convolve(data, kernel, mode='same')\n",
    "plt.figure(figsize=(10, 4))\n",
    "plt.bar(range(16), blurred_with_convolution)"
   ]
  },
  {
   "cell_type": "markdown",
   "id": "28ad2bd0-172f-4b51-8e90-9a172a6e9766",
   "metadata": {},
   "source": [
    "Note that the peaks are on the same places, but in-between positions have also obtained their amplitudes.\n",
    "\n",
    "### Get the matrix\n",
    "\n",
    "Here I construct (yep, looks like a hack) a matrix which performs exactly the same convolution by multiplication."
   ]
  },
  {
   "cell_type": "code",
   "execution_count": 4,
   "id": "a8567e75-d7a1-4ceb-8ea8-23f59bd64cea",
   "metadata": {},
   "outputs": [
    {
     "data": {
      "text/plain": [
       "<matplotlib.image.AxesImage at 0x7f7f8271f310>"
      ]
     },
     "execution_count": 4,
     "metadata": {},
     "output_type": "execute_result"
    },
    {
     "data": {
      "image/png": "[encoded data removed]",
      "text/plain": [
       "<Figure size 432x288 with 1 Axes>"
      ]
     },
     "metadata": {
      "needs_background": "light"
     },
     "output_type": "display_data"
    }
   ],
   "source": [
    "G = np.zeros((data.shape[0], data.shape[0]))\n",
    "for i in range(data.shape[0]):\n",
    "    start = i - kernel.shape[0] // 2\n",
    "    end = i + kernel.shape[0] // 2\n",
    "    kerneloffset = 0 if start >= 0 else -start\n",
    "    kernelendoffset = 0 \\\n",
    "                if end < data.shape[0] \\\n",
    "                else  end - data.shape[0] + 1\n",
    "    G[start + kerneloffset:end - kernelendoffset + 1, i] = kernel[kerneloffset:len(kernel)-kernelendoffset]\n",
    "    \n",
    "plt.imshow(G)"
   ]
  },
  {
   "cell_type": "code",
   "execution_count": 5,
   "id": "1efa08ec-c13a-42e5-9ae6-0c8ed5d5ee53",
   "metadata": {},
   "outputs": [
    {
     "data": {
      "text/plain": [
       "<BarContainer object of 16 artists>"
      ]
     },
     "execution_count": 5,
     "metadata": {},
     "output_type": "execute_result"
    },
    {
     "data": {
      "image/png": "[encoded data removed]",
      "text/plain": [
       "<Figure size 720x288 with 1 Axes>"
      ]
     },
     "metadata": {
      "needs_background": "light"
     },
     "output_type": "display_data"
    }
   ],
   "source": [
    "blurred_with_matrix = G @ data\n",
    "\n",
    "# check results are the same!\n",
    "assert np.allclose(blurred_with_convolution, blurred_with_matrix)\n",
    "plt.figure(figsize=(10, 4))\n",
    "plt.bar(range(16), blurred_with_convolution)"
   ]
  },
  {
   "cell_type": "code",
   "execution_count": 6,
   "id": "4dd4e872-c61d-4728-97bb-2f47b6ddde35",
   "metadata": {},
   "outputs": [],
   "source": [
    "# we are happy that G is a reversible operation!\n",
    "unG = np.linalg.inv(G)\n",
    "assert np.allclose(unG @ G, np.eye(G.shape[0]))\n",
    "plt.imshow(unG)"
   ]
  },
  {
   "cell_type": "markdown",
   "id": "4e92404d-e726-4b50-b51d-95f672efd703",
   "metadata": {},
   "source": [
    "So we are almost ready to run this to the quantum vector... Wait... Is this unitary?! Oh noooo!"
   ]
  },
  {
   "cell_type": "code",
   "execution_count": 8,
   "id": "b5be228b-3756-4ccf-ad8f-3b48289029c9",
   "metadata": {},
   "outputs": [],
   "source": [
    "assert np.allclose(G.T.conj() @ G, np.eye(G.shape[0])), \"The matrix G is not unitary!!!!1111\""
   ]
  },
  {
   "cell_type": "markdown",
   "id": "52c40f7b-0125-4efc-9ce4-be99b8650b81",
   "metadata": {},
   "source": [
    "## Unitary matrix construction\n",
    "\n",
    "How do we construct a matrix $U$ which may be bigger, but still contains the desired transformation and is unitary?!\n",
    "\n",
    "[This guy proposes multiple ways](https://youtu.be/d3f3JRo0WUo), we will follow the first one called \"block encoding\". [Listen for the solution intuition for a sec!](https://youtu.be/d3f3JRo0WUo?t=709) And take a look at the slide. The slide provides the direct instruction to finding such a matrix in the explicit form!\n",
    "\n",
    "In quantum computing the idea is to dedicate additional \"garbage\" space in the state vector (padding with 0s) which will be affected by the rest of the matrix, and only care about the measurements which are from the desired half of the distribution.\n",
    "\n",
    "As we keep the desired matrix in the corner, we:\n",
    "- create an ancillary qubit, which is equivalent to padding a vector with zeros,\n",
    "- measure,\n",
    "- consider only those shots where ancilla remains in 0. This means that in the resulting superposition $|0_A\\rangle A|\\psi\\rangle+|1_A\\rangle|*\\rangle$ we care about the left part of the distribution.\n",
    "\n",
    "## [30] Block-encoding of a arbitrary matrix in Unitary\n",
    "\n",
    "We will follow \"impractical\" way here. Your first task is to fill the matrix $U$ [according to the slide](https://www.youtube.com/watch?v=d3f3JRo0WUo&t=709s). Matrix names correspond."
   ]
  },
  {
   "cell_type": "code",
   "execution_count": null,
   "id": "e10e6c66-2036-4f44-ad20-9db25f0eb251",
   "metadata": {},
   "outputs": [],
   "source": [
    "# I rescale G to have a norm less then 1, otherwise it will not be modelled properly\n",
    "Gnorm = np.linalg.norm(G)\n",
    "eps = 1e-6\n",
    "A = G / (Gnorm + eps)\n",
    "\n",
    "# TODO: create a desired unitary matrix U of twice as bigger size!\n",
    "U = np.zeros((\n",
    "    # TODO your sizes here!\n",
    "), dtype=np.complex128)\n",
    "\n",
    "# TODO: fill the matrix U according to the slide. Let me help to start:\n",
    "h, w = A.shape[0], A.shape[1]\n",
    "U[:h, :w] = A\n",
    "U[h:, w:] = A\n",
    "\n",
    "# note that * symbol on the slide corresponds to \"transposed conjugate\" or just \"dagger\"\n",
    "# for the square matrix root you may use this function:\n",
    "from scipy.linalg import sqrtm\n",
    "\n",
    "# TODO assign the rest\n",
    "U[:h, w:] = ...  # TODO\n",
    "U[h:, :w] = ...  # TODO\n",
    "\n",
    "# check that U(U^†) is identity.\n",
    "plt.imshow((U @ U.T.conj()).real)        # real part\n",
    "plt.show()\n",
    "plt.imshow((-1j * U @ U.T.conj()).real)  # imaginary part"
   ]
  },
  {
   "cell_type": "markdown",
   "id": "ce221d84-b534-4bb3-b052-a50003a1a293",
   "metadata": {},
   "source": [
    "Does it do the job? Mess on the right, but needed picture on the left!"
   ]
  },
  {
   "cell_type": "code",
   "execution_count": 26,
   "id": "0c80cab3-5ad1-4b86-a558-100c69917d83",
   "metadata": {},
   "outputs": [
    {
     "data": {
      "text/plain": [
       "<BarContainer object of 32 artists>"
      ]
     },
     "execution_count": 26,
     "metadata": {},
     "output_type": "execute_result"
    },
    {
     "data": {
      "image/png": "[encoded data removed]",
      "text/plain": [
       "<Figure size 720x288 with 1 Axes>"
      ]
     },
     "metadata": {
      "needs_background": "light"
     },
     "output_type": "display_data"
    }
   ],
   "source": [
    "datapadded = np.zeros((data.shape[0] * 2))\n",
    "datapadded[:len(data)] = data\n",
    "plt.figure(figsize=(10, 4))\n",
    "\n",
    "# HERE WE APPLY TRANSFORMATION\n",
    "result = (U @ datapadded).real\n",
    "\n",
    "plt.bar(range(len(datapadded)), result)"
   ]
  },
  {
   "cell_type": "markdown",
   "id": "058cb0d3-296e-41fe-8a29-02668ea5981a",
   "metadata": {},
   "source": [
    "## So, what is next? Let us compose a circuit which is doing the same matrix multiplication.\n",
    "### [10] Prepare the data\n",
    "### [40] Construct a ciruit\n",
    "Additional constraints here are:\n",
    "1. We need to norm the vector (to make it a valid statevector).\n",
    "2. We need to use ancilla (to pad the vector with 0s)."
   ]
  },
  {
   "cell_type": "code",
   "execution_count": null,
   "id": "8fe7ea61-ca9a-4737-9e1b-320011976a6d",
   "metadata": {},
   "outputs": [],
   "source": [
    "from qiskit import QuantumRegister, ClassicalRegister, QuantumCircuit, execute, BasicAer, transpile\n",
    "from qiskit.visualization import plot_histogram\n",
    "from qiskit.quantum_info.operators import Operator\n",
    "\n",
    "qr = QuantumRegister(4, name=\"v\")       # register for the data\n",
    "qa = QuantumRegister(1, name=\"a\")       # register for ancilla\n",
    "cr = ClassicalRegister(5, name=\"meas\")  # where we measure\n",
    "qc = QuantumCircuit(qr, qa, cr)         # the circuit\n",
    "\n",
    "# the operator should not change the sum. We will keep it for the last step.\n",
    "data_sum = sum(data)\n",
    "\n",
    "print(\"Data norm, should be exactly 1:\", data_norm)\n",
    "normed_data = ... # TODO\n",
    "\n",
    "# TODO your code to create a circuit comes here.\n",
    "# 1. Initialize the state on 0-3 qr qubits.\n",
    "# 2. Apply the transformation on qr[:] + qa[:]\n",
    "# 3. Measure all qubits.\n",
    "\n",
    "qc.draw('mpl')"
   ]
  },
  {
   "cell_type": "code",
   "execution_count": 12,
   "id": "e0c09ccd-b0b5-4277-82b5-91a3aebd26a1",
   "metadata": {},
   "outputs": [],
   "source": [
    "qct = transpile(\n",
    "    qc, \n",
    "    BasicAer.get_backend('qasm_simulator'), \n",
    "    basis_gates=['cx', 'x', 'y', 'z', 'rx', 'ry', 'rz', 'u3', 'u2', 'u1', 'h']\n",
    ")"
   ]
  },
  {
   "cell_type": "markdown",
   "id": "d292c367-4dc6-4a3c-92ec-72027aa91fdb",
   "metadata": {},
   "source": [
    "Just check how big the resulting program is!"
   ]
  },
  {
   "cell_type": "code",
   "execution_count": 13,
   "id": "ed9fd240-20f3-40d2-8182-d45394073dc7",
   "metadata": {},
   "outputs": [
    {
     "data": {
      "text/plain": [
       "(2035, 1039)"
      ]
     },
     "execution_count": 13,
     "metadata": {},
     "output_type": "execute_result"
    }
   ],
   "source": [
    "qct.depth(), qct.count_ops()['cx']\n",
    "# qct.draw('mpl')"
   ]
  },
  {
   "cell_type": "code",
   "execution_count": 14,
   "id": "d7a7b85b-a755-49c5-8d79-b0fa41a834b9",
   "metadata": {},
   "outputs": [
    {
     "data": {
      "image/png": "[encoded data removed]",
      "text/plain": [
       "<Figure size 720x288 with 1 Axes>"
      ]
     },
     "execution_count": 14,
     "metadata": {},
     "output_type": "execute_result"
    }
   ],
   "source": [
    "counts = execute(\n",
    "    qc, \n",
    "    BasicAer.get_backend('qasm_simulator'), \n",
    "    shots=50000\n",
    ").result().get_counts()\n",
    "plot_histogram(counts, figsize=(10, 4))"
   ]
  },
  {
   "cell_type": "markdown",
   "id": "4bf2c0ba-d135-45f5-babe-a8d068c1d056",
   "metadata": {},
   "source": [
    "## Postprocessing\n",
    "Our data need cleaning!\n",
    "1. It has unnecessary measurements where ancilla is 1.\n",
    "2. The data are in the form of probabilities (basically counts), not amplitudes.\n",
    "3. The data were scaled.\n",
    "\n",
    "Let us unwind the computation:\n",
    "\n",
    "### [10] Remove unnecessary shots from `counts` dict."
   ]
  },
  {
   "cell_type": "code",
   "execution_count": 15,
   "id": "6abadd43-f1f1-4e14-a7f6-fe81c869fae2",
   "metadata": {},
   "outputs": [
    {
     "data": {
      "image/png": "[encoded data removed]",
      "text/plain": [
       "<Figure size 720x288 with 1 Axes>"
      ]
     },
     "execution_count": 15,
     "metadata": {},
     "output_type": "execute_result"
    }
   ],
   "source": [
    "filtered_counts = ... # TODO\n",
    "plot_histogram(filtered_counts, figsize=(10, 4))"
   ]
  },
  {
   "cell_type": "markdown",
   "id": "35fc9a6c-266f-42ea-be20-3e9e3c333aba",
   "metadata": {},
   "source": [
    "### [10] Convert counts into amplitudes, and dict into the array.\n",
    "\n",
    "First, retrieve probabilities from the count dict, and write them to the vector `probs`."
   ]
  },
  {
   "cell_type": "code",
   "execution_count": 16,
   "id": "b4648903-79e2-4fa0-afed-3ae6565030ac",
   "metadata": {},
   "outputs": [],
   "source": [
    "probs = np.zeros((data.shape[0]))\n",
    "total_shots = 0\n",
    "\n",
    "# TODO write PROBABILITIES to the corresponding vector positions\n",
    "# HINT: you may use int(key, base=2)"
   ]
  },
  {
   "cell_type": "markdown",
   "id": "2c8c32ab-0fb7-4dce-80b7-6025c71b34ea",
   "metadata": {},
   "source": [
    "Second, convert PROBABILITIES into the AMPLITUDES."
   ]
  },
  {
   "cell_type": "code",
   "execution_count": 17,
   "id": "cafcf1e0-d5a3-4d4c-b514-52bb21bcad08",
   "metadata": {},
   "outputs": [
    {
     "data": {
      "text/plain": [
       "<BarContainer object of 16 artists>"
      ]
     },
     "execution_count": 17,
     "metadata": {},
     "output_type": "execute_result"
    },
    {
     "data": {
      "image/png": "[encoded data removed]",
      "text/plain": [
       "<Figure size 720x288 with 1 Axes>"
      ]
     },
     "metadata": {
      "needs_background": "light"
     },
     "output_type": "display_data"
    }
   ],
   "source": [
    "amplitudes = ... # TODO\n",
    "plt.figure(figsize=(10, 4))\n",
    "plt.bar(range(len(data)), amplitudes)"
   ]
  },
  {
   "cell_type": "markdown",
   "id": "c990e675-5636-46b9-adf0-6078762da8ed",
   "metadata": {},
   "source": [
    "# Restore the data sum"
   ]
  },
  {
   "cell_type": "code",
   "execution_count": 30,
   "id": "cdbe44ef-75f1-46ab-be6e-65e6fe5d3926",
   "metadata": {},
   "outputs": [
    {
     "data": {
      "text/plain": [
       "<BarContainer object of 16 artists>"
      ]
     },
     "execution_count": 30,
     "metadata": {},
     "output_type": "execute_result"
    },
    {
     "data": {
      "image/png": "[encoded data removed]",
      "text/plain": [
       "<Figure size 720x288 with 1 Axes>"
      ]
     },
     "metadata": {
      "needs_background": "light"
     },
     "output_type": "display_data"
    }
   ],
   "source": [
    "finally_data = amplitudes / sum(amplitudes) * data_sum\n",
    "plt.figure(figsize=(10, 4))\n",
    "plt.bar(range(len(data)), finally_data)"
   ]
  }
 ],
 "metadata": {
  "kernelspec": {
   "display_name": "qiskit",
   "language": "python",
   "name": "qiskit"
  },
  "language_info": {
   "codemirror_mode": {
    "name": "ipython",
    "version": 3
   },
   "file_extension": ".py",
   "mimetype": "text/x-python",
   "name": "python",
   "nbconvert_exporter": "python",
   "pygments_lexer": "ipython3",
   "version": "3.9.7"
  }
 },
 "nbformat": 4,
 "nbformat_minor": 5
}
