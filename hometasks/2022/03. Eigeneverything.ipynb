{
 "cells": [
  {
   "cell_type": "markdown",
   "id": "3fad0faa-f650-4c7c-bb87-bf5bcbdc9819",
   "metadata": {},
   "source": [
    "# Some quantum math\n",
    "\n",
    "We will start our homework with the introduction of the operator of interes $P$. This operator is equivalent to the following graph:\n",
    "\n",
    "| Source | Destination | Weight |\n",
    "|---|---|---|\n",
    "| 0 | 1 | 1 |\n",
    "| 1 | 3 | -1 |\n",
    "| 3 | 2 | i|\n",
    "| 2 | 0 | -i|\n",
    "\n",
    "Your task is to provide an analysis of the operator's matrix: \n",
    "- obtain it's eigenvalues and \n",
    "- eigenvectors \n",
    "given a quantum computer. \n",
    "\n",
    "## Matrix construction and properties\n",
    "\n",
    "For the reference I already solved the same problem using a classical computer."
   ]
  },
  {
   "cell_type": "code",
   "execution_count": 1,
   "id": "13e1f5bc-d21d-4e9a-844f-25761032560e",
   "metadata": {},
   "outputs": [
    {
     "name": "stdout",
     "output_type": "stream",
     "text": [
      "eigenvalue:  -0.707107 + (0.707107)*j\n",
      "eigenphase: 3/8*π\n",
      "eigenvector: [-0.354+0.354j  0.5  -0.j     0.5  +0.j     0.354+0.354j]\n",
      "\n",
      "eigenvalue:  -0.707107 + (-0.707107)*j\n",
      "eigenphase: 5/8*π\n",
      "eigenvector: [ 0.354+0.354j -0.5  +0.j     0.5  +0.j    -0.354+0.354j]\n",
      "\n",
      "eigenvalue:  0.707107 + (0.707107)*j\n",
      "eigenphase: 1/8*π\n",
      "eigenvector: [-0.354-0.354j -0.5  +0.j     0.5  +0.j     0.354-0.354j]\n",
      "\n",
      "eigenvalue:  0.707107 + (-0.707107)*j\n",
      "eigenphase: 7/8*π\n",
      "eigenvector: [ 0.354-0.354j  0.5  +0.j     0.5  -0.j    -0.354-0.354j]\n",
      "\n"
     ]
    }
   ],
   "source": [
    "import numpy as np\n",
    "import cmath\n",
    "from fractions import Fraction\n",
    "\n",
    "\n",
    "np.set_printoptions(precision=3, suppress=True)\n",
    "\n",
    "\n",
    "P = np.zeros((4, 4), dtype=np.complex128)\n",
    "P[1, 0] = 1.\n",
    "P[3, 1] = -1.\n",
    "P[2, 3] = 1j\n",
    "P[0, 2] = -1j\n",
    "\n",
    "e_values, e_vectors = np.linalg.eig(P)\n",
    "\n",
    "for va, ve in zip(e_values, e_vectors.T):\n",
    "    print(f\"eigenvalue:  {va.real:4f} + ({va.imag:4f})*j\")\n",
    "    # %2 is used to obtain positive phases only\n",
    "    frac = Fraction(cmath.phase(va) / (2 * np.pi) % 1).limit_denominator(12)\n",
    "    print(f\"eigenphase: {frac}*π\")\n",
    "    print(f\"eigenvector: {ve}\")\n",
    "    print()"
   ]
  },
  {
   "cell_type": "markdown",
   "id": "edebbced-3aa8-4e94-a7cc-db1b200fcca6",
   "metadata": {},
   "source": [
    "### This is additional reading\n",
    "These two articles inspired me for the lab.\n",
    "\n",
    "- https://en.wikipedia.org/wiki/Ritz_method\n",
    "- https://qiskit.org/textbook/ch-labs/Lab02_QuantumMeasurement.html\n",
    "\n",
    "What you do here is different, but the schema is the same. Ritz method states that **minimal** energy of the Hamiltonian (Hermitian!) is obtained at the in the eigenstate of this Hamiltonian.\n",
    "\n",
    "Our hypothesis is similar, but DIFFERENT: the **maximum** of the operator (Unitary) is obtained at the eigenstate of the operator."
   ]
  },
  {
   "cell_type": "markdown",
   "id": "4f8bdc4a-3ecd-41b8-b0b6-a2f04b4d2099",
   "metadata": {},
   "source": [
    "## Obtaining eigenvector: hybrid algorithm\n",
    "\n",
    "Let us all understand the idea.\n",
    "\n",
    "We know, that $|\\langle \\psi | \\psi \\rangle|^2$ is equal to 1. This formula is equivalent to the circuit, performing initialization of the state, and then - inverse procedure:\n",
    "\n",
    "$1 = \\large |\\langle 0 | init^{\\dagger}_{\\psi} \\times init_{\\psi}| 0\\rangle|^2 = ...$.\n",
    "\n",
    "Due to the linearity of the system, the phase coefficient should not change the norm:\n",
    "\n",
    "$\\large ... = |e^{i\\phi}\\langle 0 | init^{\\dagger}_{\\psi} \\times init_{\\psi}| 0\\rangle|^2 = |\\langle 0 | init^{\\dagger}_{\\psi} \\times e^{i\\phi} \\times init_{\\psi}| 0\\rangle|^2$.\n",
    "\n",
    "If $|\\psi\\rangle$ is an eigenvector of some operator $U$, than this statement is also true:\n",
    "\n",
    "$\\large |\\langle 0 | init^{\\dagger}_{\\psi} \\times U \\times init_{\\psi}| 0\\rangle|^2 = 1$\n",
    "\n",
    "_One can also notice, that this problem is equivalent to computation of `fidelity` between $ |\\psi\\rangle$ and $ U|\\psi\\rangle$._\n",
    "\n",
    "\n",
    "for this formula $|\\langle \\psi|U|\\psi\\rangle|^2$ the value is maximized (and equals to 1) if and only if $|\\psi\\rangle$ is an **eigenvector** of $U$. Thus, given a matrix, we will search for $|\\psi\\rangle$ which is an eigenvector.\n",
    "\n",
    "Your soluting is a hybrid method.\n",
    "\n",
    "**Quantum part**:\n",
    "\n",
    "You will construct an algorithm which will evaluate a fidelity of the guessed state. IRL you cannot observe the vector. So, we construct the circuit of the following form.\n",
    "\n",
    "1. Your code should be wrapped into a function `loss(x: list) -> float`.\n",
    "2. First initialize the state $init_{\\psi}$\n",
    "3. Apply operator of interest $U$.\n",
    "4. Undo initialization computations $init^{\\dagger}_{\\psi}$.\n",
    "5. Measure. Measurement in state $|0\\rangle$ corresponds the fact, that $U$ makes no change (except maybe the phase) to $\\psi$. Report probability of $|0\\rangle$ as the result of the function.\n",
    "\n",
    "**Classical part**:\n",
    "\n",
    "1. Apply optimization method for the function `loss(x)` trying to minimize it's value. We will use [`optimize` module from scipy](https://docs.scipy.org/doc/scipy/reference/generated/scipy.optimize.minimize.html).\n",
    "\n",
    "\n",
    "__Important comment__\n",
    "\n",
    "We search for $\\psi$, which is (in our case) a 4-dimensional complex vector. This gives us 8 degrees of freedom for optimization, which is huuuge. Indeed, we have less (e.g, remove global phase, or consider norming constraint). So, we will prepare an [\"*ansatz*\"](https://en.wikipedia.org/wiki/Ansatz) -- a parametrized guess of the $\\psi$, a circiut which prepares a state given some real-values parameters. You may changed the proposed ansatz, but you don't have to.\n",
    "\n",
    "\n",
    "## So let us compose things together\n",
    "\n",
    "Here are constants, and the method which prepares ansatz for you."
   ]
  },
  {
   "cell_type": "code",
   "execution_count": 2,
   "id": "93fa2963-1074-42c4-8852-bbf89020c94a",
   "metadata": {},
   "outputs": [],
   "source": [
    "# constants and pre-definitions\n",
    "from qiskit import BasicAer, QuantumCircuit, execute\n",
    "\n",
    "backend = BasicAer.get_backend('qasm_simulator')\n",
    "SHOTS = 10000\n",
    "PARAMS_COUNT = 5\n",
    "\n",
    "def _ansatz(theta):\n",
    "    circuit = QuantumCircuit(2)  \n",
    "    circuit.ry(theta[0], 0)\n",
    "    circuit.ry(theta[1], 1)\n",
    "    circuit.crx(theta[2], 0, 1)\n",
    "    circuit.rz(theta[3], 0)\n",
    "    circuit.rz(theta[4], 1)\n",
    "    return circuit"
   ]
  },
  {
   "cell_type": "markdown",
   "id": "09c622a0-3e27-4e52-8d7d-f5c89b7de832",
   "metadata": {},
   "source": [
    "### Computing fidelity.\n",
    "\n",
    "Complete the method, which computes fidelity between $|ansatz\\rangle$ and $U|ansatz\\rangle$. Refer to the [definition of fidelity](https://en.wikipedia.org/wiki/Fidelity_of_quantum_states) if needed."
   ]
  },
  {
   "cell_type": "code",
   "execution_count": 3,
   "id": "96b09796-1ad3-454c-b65a-59b6672d3aea",
   "metadata": {},
   "outputs": [
    {
     "data": {
      "text/plain": [
       "0.2763"
      ]
     },
     "execution_count": 3,
     "metadata": {},
     "output_type": "execute_result"
    }
   ],
   "source": [
    "def compute_fidelity(theta, operator):\n",
    "    qc = QuantumCircuit(2)\n",
    "    \n",
    "    # your system starts in |0>\n",
    "    # 1. now you need to initialize the guess of PSI\n",
    "    # TODO - your code here \n",
    "    # [10] points\n",
    "    \n",
    "    \n",
    "    # 2. Then you run the operator of your interest\n",
    "    # TODO - your code here\n",
    "    # [10] points\n",
    "\n",
    "    # 3. Undo operations for state preparation\n",
    "    # TODO - your code here\n",
    "    # [10] points\n",
    "    \n",
    "    \n",
    "    qc.measure_all()   \n",
    "    counts = execute(qc, backend, shots=SHOTS).result().get_counts()\n",
    "    \n",
    "    # 4. compute the fidelity estimation.\n",
    "    # TODO - your code here\n",
    "    # [20] points\n",
    "    fidelity = ...\n",
    "    return fidelity\n",
    "    \n",
    "\n",
    "def loss(theta):\n",
    "    ''' Loss function will be minimized for operator P \n",
    "    '''\n",
    "    return 1. - compute_fidelity(theta, P)\n",
    "    \n",
    "\n",
    "# usage exasample\n",
    "compute_fidelity(theta=[1, -1, 1, -1, 0.5], operator=P)"
   ]
  },
  {
   "cell_type": "markdown",
   "id": "aa8f300d-0a0c-4e71-b6a6-84c0e75befc9",
   "metadata": {},
   "source": [
    "### Let's apply the method and print results\n",
    "\n",
    "Even if variational methods utilitize iterative optimization tools (like gradient descent), the probabilistic nature of the measurement may lead to a very bad convergence. Still, you may try them by changing `shgo` (global) to `minimize` call.\n",
    "\n",
    "We will launch hybrid algorithm 3 times to obtain the best approximation."
   ]
  },
  {
   "cell_type": "code",
   "execution_count": 4,
   "id": "81767ec9-9d0d-43b9-a037-c189f20fb124",
   "metadata": {},
   "outputs": [
    {
     "name": "stderr",
     "output_type": "stream",
     "text": [
      "/Users/sprotasov/opt/anaconda3/lib/python3.9/site-packages/scipy/optimize/optimize.py:282: RuntimeWarning: Values in x were outside bounds during a minimize step, clipping to bounds\n",
      "  warnings.warn(\"Values in x were outside bounds during a \"\n"
     ]
    },
    {
     "name": "stdout",
     "output_type": "stream",
     "text": [
      "     fun: 0.1804\n",
      "    funl: array([0.18 , 0.195, 0.326, 0.439])\n",
      " message: 'Optimization terminated successfully.'\n",
      "    nfev: 151\n",
      "     nit: 2\n",
      "   nlfev: 51\n",
      "   nlhev: 0\n",
      "   nljev: 5\n",
      " success: True\n",
      "       x: array([-1.583, -1.36 ,  1.237, -1.197,  1.706])\n",
      "      xl: array([[-1.583, -1.36 ,  1.237, -1.197,  1.706],\n",
      "       [-1.195,  1.435,  1.637,  2.646,  2.545],\n",
      "       [-2.176, -2.289, -1.379,  3.13 , -1.453],\n",
      "       [-1.049,  1.223, -2.921, -1.524, -0.366]])\n",
      "Achieved fidelity: 0.8247\n",
      "Ansatz circuit:\n"
     ]
    },
    {
     "data": {
      "image/png": "[encoded data removed]",
      "text/plain": [
       "<Figure size 267.052x144.48 with 1 Axes>"
      ]
     },
     "metadata": {},
     "output_type": "display_data"
    },
    {
     "name": "stdout",
     "output_type": "stream",
     "text": [
      "Statevector (almost eigevector) [ 0.529-0.138j -0.311+0.417j -0.053-0.439j  0.272+0.402j]\n",
      "     fun: 0.348\n",
      "    funl: array([0.348, 0.381, 0.516])\n",
      " message: 'Optimization terminated successfully.'\n",
      "    nfev: 214\n",
      "     nit: 2\n",
      "   nlfev: 114\n",
      "   nlhev: 0\n",
      "   nljev: 9\n",
      " success: True\n",
      "       x: array([-2.366,  1.534, -2.269,  1.52 ,  2.71 ])\n",
      "      xl: array([[-2.366,  1.534, -2.269,  1.52 ,  2.71 ],\n",
      "       [-1.256, -1.098, -0.297, -1.433,  2.22 ],\n",
      "       [ 2.655,  1.358,  0.452,  2.157, -0.971]])\n",
      "Achieved fidelity: 0.6564\n",
      "Ansatz circuit:\n"
     ]
    },
    {
     "data": {
      "image/png": "[encoded data removed]",
      "text/plain": [
       "<Figure size 267.052x144.48 with 1 Axes>"
      ]
     },
     "metadata": {},
     "output_type": "display_data"
    },
    {
     "name": "stdout",
     "output_type": "stream",
     "text": [
      "Statevector (almost eigevector) [-0.141-0.233j -0.56 -0.324j  0.217+0.147j  0.657+0.081j]\n"
     ]
    },
    {
     "name": "stderr",
     "output_type": "stream",
     "text": [
      "/Users/sprotasov/opt/anaconda3/lib/python3.9/site-packages/scipy/optimize/optimize.py:282: RuntimeWarning: Values in x were outside bounds during a minimize step, clipping to bounds\n",
      "  warnings.warn(\"Values in x were outside bounds during a \"\n"
     ]
    },
    {
     "name": "stdout",
     "output_type": "stream",
     "text": [
      "     fun: 0.10029999999999994\n",
      "    funl: array([0.1])\n",
      " message: 'Optimization terminated successfully.'\n",
      "    nfev: 154\n",
      "     nit: 2\n",
      "   nlfev: 54\n",
      "   nlhev: 0\n",
      "   nljev: 4\n",
      " success: True\n",
      "       x: array([-1.562, -1.216,  0.206, -0.608,  2.438])\n",
      "      xl: array([[-1.562, -1.216,  0.206, -0.608,  2.438]])\n",
      "Achieved fidelity: 0.8953\n",
      "Ansatz circuit:\n"
     ]
    },
    {
     "data": {
      "image/png": "[encoded data removed]",
      "text/plain": [
       "<Figure size 267.052x144.48 with 1 Axes>"
      ]
     },
     "metadata": {},
     "output_type": "display_data"
    },
    {
     "name": "stdout",
     "output_type": "stream",
     "text": [
      "Statevector (almost eigevector) [ 0.356-0.462j -0.069+0.572j -0.019-0.405j  0.197+0.353j]\n"
     ]
    }
   ],
   "source": [
    "from scipy.optimize import minimize, shgo\n",
    "from math import pi\n",
    "\n",
    "best_vector = None\n",
    "best_fidelity = -1.\n",
    "\n",
    "for i in range(3):\n",
    "    # this is the main part of the code\n",
    "    global_minimum = shgo(\n",
    "            loss, \n",
    "            [(-pi, pi)] * PARAMS_COUNT, \n",
    "            sampling_method='halton')\n",
    "    print(global_minimum)\n",
    "    \n",
    "    \n",
    "    # here is some visualization\n",
    "    fid = compute_fidelity(global_minimum.x, P)\n",
    "    print(f\"Achieved fidelity: {fid}\")\n",
    "    \n",
    "    print(\"Ansatz circuit:\")\n",
    "    qc = QuantumCircuit(2)\n",
    "    qc.append(_ansatz(global_minimum.x), [0, 1])\n",
    "    display(qc.decompose().draw('mpl'))\n",
    "    \n",
    "    sv = execute(qc, \n",
    "                 BasicAer.get_backend('statevector_simulator')\n",
    "                ).result().get_statevector()\n",
    "    if best_fidelity < compute_fidelity(global_minimum.x, P):\n",
    "        best_fidelity = fid\n",
    "        best_vector = sv\n",
    "        \n",
    "    print(\"Statevector (almost eigevector)\", sv)"
   ]
  },
  {
   "cell_type": "markdown",
   "id": "e4f9d341-2bb8-47fc-9462-8da31b3a940a",
   "metadata": {},
   "source": [
    "### Compare your vector with the precomputed ones."
   ]
  },
  {
   "cell_type": "code",
   "execution_count": 5,
   "id": "d55784af-6478-473f-8483-9774819b4cc7",
   "metadata": {},
   "outputs": [
    {
     "name": "stdout",
     "output_type": "stream",
     "text": [
      "Fidelity is: 0.0502; corresponding eigenphase: 2.356194490192345\n",
      "Fidelity is: 0.9471; corresponding eigenphase: -2.356194490192345\n",
      "Fidelity is: 0.0001; corresponding eigenphase: 0.7853981633974485\n",
      "Fidelity is: 0.0026; corresponding eigenphase: -0.7853981633974483\n"
     ]
    }
   ],
   "source": [
    "from qiskit.quantum_info import Statevector\n",
    "\n",
    "for val, vec in zip(e_values, e_vectors.T):\n",
    "    from qiskit.quantum_info import state_fidelity, Statevector\n",
    "    \n",
    "    fi = state_fidelity(best_vector, Statevector(vec))\n",
    "    print(f\"Fidelity is: {fi:.4f}; corresponding eigenphase: {cmath.phase(val)}\")"
   ]
  },
  {
   "cell_type": "markdown",
   "id": "9bca04ec-c401-4550-ac3b-b3882cbf46c6",
   "metadata": {},
   "source": [
    "## QPE: quantum phase estimation\n",
    "\n",
    "QPE is an algorithm which estimates phase value (in shares of full circle). Apply it to obtain the value of the eigenphase and eigenvalue."
   ]
  },
  {
   "cell_type": "code",
   "execution_count": null,
   "id": "46524fdb-4a92-4502-bcb9-af4181c99cb1",
   "metadata": {},
   "outputs": [],
   "source": [
    "from qiskit.circuit.library import PhaseEstimation\n",
    "from qiskit.extensions import UnitaryGate\n",
    "\n",
    "PRECISION = 4\n",
    "\n",
    "qc = QuantumCircuit(PRECISION + 2, PRECISION)\n",
    "\n",
    "# TODO: implemend a QPE circuit for `best_vector` vector.\n",
    "# [30] points\n",
    "\n",
    "qc.draw('mpl', scale=.5)"
   ]
  },
  {
   "cell_type": "code",
   "execution_count": 7,
   "id": "82a1ffdd-71eb-4a48-baac-32eb0b19c757",
   "metadata": {},
   "outputs": [
    {
     "data": {
      "image/png": "[encoded data removed]",
      "text/plain": [
       "<Figure size 504x360 with 1 Axes>"
      ]
     },
     "execution_count": 7,
     "metadata": {},
     "output_type": "execute_result"
    }
   ],
   "source": [
    "counts = execute(qc, backend, shots=10000).result().get_counts()\n",
    "from qiskit.visualization import plot_histogram\n",
    "plot_histogram(counts)"
   ]
  },
  {
   "cell_type": "code",
   "execution_count": 8,
   "id": "c3474738-dc62-4a78-bb75-1b9acb338d72",
   "metadata": {},
   "outputs": [
    {
     "name": "stdout",
     "output_type": "stream",
     "text": [
      "5/8*π\n"
     ]
    }
   ],
   "source": [
    "# TODO print the correct extimation of the eigenphase \n",
    "# given the results of measurement\n",
    "# write your code here\n",
    "# [20] points"
   ]
  }
 ],
 "metadata": {
  "kernelspec": {
   "display_name": "qiskit",
   "language": "python",
   "name": "qiskit"
  },
  "language_info": {
   "codemirror_mode": {
    "name": "ipython",
    "version": 3
   },
   "file_extension": ".py",
   "mimetype": "text/x-python",
   "name": "python",
   "nbconvert_exporter": "python",
   "pygments_lexer": "ipython3",
   "version": "3.9.7"
  }
 },
 "nbformat": 4,
 "nbformat_minor": 5
}
