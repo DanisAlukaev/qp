{
 "cells": [
  {
   "cell_type": "markdown",
   "id": "dedf600f-f3fd-4152-8e2b-897fcf404313",
   "metadata": {},
   "source": [
    "# 1. [50] Missing gates\n",
    "\n",
    "A professor was explaning an algorithm and draw a circuit on the writeboard, but after the lecture one of your classmates erased a few gates in the middle. You were late, so you came to copy the ciruit to your notebook. Now you need to restore the missing gates given:\n",
    "- empirical distribution (observations) and the statevector.\n",
    "\n",
    "**Requirements**:\n",
    "- don't try to guess the gate by substitution. No way. You have to provide a solution.\n",
    "- solve the problem \"with pen and paper\" - write your solution in `sympy` of just with pure $\\LaTeX$."
   ]
  },
  {
   "cell_type": "code",
   "execution_count": null,
   "id": "3000f1ad-cf5d-4de9-a576-9f6e2798cbcf",
   "metadata": {},
   "outputs": [],
   "source": [
    "from qiskit import QuantumRegister, ClassicalRegister, QuantumCircuit, execute, BasicAer\n",
    "from qiskit.visualization import plot_histogram\n",
    "from numpy import pi\n",
    "\n",
    "qreg = QuantumRegister(3, 'qubits')\n",
    "creg = ClassicalRegister(3, 'bits')\n",
    "qc = QuantumCircuit(qreg, creg)\n",
    "\n",
    "# set data\n",
    "qc.ry(pi / 3, qreg[0])\n",
    "qc.barrier()\n",
    "\n",
    "#############################\n",
    "#                           #\n",
    "#      MISSING PART         #\n",
    "#                           #\n",
    "#############################\n",
    "\n",
    "# entangle\n",
    "qc.cx(qreg[1], qreg[2])\n",
    "qc.h(qreg[1])\n",
    "\n",
    "# disentangle\n",
    "qc.h(qreg[0])\n",
    "qc.cx(qreg[0], qreg[1])\n",
    "qc.h(1)\n",
    "qc.cx(2, 1)\n",
    "qc.h([0])\n",
    "\n",
    "qc.barrier()\n",
    "qc.measure(qreg, creg)\n",
    "\n",
    "qc.draw()"
   ]
  },
  {
   "cell_type": "markdown",
   "id": "b3b365f4-682a-489a-b3dd-375962898961",
   "metadata": {},
   "source": [
    "```\n",
    "          ┌─────────┐  ░░░░░░░░░░┌───┐          ┌───┐       ┌─┐      \n",
    "qubits_0: ┤ Ry(π/3) ├──░░░░░░░░░░┤ H ├───────■──┤ H ├───────┤M├──────\n",
    "          └─────────┘  ░░░░░░░░░░└───┘┌───┐┌─┴─┐├───┤┌───┐  └╥┘┌─┐   \n",
    "qubits_1: ─────────────░░░░░░░░░░──■──┤ H ├┤ X ├┤ H ├┤ X ├───╫─┤M├───\n",
    "                       ░░░░░░░░░░┌─┴─┐└───┘└───┘└───┘└─┬─┘   ║ └╥┘┌─┐\n",
    "qubits_2: ───────────────────────┤ X ├─────────────────■─────╫──╫─┤M├\n",
    "                                 └───┘                       ║  ║ └╥┘\n",
    "  bits: 3/═══════════════════════════════════════════════════╩══╩══╩═\n",
    "                                                             0  1  2 \n",
    "```"
   ]
  },
  {
   "cell_type": "code",
   "execution_count": 2,
   "id": "d08de685-56ec-4559-878d-1e57eeb9ccfa",
   "metadata": {},
   "outputs": [
    {
     "data": {
      "image/png": "[encoded data removed]",
      "text/plain": [
       "<Figure size 504x360 with 1 Axes>"
      ]
     },
     "execution_count": 2,
     "metadata": {},
     "output_type": "execute_result"
    }
   ],
   "source": [
    "qpu = BasicAer.get_backend('qasm_simulator')\n",
    "hist = execute(qc, qpu, shots=65535).result().get_counts()\n",
    "plot_histogram(hist)"
   ]
  },
  {
   "cell_type": "code",
   "execution_count": 3,
   "id": "a9775a52-5c74-44fc-9bd6-7e9a95486637",
   "metadata": {},
   "outputs": [
    {
     "data": {
      "text/plain": [
       "array([0.96593, 0.     , 0.     , 0.     , 0.25882, 0.     , 0.     ,\n",
       "       0.     ])"
      ]
     },
     "execution_count": 3,
     "metadata": {},
     "output_type": "execute_result"
    }
   ],
   "source": [
    "import numpy as np\n",
    "np.set_printoptions(precision=5)\n",
    "svqpu = BasicAer.get_backend('statevector_simulator')\n",
    "\n",
    "# cool thing you may want to use when going from one type of simulator to another\n",
    "qc.remove_final_measurements()\n",
    "# the result is real-valued. We remain real part just for clarity.\n",
    "execute(qc, svqpu).result().get_statevector().real\n",
    "\n",
    "## NB please make sure you understand, \n",
    "# that in IBMs world the \"2nd\" qubit is living in the rightmost position\n",
    "# which is kind of weird."
   ]
  },
  {
   "cell_type": "markdown",
   "id": "2643064e-754e-4f53-82f9-a8f6d474ca23",
   "metadata": {},
   "source": [
    "$$\\newcommand{\\ket}[1]{\\left|{#1}\\right\\rangle}$$\n",
    "$$\\newcommand{\\bra}[1]{\\left\\langle{#1}\\right|}$$\n",
    "Let me help you with the task )) \n",
    "\n",
    "If unknown transformation is called $Q$, we can rewrite the program in matrix form like:\n",
    "\n",
    "$(Remainder)\\times\\left(Q\\otimes I\\right)\\times\\left( RY(\\frac{\\pi}{3})\\otimes I\\otimes I\\right)\\ket{000}=\\ket{\\psi}$\n",
    "\n",
    "1. Solve this equation for $Q\\otimes I$. Then compute actual matrix using numpy. NB! Matrices are attached in reverse order compared to the gates order.\n",
    "2. Look at the resulting matrix, can you find $Q$?\n",
    "3. Now look at $Q$. How it acts on $\\ket{00}$? Did we see this operator before? Which primitive gates it consists of?\n",
    "4. Add missing gates to the program and run to obtain the same result."
   ]
  },
  {
   "cell_type": "markdown",
   "id": "4ac04c6e-81ac-4c88-b5b4-9e0a8a01fbb1",
   "metadata": {},
   "source": [
    "# 2. [50] Invent a CRY($\\frac{\\pi}{2}$) gate\n",
    "\n",
    "Assume you have only arbitrary 1-qubit gates + $CNOT$. How to construct $CRY$ gate of them?\n",
    "\n",
    "Base your solution on [this classical paper](https://arxiv.org/abs/quant-ph/0406176), pay attention to: formula 13 (what is multiplexor) and **chapter 3.1**. It explicitly says what you should do.\n",
    "\n",
    "**Provide both code and justification!**\n",
    "\n",
    "HINT: $CRY(\\phi)$ is a multiplexor $I\\oplus RY(\\phi) = RY(0)\\oplus RY(\\phi)$"
   ]
  },
  {
   "cell_type": "code",
   "execution_count": 4,
   "id": "45fe8724-46c1-4d9f-8028-dea479e394df",
   "metadata": {},
   "outputs": [
    {
     "data": {
      "text/html": [
       "<pre style=\"word-wrap: normal;white-space: pre;background: #fff0;line-height: 1.1;font-family: &quot;Courier New&quot;,Courier,monospace\">          ┌───┐           \n",
       "qubits_0: ┤ H ├─────■─────\n",
       "          └───┘┌────┴────┐\n",
       "qubits_1: ─────┤ Ry(π/2) ├\n",
       "               └─────────┘\n",
       "  bits: 2/════════════════\n",
       "                          </pre>"
      ],
      "text/plain": [
       "          ┌───┐           \n",
       "qubits_0: ┤ H ├─────■─────\n",
       "          └───┘┌────┴────┐\n",
       "qubits_1: ─────┤ Ry(π/2) ├\n",
       "               └─────────┘\n",
       "  bits: 2/════════════════\n",
       "                          "
      ]
     },
     "metadata": {},
     "output_type": "display_data"
    },
    {
     "data": {
      "text/plain": [
       "array([0.70711, 0.5    , 0.     , 0.5    ])"
      ]
     },
     "execution_count": 4,
     "metadata": {},
     "output_type": "execute_result"
    }
   ],
   "source": [
    "from qiskit import QuantumRegister, ClassicalRegister, QuantumCircuit, execute, BasicAer, transpile\n",
    "from qiskit.visualization import plot_histogram\n",
    "from numpy import pi\n",
    "\n",
    "qreg = QuantumRegister(2, 'qubits')\n",
    "creg = ClassicalRegister(2, 'bits')\n",
    "qc = QuantumCircuit(qreg, creg)\n",
    "\n",
    "qc.h(0)\n",
    "qc.cry(np.pi/2, 0, 1)\n",
    "\n",
    "display(qc.draw())\n",
    "\n",
    "import numpy as np\n",
    "np.set_printoptions(precision=5)\n",
    "svqpu = BasicAer.get_backend('statevector_simulator')\n",
    "execute(qc, svqpu).result().get_statevector().real"
   ]
  },
  {
   "cell_type": "code",
   "execution_count": 6,
   "id": "0c68a596-7d64-43a8-9df0-6d9a8d5b4d3b",
   "metadata": {},
   "outputs": [
    {
     "data": {
      "text/plain": [
       "array([0.70711, 0.5    , 0.     , 0.5    ])"
      ]
     },
     "execution_count": 6,
     "metadata": {},
     "output_type": "execute_result"
    }
   ],
   "source": [
    "qreg = QuantumRegister(2, 'qubits')\n",
    "creg = ClassicalRegister(2, 'bits')\n",
    "qc = QuantumCircuit(qreg, creg)\n",
    "\n",
    "qc.h(0)\n",
    "\n",
    "# your code and comments are here\n",
    "\n",
    "# display(qc.draw())\n",
    "\n",
    "import numpy as np\n",
    "np.set_printoptions(precision=5)\n",
    "svqpu = BasicAer.get_backend('statevector_simulator')\n",
    "execute(qc, svqpu).result().get_statevector().real"
   ]
  },
  {
   "cell_type": "markdown",
   "id": "35a0f830-5415-4a4b-b606-68cd869d2a42",
   "metadata": {},
   "source": [
    "After the homework ask the professor to show, how to solve the same problem with transpilation :)"
   ]
  }
 ],
 "metadata": {
  "kernelspec": {
   "display_name": "qiskit",
   "language": "python",
   "name": "qiskit"
  },
  "language_info": {
   "codemirror_mode": {
    "name": "ipython",
    "version": 3
   },
   "file_extension": ".py",
   "mimetype": "text/x-python",
   "name": "python",
   "nbconvert_exporter": "python",
   "pygments_lexer": "ipython3",
   "version": "3.9.7"
  }
 },
 "nbformat": 4,
 "nbformat_minor": 5
}
