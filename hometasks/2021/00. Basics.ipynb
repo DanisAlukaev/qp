{
 "cells": [
  {
   "cell_type": "markdown",
   "id": "0c0e35d0-2fe9-418e-a426-6ad2d5859943",
   "metadata": {},
   "source": [
    "# Homework 1\n",
    "\n",
    "## Task 1. 50 points. CH\n",
    "Implement Controlled-Hadamard operator using method given in class:\n",
    "1. Write a matrix form of this operator\n",
    "2. Find a valid decomposition into unary gates and `CX`/`CZ` operators. Prove with matrix operations.\n",
    "3. Prove that your code is correct with simulation.\n",
    "4. Run on a real quantum computer.\n",
    "\n",
    "Hints for homework.\n",
    "\n",
    "1. Search $ABC=I$ decomposition in a form of real-values matrices.\n",
    "2. Reframe this equality as $Ref(\\alpha)*Rot(\\beta)*Ref(\\gamma)=Rot(\\delta)$. Refer to the [properties of rotations and reflections](https://en.wikipedia.org/wiki/Rotations_and_reflections_in_two_dimensions) to simplify the equation. BTW, what is $\\delta$?\n",
    "3. Solve for $\\alpha, \\beta, \\gamma$.\n",
    "4. [Search in a form of](https://qiskit.org/textbook/ch-gates/more-circuit-identities.html#3.-Controlled-Rotations-) $e^{i\\phi}AZBZC=H$. As we search for real-valued solutions you can stick to $e^{i\\phi}=Z$. And $Z=Ref(0)$.\n",
    "5. To express $Ref(\\zeta)$ remember [identities about rotations and reflections](https://en.wikipedia.org/wiki/Rotations_and_reflections_in_two_dimensions). E.g. $Rot(2\\zeta)*Ref(0)=Ref(\\zeta)$.\n",
    "6. How to implement real-valued rotation? We don't touch complex space! Thus, we dock to $XZ$ plane. Thus, we rotate our qubit states around $Y$."
   ]
  },
  {
   "cell_type": "code",
   "execution_count": 189,
   "id": "f2846b56-88de-4f7e-9d2c-451700bb3f4e",
   "metadata": {},
   "outputs": [
    {
     "name": "stdout",
     "output_type": "stream",
     "text": [
      "0.0625 -0.125 0.125\n",
      "[[ 1.00000000e+00 -6.83580866e-17]\n",
      " [ 1.21168839e-16  1.00000000e+00]]\n",
      "True\n",
      "---------------\n",
      "[[ 0.70710678  0.70710678]\n",
      " [ 0.70710678 -0.70710678]]\n",
      "True\n",
      "[[ 1.00000000e+00 -6.83580866e-17  0.00000000e+00  0.00000000e+00]\n",
      " [ 1.21168839e-16  1.00000000e+00  0.00000000e+00  0.00000000e+00]\n",
      " [ 0.00000000e+00  0.00000000e+00  7.07106781e-01  7.07106781e-01]\n",
      " [ 0.00000000e+00  0.00000000e+00  7.07106781e-01 -7.07106781e-01]]\n"
     ]
    }
   ],
   "source": [
    "# you can write your code and markdown here.\n",
    "\n",
    "\n",
    "\n",
    "\n"
   ]
  },
  {
   "cell_type": "markdown",
   "id": "ae1879a1-e1f6-44f5-9c14-fdc226794453",
   "metadata": {},
   "source": [
    "## Task 2. Binary logics. 50 points. \n",
    "\n",
    "Implement a logic schema, which for $A, B, C$ qubits computes $(A\\wedge B)\\vee C\\leftrightarrow (A\\vee C)\\wedge (B\\vee C)$ with, maybe, ancillary qubits. Prove with simulation this is a tautology.\n",
    "1. Represent $\\wedge,\\vee,\\leftrightarrow$ logic operations with quantum gates.\n",
    "2. Compose a schema with barriers to show your actions.\n",
    "3. Apply this to a superposed state. Use this for proof."
   ]
  },
  {
   "cell_type": "code",
   "execution_count": 1,
   "id": "a522bd3a-edcc-4548-abd8-04171bdcc6e8",
   "metadata": {},
   "outputs": [],
   "source": [
    "# you can write your code and markdown here."
   ]
  }
 ],
 "metadata": {
  "kernelspec": {
   "display_name": "qiskit",
   "language": "python",
   "name": "qiskit"
  },
  "language_info": {
   "codemirror_mode": {
    "name": "ipython",
    "version": 3
   },
   "file_extension": ".py",
   "mimetype": "text/x-python",
   "name": "python",
   "nbconvert_exporter": "python",
   "pygments_lexer": "ipython3",
   "version": "3.9.7"
  }
 },
 "nbformat": 4,
 "nbformat_minor": 5
}
