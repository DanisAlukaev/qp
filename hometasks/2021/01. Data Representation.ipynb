{
 "cells": [
  {
   "cell_type": "markdown",
   "id": "9b5cec0f-ecda-4949-b0de-d8818427cf83",
   "metadata": {},
   "source": [
    "# A. Classic code in quantum computer\n",
    "\n",
    "Use **2's complement** and fixed point 4-qubit representation (3+1) implement this logic:\n",
    "\n",
    "```\n",
    "let phi = (|-3> + |2>) / sqrt(2)\n",
    "if (phi / 2 < -1) {\n",
    "    flip_phase(phi)\n",
    "}\n",
    "```\n",
    "\n",
    "Expected output: `phi = (-|-3> + |2>) / sqrt(2)`.\n",
    "\n",
    "TODO:\n",
    "1. [10] Implement superposed state. Prove the result with simulation.\n",
    "2. [20] Implement `phi / 2`, `phi * 2`. Prove with a demo.\n",
    "3. [30] Flip the phase and prove it by the result of `statevector_simulator`.\n",
    "\n",
    "Hints:\n",
    "1. You can use [SWAP gate](https://qiskit.org/textbook/ch-gates/more-circuit-identities.html#swapping) to implement bit shift. Be careful with sign!"
   ]
  },
  {
   "cell_type": "code",
   "execution_count": null,
   "id": "7c833715-9a22-4190-a84d-adaa92e8899d",
   "metadata": {},
   "outputs": [],
   "source": [
    "# TODO place for your code"
   ]
  },
  {
   "cell_type": "markdown",
   "id": "1b9885e1-baa8-4230-97f2-7750d925ac03",
   "metadata": {},
   "source": [
    "# B. Encode a vector\n",
    "\n",
    "1. Encode a vector `[0.8, 0, 0, 0.6]` in the states of 2 qubits (phase or amplitude, up to you) [20].\n",
    "2. Find a transformation, which will make it `[0, 0, 0.6, 0.8]` [20]. \n",
    "3. Justify with experiment [10]."
   ]
  },
  {
   "cell_type": "code",
   "execution_count": null,
   "id": "be1376d7-cb41-4c8e-8db6-78cb33770b1f",
   "metadata": {},
   "outputs": [],
   "source": [
    "# TODO place for your code"
   ]
  }
 ],
 "metadata": {
  "kernelspec": {
   "display_name": "qiskit",
   "language": "python",
   "name": "qiskit"
  },
  "language_info": {
   "codemirror_mode": {
    "name": "ipython",
    "version": 3
   },
   "file_extension": ".py",
   "mimetype": "text/x-python",
   "name": "python",
   "nbconvert_exporter": "python",
   "pygments_lexer": "ipython3",
   "version": "3.9.7"
  }
 },
 "nbformat": 4,
 "nbformat_minor": 5
}
